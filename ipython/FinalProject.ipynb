{
 "cells": [
  {
   "cell_type": "markdown",
   "metadata": {},
   "source": [
    "# Airbnb House Analysis and Recommender Application"
   ]
  },
  {
   "cell_type": "markdown",
   "metadata": {},
   "source": [
    "##### Jie Bao, Kuangyi Zhang, Lanny Xu\n",
    "##### Dr. Bamshad Mobasher, Spring 2018"
   ]
  },
  {
   "cell_type": "markdown",
   "metadata": {},
   "source": [
    "### Import Library"
   ]
  },
  {
   "cell_type": "code",
   "execution_count": 1,
   "metadata": {
    "collapsed": false
   },
   "outputs": [
    {
     "name": "stdout",
     "output_type": "stream",
     "text": [
      "Populating the interactive namespace from numpy and matplotlib\n"
     ]
    },
    {
     "name": "stderr",
     "output_type": "stream",
     "text": [
      "D:\\ProgramData\\Anaconda2\\lib\\site-packages\\sklearn\\cross_validation.py:44: DeprecationWarning: This module was deprecated in version 0.18 in favor of the model_selection module into which all the refactored classes and functions are moved. Also note that the interface of the new CV iterators are different from that of this module. This module will be removed in 0.20.\n",
      "  \"This module will be removed in 0.20.\", DeprecationWarning)\n",
      "D:\\ProgramData\\Anaconda2\\lib\\site-packages\\sklearn\\grid_search.py:43: DeprecationWarning: This module was deprecated in version 0.18 in favor of the model_selection module into which all the refactored classes and functions are moved. This module will be removed in 0.20.\n",
      "  DeprecationWarning)\n",
      "D:\\ProgramData\\Anaconda2\\lib\\site-packages\\sklearn\\lda.py:6: DeprecationWarning: lda.LDA has been moved to discriminant_analysis.LinearDiscriminantAnalysis in 0.17 and will be removed in 0.19\n",
      "  \"in 0.17 and will be removed in 0.19\", DeprecationWarning)\n",
      "D:\\ProgramData\\Anaconda2\\lib\\site-packages\\sklearn\\learning_curve.py:23: DeprecationWarning: This module was deprecated in version 0.18 in favor of the model_selection module into which all the functions are moved. This module will be removed in 0.20\n",
      "  DeprecationWarning)\n",
      "D:\\ProgramData\\Anaconda2\\lib\\site-packages\\sklearn\\qda.py:6: DeprecationWarning: qda.QDA has been moved to discriminant_analysis.QuadraticDiscriminantAnalysis in 0.17 and will be removed in 0.19.\n",
      "  \"in 0.17 and will be removed in 0.19.\", DeprecationWarning)\n"
     ]
    }
   ],
   "source": [
    "%pylab inline\n",
    "import pandas as pd\n",
    "import numpy as np\n",
    "import matplotlib.pyplot as plt\n",
    "\n",
    "from sklearn import *\n",
    "from sklearn import neighbors, tree, naive_bayes, cross_validation\n",
    "from sklearn.cross_validation import KFold\n",
    "from sklearn.metrics import classification_report, confusion_matrix\n",
    "from sklearn.linear_model import LinearRegression, Lasso, Ridge, ElasticNet, SGDRegressor, LogisticRegression\n",
    "from sklearn.grid_search import GridSearchCV\n",
    "\n",
    "from sklearn import preprocessing\n",
    "from sklearn.preprocessing import StandardScaler\n",
    "from sklearn import feature_selection\n",
    "from sklearn import cross_validation\n",
    "import operator"
   ]
  },
  {
   "cell_type": "markdown",
   "metadata": {},
   "source": [
    "### Read in data and preprocessing"
   ]
  },
  {
   "cell_type": "markdown",
   "metadata": {},
   "source": [
    "#### Read in data"
   ]
  },
  {
   "cell_type": "code",
   "execution_count": 2,
   "metadata": {
    "collapsed": false
   },
   "outputs": [
    {
     "name": "stdout",
     "output_type": "stream",
     "text": [
      "(5207, 38)\n"
     ]
    },
    {
     "data": {
      "text/html": [
       "<div>\n",
       "<table border=\"1\" class=\"dataframe\">\n",
       "  <thead>\n",
       "    <tr style=\"text-align: right;\">\n",
       "      <th></th>\n",
       "      <th>listing_url</th>\n",
       "      <th>name</th>\n",
       "      <th>summary</th>\n",
       "      <th>picture_url</th>\n",
       "      <th>host_response_time</th>\n",
       "      <th>host_response_rate</th>\n",
       "      <th>host_is_superhost</th>\n",
       "      <th>host_identity_verified</th>\n",
       "      <th>neighbourhood_cleansed</th>\n",
       "      <th>state</th>\n",
       "      <th>...</th>\n",
       "      <th>review_scores_rating</th>\n",
       "      <th>review_scores_accuracy</th>\n",
       "      <th>review_scores_cleanliness</th>\n",
       "      <th>review_scores_checkin</th>\n",
       "      <th>review_scores_communication</th>\n",
       "      <th>review_scores_location</th>\n",
       "      <th>review_scores_value</th>\n",
       "      <th>instant_bookable</th>\n",
       "      <th>cancellation_policy</th>\n",
       "      <th>reviews_per_month</th>\n",
       "    </tr>\n",
       "    <tr>\n",
       "      <th>id</th>\n",
       "      <th></th>\n",
       "      <th></th>\n",
       "      <th></th>\n",
       "      <th></th>\n",
       "      <th></th>\n",
       "      <th></th>\n",
       "      <th></th>\n",
       "      <th></th>\n",
       "      <th></th>\n",
       "      <th></th>\n",
       "      <th></th>\n",
       "      <th></th>\n",
       "      <th></th>\n",
       "      <th></th>\n",
       "      <th></th>\n",
       "      <th></th>\n",
       "      <th></th>\n",
       "      <th></th>\n",
       "      <th></th>\n",
       "      <th></th>\n",
       "      <th></th>\n",
       "    </tr>\n",
       "  </thead>\n",
       "  <tbody>\n",
       "    <tr>\n",
       "      <th>13824783</th>\n",
       "      <td>https://www.airbnb.com/rooms/13824783</td>\n",
       "      <td>Full floor of a city cottage (up to 4 guests)</td>\n",
       "      <td>This 3rd-floor garrett apartment (built-out at...</td>\n",
       "      <td>https://a0.muscache.com/im/pictures/510d45f8-e...</td>\n",
       "      <td>within an hour</td>\n",
       "      <td>100%</td>\n",
       "      <td>t</td>\n",
       "      <td>t</td>\n",
       "      <td>Lincoln Square</td>\n",
       "      <td>IL</td>\n",
       "      <td>...</td>\n",
       "      <td>99.0</td>\n",
       "      <td>10.0</td>\n",
       "      <td>10.0</td>\n",
       "      <td>10.0</td>\n",
       "      <td>10.0</td>\n",
       "      <td>10.0</td>\n",
       "      <td>10.0</td>\n",
       "      <td>t</td>\n",
       "      <td>moderate</td>\n",
       "      <td>2.57</td>\n",
       "    </tr>\n",
       "    <tr>\n",
       "      <th>16740225</th>\n",
       "      <td>https://www.airbnb.com/rooms/16740225</td>\n",
       "      <td>Guest Room of Two Bedroom Condo</td>\n",
       "      <td>Warm and secure room in a Two Bedroom Condo lo...</td>\n",
       "      <td>https://a0.muscache.com/im/pictures/697182d3-d...</td>\n",
       "      <td>within an hour</td>\n",
       "      <td>100%</td>\n",
       "      <td>f</td>\n",
       "      <td>t</td>\n",
       "      <td>Lincoln Square</td>\n",
       "      <td>IL</td>\n",
       "      <td>...</td>\n",
       "      <td>NaN</td>\n",
       "      <td>NaN</td>\n",
       "      <td>NaN</td>\n",
       "      <td>NaN</td>\n",
       "      <td>NaN</td>\n",
       "      <td>NaN</td>\n",
       "      <td>NaN</td>\n",
       "      <td>t</td>\n",
       "      <td>strict</td>\n",
       "      <td>NaN</td>\n",
       "    </tr>\n",
       "    <tr>\n",
       "      <th>18125245</th>\n",
       "      <td>https://www.airbnb.com/rooms/18125245</td>\n",
       "      <td>Cozy, spacious 2 flat in Lincoln Square!</td>\n",
       "      <td>This cute, spacious 2 flat in Lincoln Square i...</td>\n",
       "      <td>https://a0.muscache.com/im/pictures/bf761217-c...</td>\n",
       "      <td>within an hour</td>\n",
       "      <td>100%</td>\n",
       "      <td>f</td>\n",
       "      <td>t</td>\n",
       "      <td>Lincoln Square</td>\n",
       "      <td>IL</td>\n",
       "      <td>...</td>\n",
       "      <td>95.0</td>\n",
       "      <td>10.0</td>\n",
       "      <td>10.0</td>\n",
       "      <td>10.0</td>\n",
       "      <td>10.0</td>\n",
       "      <td>10.0</td>\n",
       "      <td>10.0</td>\n",
       "      <td>f</td>\n",
       "      <td>moderate</td>\n",
       "      <td>4.00</td>\n",
       "    </tr>\n",
       "    <tr>\n",
       "      <th>8362570</th>\n",
       "      <td>https://www.airbnb.com/rooms/8362570</td>\n",
       "      <td>Lincoln Square Ravenswood</td>\n",
       "      <td>Lincoln square, Ravenswood and Andersonville g...</td>\n",
       "      <td>https://a0.muscache.com/im/pictures/224a38c0-a...</td>\n",
       "      <td>within a few hours</td>\n",
       "      <td>100%</td>\n",
       "      <td>t</td>\n",
       "      <td>t</td>\n",
       "      <td>Lincoln Square</td>\n",
       "      <td>IL</td>\n",
       "      <td>...</td>\n",
       "      <td>98.0</td>\n",
       "      <td>10.0</td>\n",
       "      <td>10.0</td>\n",
       "      <td>10.0</td>\n",
       "      <td>10.0</td>\n",
       "      <td>10.0</td>\n",
       "      <td>10.0</td>\n",
       "      <td>f</td>\n",
       "      <td>flexible</td>\n",
       "      <td>0.87</td>\n",
       "    </tr>\n",
       "    <tr>\n",
       "      <th>789867</th>\n",
       "      <td>https://www.airbnb.com/rooms/789867</td>\n",
       "      <td>Cozy Private Room in a Classic Chicago Appartm...</td>\n",
       "      <td>$40 OFF COUPON FOR ALL NEW AIRBNB GUESTS - VIS...</td>\n",
       "      <td>https://a0.muscache.com/im/pictures/72031963/0...</td>\n",
       "      <td>within an hour</td>\n",
       "      <td>100%</td>\n",
       "      <td>f</td>\n",
       "      <td>t</td>\n",
       "      <td>Lincoln Square</td>\n",
       "      <td>IL</td>\n",
       "      <td>...</td>\n",
       "      <td>94.0</td>\n",
       "      <td>9.0</td>\n",
       "      <td>9.0</td>\n",
       "      <td>10.0</td>\n",
       "      <td>10.0</td>\n",
       "      <td>10.0</td>\n",
       "      <td>9.0</td>\n",
       "      <td>t</td>\n",
       "      <td>strict</td>\n",
       "      <td>1.96</td>\n",
       "    </tr>\n",
       "  </tbody>\n",
       "</table>\n",
       "<p>5 rows × 38 columns</p>\n",
       "</div>"
      ],
      "text/plain": [
       "                                    listing_url  \\\n",
       "id                                                \n",
       "13824783  https://www.airbnb.com/rooms/13824783   \n",
       "16740225  https://www.airbnb.com/rooms/16740225   \n",
       "18125245  https://www.airbnb.com/rooms/18125245   \n",
       "8362570    https://www.airbnb.com/rooms/8362570   \n",
       "789867      https://www.airbnb.com/rooms/789867   \n",
       "\n",
       "                                                       name  \\\n",
       "id                                                            \n",
       "13824783      Full floor of a city cottage (up to 4 guests)   \n",
       "16740225                    Guest Room of Two Bedroom Condo   \n",
       "18125245           Cozy, spacious 2 flat in Lincoln Square!   \n",
       "8362570                           Lincoln Square Ravenswood   \n",
       "789867    Cozy Private Room in a Classic Chicago Appartm...   \n",
       "\n",
       "                                                    summary  \\\n",
       "id                                                            \n",
       "13824783  This 3rd-floor garrett apartment (built-out at...   \n",
       "16740225  Warm and secure room in a Two Bedroom Condo lo...   \n",
       "18125245  This cute, spacious 2 flat in Lincoln Square i...   \n",
       "8362570   Lincoln square, Ravenswood and Andersonville g...   \n",
       "789867    $40 OFF COUPON FOR ALL NEW AIRBNB GUESTS - VIS...   \n",
       "\n",
       "                                                picture_url  \\\n",
       "id                                                            \n",
       "13824783  https://a0.muscache.com/im/pictures/510d45f8-e...   \n",
       "16740225  https://a0.muscache.com/im/pictures/697182d3-d...   \n",
       "18125245  https://a0.muscache.com/im/pictures/bf761217-c...   \n",
       "8362570   https://a0.muscache.com/im/pictures/224a38c0-a...   \n",
       "789867    https://a0.muscache.com/im/pictures/72031963/0...   \n",
       "\n",
       "          host_response_time host_response_rate host_is_superhost  \\\n",
       "id                                                                  \n",
       "13824783      within an hour               100%                 t   \n",
       "16740225      within an hour               100%                 f   \n",
       "18125245      within an hour               100%                 f   \n",
       "8362570   within a few hours               100%                 t   \n",
       "789867        within an hour               100%                 f   \n",
       "\n",
       "         host_identity_verified neighbourhood_cleansed state  \\\n",
       "id                                                             \n",
       "13824783                      t         Lincoln Square    IL   \n",
       "16740225                      t         Lincoln Square    IL   \n",
       "18125245                      t         Lincoln Square    IL   \n",
       "8362570                       t         Lincoln Square    IL   \n",
       "789867                        t         Lincoln Square    IL   \n",
       "\n",
       "                ...        review_scores_rating review_scores_accuracy  \\\n",
       "id              ...                                                      \n",
       "13824783        ...                        99.0                   10.0   \n",
       "16740225        ...                         NaN                    NaN   \n",
       "18125245        ...                        95.0                   10.0   \n",
       "8362570         ...                        98.0                   10.0   \n",
       "789867          ...                        94.0                    9.0   \n",
       "\n",
       "         review_scores_cleanliness review_scores_checkin  \\\n",
       "id                                                         \n",
       "13824783                      10.0                  10.0   \n",
       "16740225                       NaN                   NaN   \n",
       "18125245                      10.0                  10.0   \n",
       "8362570                       10.0                  10.0   \n",
       "789867                         9.0                  10.0   \n",
       "\n",
       "          review_scores_communication  review_scores_location  \\\n",
       "id                                                              \n",
       "13824783                         10.0                    10.0   \n",
       "16740225                          NaN                     NaN   \n",
       "18125245                         10.0                    10.0   \n",
       "8362570                          10.0                    10.0   \n",
       "789867                           10.0                    10.0   \n",
       "\n",
       "          review_scores_value  instant_bookable cancellation_policy  \\\n",
       "id                                                                    \n",
       "13824783                 10.0                 t            moderate   \n",
       "16740225                  NaN                 t              strict   \n",
       "18125245                 10.0                 f            moderate   \n",
       "8362570                  10.0                 f            flexible   \n",
       "789867                    9.0                 t              strict   \n",
       "\n",
       "         reviews_per_month  \n",
       "id                          \n",
       "13824783              2.57  \n",
       "16740225               NaN  \n",
       "18125245              4.00  \n",
       "8362570               0.87  \n",
       "789867                1.96  \n",
       "\n",
       "[5 rows x 38 columns]"
      ]
     },
     "execution_count": 2,
     "metadata": {},
     "output_type": "execute_result"
    }
   ],
   "source": [
    "listings = pd.read_table(\"listings_edited.csv\", index_col=0, header='infer', delimiter=\",\")\n",
    "print listings.shape\n",
    "listings.head(5)"
   ]
  },
  {
   "cell_type": "code",
   "execution_count": 3,
   "metadata": {
    "collapsed": false
   },
   "outputs": [
    {
     "data": {
      "text/html": [
       "<div>\n",
       "<table border=\"1\" class=\"dataframe\">\n",
       "  <thead>\n",
       "    <tr style=\"text-align: right;\">\n",
       "      <th></th>\n",
       "      <th>count</th>\n",
       "      <th>unique</th>\n",
       "      <th>top</th>\n",
       "      <th>freq</th>\n",
       "      <th>mean</th>\n",
       "      <th>std</th>\n",
       "      <th>min</th>\n",
       "      <th>25%</th>\n",
       "      <th>50%</th>\n",
       "      <th>75%</th>\n",
       "      <th>max</th>\n",
       "    </tr>\n",
       "  </thead>\n",
       "  <tbody>\n",
       "    <tr>\n",
       "      <th>listing_url</th>\n",
       "      <td>5207</td>\n",
       "      <td>5207</td>\n",
       "      <td>https://www.airbnb.com/rooms/6558625</td>\n",
       "      <td>1</td>\n",
       "      <td>NaN</td>\n",
       "      <td>NaN</td>\n",
       "      <td>NaN</td>\n",
       "      <td>NaN</td>\n",
       "      <td>NaN</td>\n",
       "      <td>NaN</td>\n",
       "      <td>NaN</td>\n",
       "    </tr>\n",
       "    <tr>\n",
       "      <th>name</th>\n",
       "      <td>5206</td>\n",
       "      <td>5169</td>\n",
       "      <td>Wells St Suites - Old Town 3 Bed</td>\n",
       "      <td>3</td>\n",
       "      <td>NaN</td>\n",
       "      <td>NaN</td>\n",
       "      <td>NaN</td>\n",
       "      <td>NaN</td>\n",
       "      <td>NaN</td>\n",
       "      <td>NaN</td>\n",
       "      <td>NaN</td>\n",
       "    </tr>\n",
       "    <tr>\n",
       "      <th>summary</th>\n",
       "      <td>5125</td>\n",
       "      <td>4841</td>\n",
       "      <td>This property offers luxury in Chicago’s trend...</td>\n",
       "      <td>23</td>\n",
       "      <td>NaN</td>\n",
       "      <td>NaN</td>\n",
       "      <td>NaN</td>\n",
       "      <td>NaN</td>\n",
       "      <td>NaN</td>\n",
       "      <td>NaN</td>\n",
       "      <td>NaN</td>\n",
       "    </tr>\n",
       "    <tr>\n",
       "      <th>picture_url</th>\n",
       "      <td>5207</td>\n",
       "      <td>5202</td>\n",
       "      <td>https://a0.muscache.com/im/pictures/70087089/b...</td>\n",
       "      <td>3</td>\n",
       "      <td>NaN</td>\n",
       "      <td>NaN</td>\n",
       "      <td>NaN</td>\n",
       "      <td>NaN</td>\n",
       "      <td>NaN</td>\n",
       "      <td>NaN</td>\n",
       "      <td>NaN</td>\n",
       "    </tr>\n",
       "    <tr>\n",
       "      <th>host_response_time</th>\n",
       "      <td>4951</td>\n",
       "      <td>4</td>\n",
       "      <td>within an hour</td>\n",
       "      <td>3257</td>\n",
       "      <td>NaN</td>\n",
       "      <td>NaN</td>\n",
       "      <td>NaN</td>\n",
       "      <td>NaN</td>\n",
       "      <td>NaN</td>\n",
       "      <td>NaN</td>\n",
       "      <td>NaN</td>\n",
       "    </tr>\n",
       "    <tr>\n",
       "      <th>host_response_rate</th>\n",
       "      <td>4951</td>\n",
       "      <td>55</td>\n",
       "      <td>100%</td>\n",
       "      <td>3873</td>\n",
       "      <td>NaN</td>\n",
       "      <td>NaN</td>\n",
       "      <td>NaN</td>\n",
       "      <td>NaN</td>\n",
       "      <td>NaN</td>\n",
       "      <td>NaN</td>\n",
       "      <td>NaN</td>\n",
       "    </tr>\n",
       "    <tr>\n",
       "      <th>host_is_superhost</th>\n",
       "      <td>5207</td>\n",
       "      <td>2</td>\n",
       "      <td>f</td>\n",
       "      <td>3840</td>\n",
       "      <td>NaN</td>\n",
       "      <td>NaN</td>\n",
       "      <td>NaN</td>\n",
       "      <td>NaN</td>\n",
       "      <td>NaN</td>\n",
       "      <td>NaN</td>\n",
       "      <td>NaN</td>\n",
       "    </tr>\n",
       "    <tr>\n",
       "      <th>host_identity_verified</th>\n",
       "      <td>5207</td>\n",
       "      <td>2</td>\n",
       "      <td>t</td>\n",
       "      <td>4093</td>\n",
       "      <td>NaN</td>\n",
       "      <td>NaN</td>\n",
       "      <td>NaN</td>\n",
       "      <td>NaN</td>\n",
       "      <td>NaN</td>\n",
       "      <td>NaN</td>\n",
       "      <td>NaN</td>\n",
       "    </tr>\n",
       "    <tr>\n",
       "      <th>neighbourhood_cleansed</th>\n",
       "      <td>5207</td>\n",
       "      <td>72</td>\n",
       "      <td>West Town</td>\n",
       "      <td>729</td>\n",
       "      <td>NaN</td>\n",
       "      <td>NaN</td>\n",
       "      <td>NaN</td>\n",
       "      <td>NaN</td>\n",
       "      <td>NaN</td>\n",
       "      <td>NaN</td>\n",
       "      <td>NaN</td>\n",
       "    </tr>\n",
       "    <tr>\n",
       "      <th>state</th>\n",
       "      <td>5207</td>\n",
       "      <td>3</td>\n",
       "      <td>IL</td>\n",
       "      <td>5204</td>\n",
       "      <td>NaN</td>\n",
       "      <td>NaN</td>\n",
       "      <td>NaN</td>\n",
       "      <td>NaN</td>\n",
       "      <td>NaN</td>\n",
       "      <td>NaN</td>\n",
       "      <td>NaN</td>\n",
       "    </tr>\n",
       "    <tr>\n",
       "      <th>city</th>\n",
       "      <td>5207</td>\n",
       "      <td>14</td>\n",
       "      <td>Chicago</td>\n",
       "      <td>5176</td>\n",
       "      <td>NaN</td>\n",
       "      <td>NaN</td>\n",
       "      <td>NaN</td>\n",
       "      <td>NaN</td>\n",
       "      <td>NaN</td>\n",
       "      <td>NaN</td>\n",
       "      <td>NaN</td>\n",
       "    </tr>\n",
       "    <tr>\n",
       "      <th>zipcode</th>\n",
       "      <td>5146</td>\n",
       "      <td>63</td>\n",
       "      <td>60647</td>\n",
       "      <td>461</td>\n",
       "      <td>NaN</td>\n",
       "      <td>NaN</td>\n",
       "      <td>NaN</td>\n",
       "      <td>NaN</td>\n",
       "      <td>NaN</td>\n",
       "      <td>NaN</td>\n",
       "      <td>NaN</td>\n",
       "    </tr>\n",
       "    <tr>\n",
       "      <th>property_type</th>\n",
       "      <td>5207</td>\n",
       "      <td>19</td>\n",
       "      <td>Apartment</td>\n",
       "      <td>3502</td>\n",
       "      <td>NaN</td>\n",
       "      <td>NaN</td>\n",
       "      <td>NaN</td>\n",
       "      <td>NaN</td>\n",
       "      <td>NaN</td>\n",
       "      <td>NaN</td>\n",
       "      <td>NaN</td>\n",
       "    </tr>\n",
       "    <tr>\n",
       "      <th>room_type</th>\n",
       "      <td>5207</td>\n",
       "      <td>3</td>\n",
       "      <td>Entire home/apt</td>\n",
       "      <td>3095</td>\n",
       "      <td>NaN</td>\n",
       "      <td>NaN</td>\n",
       "      <td>NaN</td>\n",
       "      <td>NaN</td>\n",
       "      <td>NaN</td>\n",
       "      <td>NaN</td>\n",
       "      <td>NaN</td>\n",
       "    </tr>\n",
       "    <tr>\n",
       "      <th>accommodates</th>\n",
       "      <td>5207</td>\n",
       "      <td>NaN</td>\n",
       "      <td>NaN</td>\n",
       "      <td>NaN</td>\n",
       "      <td>3.79931</td>\n",
       "      <td>2.5118</td>\n",
       "      <td>1</td>\n",
       "      <td>2</td>\n",
       "      <td>3</td>\n",
       "      <td>5</td>\n",
       "      <td>16</td>\n",
       "    </tr>\n",
       "    <tr>\n",
       "      <th>bathrooms</th>\n",
       "      <td>5201</td>\n",
       "      <td>NaN</td>\n",
       "      <td>NaN</td>\n",
       "      <td>NaN</td>\n",
       "      <td>1.28754</td>\n",
       "      <td>0.575582</td>\n",
       "      <td>0</td>\n",
       "      <td>1</td>\n",
       "      <td>1</td>\n",
       "      <td>1.5</td>\n",
       "      <td>8</td>\n",
       "    </tr>\n",
       "    <tr>\n",
       "      <th>bedrooms</th>\n",
       "      <td>5206</td>\n",
       "      <td>NaN</td>\n",
       "      <td>NaN</td>\n",
       "      <td>NaN</td>\n",
       "      <td>1.44276</td>\n",
       "      <td>0.91675</td>\n",
       "      <td>0</td>\n",
       "      <td>1</td>\n",
       "      <td>1</td>\n",
       "      <td>2</td>\n",
       "      <td>10</td>\n",
       "    </tr>\n",
       "    <tr>\n",
       "      <th>beds</th>\n",
       "      <td>5204</td>\n",
       "      <td>NaN</td>\n",
       "      <td>NaN</td>\n",
       "      <td>NaN</td>\n",
       "      <td>1.91295</td>\n",
       "      <td>1.36128</td>\n",
       "      <td>1</td>\n",
       "      <td>1</td>\n",
       "      <td>1</td>\n",
       "      <td>2</td>\n",
       "      <td>16</td>\n",
       "    </tr>\n",
       "    <tr>\n",
       "      <th>bed_type</th>\n",
       "      <td>5207</td>\n",
       "      <td>5</td>\n",
       "      <td>Real Bed</td>\n",
       "      <td>5042</td>\n",
       "      <td>NaN</td>\n",
       "      <td>NaN</td>\n",
       "      <td>NaN</td>\n",
       "      <td>NaN</td>\n",
       "      <td>NaN</td>\n",
       "      <td>NaN</td>\n",
       "      <td>NaN</td>\n",
       "    </tr>\n",
       "    <tr>\n",
       "      <th>amenities</th>\n",
       "      <td>5207</td>\n",
       "      <td>4843</td>\n",
       "      <td>{}</td>\n",
       "      <td>23</td>\n",
       "      <td>NaN</td>\n",
       "      <td>NaN</td>\n",
       "      <td>NaN</td>\n",
       "      <td>NaN</td>\n",
       "      <td>NaN</td>\n",
       "      <td>NaN</td>\n",
       "      <td>NaN</td>\n",
       "    </tr>\n",
       "    <tr>\n",
       "      <th>price</th>\n",
       "      <td>5207</td>\n",
       "      <td>337</td>\n",
       "      <td>$75.00</td>\n",
       "      <td>166</td>\n",
       "      <td>NaN</td>\n",
       "      <td>NaN</td>\n",
       "      <td>NaN</td>\n",
       "      <td>NaN</td>\n",
       "      <td>NaN</td>\n",
       "      <td>NaN</td>\n",
       "      <td>NaN</td>\n",
       "    </tr>\n",
       "    <tr>\n",
       "      <th>security_deposit</th>\n",
       "      <td>1999</td>\n",
       "      <td>65</td>\n",
       "      <td>$100.00</td>\n",
       "      <td>390</td>\n",
       "      <td>NaN</td>\n",
       "      <td>NaN</td>\n",
       "      <td>NaN</td>\n",
       "      <td>NaN</td>\n",
       "      <td>NaN</td>\n",
       "      <td>NaN</td>\n",
       "      <td>NaN</td>\n",
       "    </tr>\n",
       "    <tr>\n",
       "      <th>cleaning_fee</th>\n",
       "      <td>3917</td>\n",
       "      <td>111</td>\n",
       "      <td>$50.00</td>\n",
       "      <td>402</td>\n",
       "      <td>NaN</td>\n",
       "      <td>NaN</td>\n",
       "      <td>NaN</td>\n",
       "      <td>NaN</td>\n",
       "      <td>NaN</td>\n",
       "      <td>NaN</td>\n",
       "      <td>NaN</td>\n",
       "    </tr>\n",
       "    <tr>\n",
       "      <th>guests_included</th>\n",
       "      <td>5207</td>\n",
       "      <td>NaN</td>\n",
       "      <td>NaN</td>\n",
       "      <td>NaN</td>\n",
       "      <td>1.84828</td>\n",
       "      <td>1.47642</td>\n",
       "      <td>1</td>\n",
       "      <td>1</td>\n",
       "      <td>1</td>\n",
       "      <td>2</td>\n",
       "      <td>15</td>\n",
       "    </tr>\n",
       "    <tr>\n",
       "      <th>extra_people</th>\n",
       "      <td>5207</td>\n",
       "      <td>63</td>\n",
       "      <td>$0.00</td>\n",
       "      <td>2362</td>\n",
       "      <td>NaN</td>\n",
       "      <td>NaN</td>\n",
       "      <td>NaN</td>\n",
       "      <td>NaN</td>\n",
       "      <td>NaN</td>\n",
       "      <td>NaN</td>\n",
       "      <td>NaN</td>\n",
       "    </tr>\n",
       "    <tr>\n",
       "      <th>minimum_nights</th>\n",
       "      <td>5207</td>\n",
       "      <td>NaN</td>\n",
       "      <td>NaN</td>\n",
       "      <td>NaN</td>\n",
       "      <td>3.40772</td>\n",
       "      <td>11.5814</td>\n",
       "      <td>1</td>\n",
       "      <td>1</td>\n",
       "      <td>2</td>\n",
       "      <td>2</td>\n",
       "      <td>365</td>\n",
       "    </tr>\n",
       "    <tr>\n",
       "      <th>maximum_nights</th>\n",
       "      <td>5207</td>\n",
       "      <td>NaN</td>\n",
       "      <td>NaN</td>\n",
       "      <td>NaN</td>\n",
       "      <td>413167</td>\n",
       "      <td>2.97602e+07</td>\n",
       "      <td>1</td>\n",
       "      <td>30</td>\n",
       "      <td>1125</td>\n",
       "      <td>1125</td>\n",
       "      <td>2.14748e+09</td>\n",
       "    </tr>\n",
       "    <tr>\n",
       "      <th>number_of_reviews</th>\n",
       "      <td>5207</td>\n",
       "      <td>NaN</td>\n",
       "      <td>NaN</td>\n",
       "      <td>NaN</td>\n",
       "      <td>25.3787</td>\n",
       "      <td>38.665</td>\n",
       "      <td>0</td>\n",
       "      <td>2</td>\n",
       "      <td>11</td>\n",
       "      <td>32</td>\n",
       "      <td>410</td>\n",
       "    </tr>\n",
       "    <tr>\n",
       "      <th>review_scores_rating</th>\n",
       "      <td>4469</td>\n",
       "      <td>NaN</td>\n",
       "      <td>NaN</td>\n",
       "      <td>NaN</td>\n",
       "      <td>95.043</td>\n",
       "      <td>6.1651</td>\n",
       "      <td>20</td>\n",
       "      <td>93</td>\n",
       "      <td>97</td>\n",
       "      <td>100</td>\n",
       "      <td>100</td>\n",
       "    </tr>\n",
       "    <tr>\n",
       "      <th>review_scores_accuracy</th>\n",
       "      <td>4466</td>\n",
       "      <td>NaN</td>\n",
       "      <td>NaN</td>\n",
       "      <td>NaN</td>\n",
       "      <td>9.70399</td>\n",
       "      <td>0.655867</td>\n",
       "      <td>2</td>\n",
       "      <td>10</td>\n",
       "      <td>10</td>\n",
       "      <td>10</td>\n",
       "      <td>10</td>\n",
       "    </tr>\n",
       "    <tr>\n",
       "      <th>review_scores_cleanliness</th>\n",
       "      <td>4466</td>\n",
       "      <td>NaN</td>\n",
       "      <td>NaN</td>\n",
       "      <td>NaN</td>\n",
       "      <td>9.52553</td>\n",
       "      <td>0.790706</td>\n",
       "      <td>2</td>\n",
       "      <td>9</td>\n",
       "      <td>10</td>\n",
       "      <td>10</td>\n",
       "      <td>10</td>\n",
       "    </tr>\n",
       "    <tr>\n",
       "      <th>review_scores_checkin</th>\n",
       "      <td>4460</td>\n",
       "      <td>NaN</td>\n",
       "      <td>NaN</td>\n",
       "      <td>NaN</td>\n",
       "      <td>9.84484</td>\n",
       "      <td>0.481231</td>\n",
       "      <td>2</td>\n",
       "      <td>10</td>\n",
       "      <td>10</td>\n",
       "      <td>10</td>\n",
       "      <td>10</td>\n",
       "    </tr>\n",
       "    <tr>\n",
       "      <th>review_scores_communication</th>\n",
       "      <td>4464</td>\n",
       "      <td>NaN</td>\n",
       "      <td>NaN</td>\n",
       "      <td>NaN</td>\n",
       "      <td>9.86313</td>\n",
       "      <td>0.428476</td>\n",
       "      <td>2</td>\n",
       "      <td>10</td>\n",
       "      <td>10</td>\n",
       "      <td>10</td>\n",
       "      <td>10</td>\n",
       "    </tr>\n",
       "    <tr>\n",
       "      <th>review_scores_location</th>\n",
       "      <td>4460</td>\n",
       "      <td>NaN</td>\n",
       "      <td>NaN</td>\n",
       "      <td>NaN</td>\n",
       "      <td>9.59865</td>\n",
       "      <td>0.727752</td>\n",
       "      <td>2</td>\n",
       "      <td>9</td>\n",
       "      <td>10</td>\n",
       "      <td>10</td>\n",
       "      <td>10</td>\n",
       "    </tr>\n",
       "    <tr>\n",
       "      <th>review_scores_value</th>\n",
       "      <td>4457</td>\n",
       "      <td>NaN</td>\n",
       "      <td>NaN</td>\n",
       "      <td>NaN</td>\n",
       "      <td>9.57213</td>\n",
       "      <td>0.691552</td>\n",
       "      <td>2</td>\n",
       "      <td>9</td>\n",
       "      <td>10</td>\n",
       "      <td>10</td>\n",
       "      <td>10</td>\n",
       "    </tr>\n",
       "    <tr>\n",
       "      <th>instant_bookable</th>\n",
       "      <td>5207</td>\n",
       "      <td>2</td>\n",
       "      <td>f</td>\n",
       "      <td>3704</td>\n",
       "      <td>NaN</td>\n",
       "      <td>NaN</td>\n",
       "      <td>NaN</td>\n",
       "      <td>NaN</td>\n",
       "      <td>NaN</td>\n",
       "      <td>NaN</td>\n",
       "      <td>NaN</td>\n",
       "    </tr>\n",
       "    <tr>\n",
       "      <th>cancellation_policy</th>\n",
       "      <td>5207</td>\n",
       "      <td>5</td>\n",
       "      <td>strict</td>\n",
       "      <td>2235</td>\n",
       "      <td>NaN</td>\n",
       "      <td>NaN</td>\n",
       "      <td>NaN</td>\n",
       "      <td>NaN</td>\n",
       "      <td>NaN</td>\n",
       "      <td>NaN</td>\n",
       "      <td>NaN</td>\n",
       "    </tr>\n",
       "    <tr>\n",
       "      <th>reviews_per_month</th>\n",
       "      <td>4497</td>\n",
       "      <td>NaN</td>\n",
       "      <td>NaN</td>\n",
       "      <td>NaN</td>\n",
       "      <td>2.09054</td>\n",
       "      <td>1.86013</td>\n",
       "      <td>0.01</td>\n",
       "      <td>0.65</td>\n",
       "      <td>1.55</td>\n",
       "      <td>3.02</td>\n",
       "      <td>13.53</td>\n",
       "    </tr>\n",
       "  </tbody>\n",
       "</table>\n",
       "</div>"
      ],
      "text/plain": [
       "                            count unique  \\\n",
       "listing_url                  5207   5207   \n",
       "name                         5206   5169   \n",
       "summary                      5125   4841   \n",
       "picture_url                  5207   5202   \n",
       "host_response_time           4951      4   \n",
       "host_response_rate           4951     55   \n",
       "host_is_superhost            5207      2   \n",
       "host_identity_verified       5207      2   \n",
       "neighbourhood_cleansed       5207     72   \n",
       "state                        5207      3   \n",
       "city                         5207     14   \n",
       "zipcode                      5146     63   \n",
       "property_type                5207     19   \n",
       "room_type                    5207      3   \n",
       "accommodates                 5207    NaN   \n",
       "bathrooms                    5201    NaN   \n",
       "bedrooms                     5206    NaN   \n",
       "beds                         5204    NaN   \n",
       "bed_type                     5207      5   \n",
       "amenities                    5207   4843   \n",
       "price                        5207    337   \n",
       "security_deposit             1999     65   \n",
       "cleaning_fee                 3917    111   \n",
       "guests_included              5207    NaN   \n",
       "extra_people                 5207     63   \n",
       "minimum_nights               5207    NaN   \n",
       "maximum_nights               5207    NaN   \n",
       "number_of_reviews            5207    NaN   \n",
       "review_scores_rating         4469    NaN   \n",
       "review_scores_accuracy       4466    NaN   \n",
       "review_scores_cleanliness    4466    NaN   \n",
       "review_scores_checkin        4460    NaN   \n",
       "review_scores_communication  4464    NaN   \n",
       "review_scores_location       4460    NaN   \n",
       "review_scores_value          4457    NaN   \n",
       "instant_bookable             5207      2   \n",
       "cancellation_policy          5207      5   \n",
       "reviews_per_month            4497    NaN   \n",
       "\n",
       "                                                                           top  \\\n",
       "listing_url                               https://www.airbnb.com/rooms/6558625   \n",
       "name                                          Wells St Suites - Old Town 3 Bed   \n",
       "summary                      This property offers luxury in Chicago’s trend...   \n",
       "picture_url                  https://a0.muscache.com/im/pictures/70087089/b...   \n",
       "host_response_time                                              within an hour   \n",
       "host_response_rate                                                        100%   \n",
       "host_is_superhost                                                            f   \n",
       "host_identity_verified                                                       t   \n",
       "neighbourhood_cleansed                                               West Town   \n",
       "state                                                                       IL   \n",
       "city                                                                   Chicago   \n",
       "zipcode                                                                  60647   \n",
       "property_type                                                        Apartment   \n",
       "room_type                                                      Entire home/apt   \n",
       "accommodates                                                               NaN   \n",
       "bathrooms                                                                  NaN   \n",
       "bedrooms                                                                   NaN   \n",
       "beds                                                                       NaN   \n",
       "bed_type                                                              Real Bed   \n",
       "amenities                                                                   {}   \n",
       "price                                                                   $75.00   \n",
       "security_deposit                                                       $100.00   \n",
       "cleaning_fee                                                            $50.00   \n",
       "guests_included                                                            NaN   \n",
       "extra_people                                                             $0.00   \n",
       "minimum_nights                                                             NaN   \n",
       "maximum_nights                                                             NaN   \n",
       "number_of_reviews                                                          NaN   \n",
       "review_scores_rating                                                       NaN   \n",
       "review_scores_accuracy                                                     NaN   \n",
       "review_scores_cleanliness                                                  NaN   \n",
       "review_scores_checkin                                                      NaN   \n",
       "review_scores_communication                                                NaN   \n",
       "review_scores_location                                                     NaN   \n",
       "review_scores_value                                                        NaN   \n",
       "instant_bookable                                                             f   \n",
       "cancellation_policy                                                     strict   \n",
       "reviews_per_month                                                          NaN   \n",
       "\n",
       "                             freq     mean          std   min   25%   50%  \\\n",
       "listing_url                     1      NaN          NaN   NaN   NaN   NaN   \n",
       "name                            3      NaN          NaN   NaN   NaN   NaN   \n",
       "summary                        23      NaN          NaN   NaN   NaN   NaN   \n",
       "picture_url                     3      NaN          NaN   NaN   NaN   NaN   \n",
       "host_response_time           3257      NaN          NaN   NaN   NaN   NaN   \n",
       "host_response_rate           3873      NaN          NaN   NaN   NaN   NaN   \n",
       "host_is_superhost            3840      NaN          NaN   NaN   NaN   NaN   \n",
       "host_identity_verified       4093      NaN          NaN   NaN   NaN   NaN   \n",
       "neighbourhood_cleansed        729      NaN          NaN   NaN   NaN   NaN   \n",
       "state                        5204      NaN          NaN   NaN   NaN   NaN   \n",
       "city                         5176      NaN          NaN   NaN   NaN   NaN   \n",
       "zipcode                       461      NaN          NaN   NaN   NaN   NaN   \n",
       "property_type                3502      NaN          NaN   NaN   NaN   NaN   \n",
       "room_type                    3095      NaN          NaN   NaN   NaN   NaN   \n",
       "accommodates                  NaN  3.79931       2.5118     1     2     3   \n",
       "bathrooms                     NaN  1.28754     0.575582     0     1     1   \n",
       "bedrooms                      NaN  1.44276      0.91675     0     1     1   \n",
       "beds                          NaN  1.91295      1.36128     1     1     1   \n",
       "bed_type                     5042      NaN          NaN   NaN   NaN   NaN   \n",
       "amenities                      23      NaN          NaN   NaN   NaN   NaN   \n",
       "price                         166      NaN          NaN   NaN   NaN   NaN   \n",
       "security_deposit              390      NaN          NaN   NaN   NaN   NaN   \n",
       "cleaning_fee                  402      NaN          NaN   NaN   NaN   NaN   \n",
       "guests_included               NaN  1.84828      1.47642     1     1     1   \n",
       "extra_people                 2362      NaN          NaN   NaN   NaN   NaN   \n",
       "minimum_nights                NaN  3.40772      11.5814     1     1     2   \n",
       "maximum_nights                NaN   413167  2.97602e+07     1    30  1125   \n",
       "number_of_reviews             NaN  25.3787       38.665     0     2    11   \n",
       "review_scores_rating          NaN   95.043       6.1651    20    93    97   \n",
       "review_scores_accuracy        NaN  9.70399     0.655867     2    10    10   \n",
       "review_scores_cleanliness     NaN  9.52553     0.790706     2     9    10   \n",
       "review_scores_checkin         NaN  9.84484     0.481231     2    10    10   \n",
       "review_scores_communication   NaN  9.86313     0.428476     2    10    10   \n",
       "review_scores_location        NaN  9.59865     0.727752     2     9    10   \n",
       "review_scores_value           NaN  9.57213     0.691552     2     9    10   \n",
       "instant_bookable             3704      NaN          NaN   NaN   NaN   NaN   \n",
       "cancellation_policy          2235      NaN          NaN   NaN   NaN   NaN   \n",
       "reviews_per_month             NaN  2.09054      1.86013  0.01  0.65  1.55   \n",
       "\n",
       "                              75%          max  \n",
       "listing_url                   NaN          NaN  \n",
       "name                          NaN          NaN  \n",
       "summary                       NaN          NaN  \n",
       "picture_url                   NaN          NaN  \n",
       "host_response_time            NaN          NaN  \n",
       "host_response_rate            NaN          NaN  \n",
       "host_is_superhost             NaN          NaN  \n",
       "host_identity_verified        NaN          NaN  \n",
       "neighbourhood_cleansed        NaN          NaN  \n",
       "state                         NaN          NaN  \n",
       "city                          NaN          NaN  \n",
       "zipcode                       NaN          NaN  \n",
       "property_type                 NaN          NaN  \n",
       "room_type                     NaN          NaN  \n",
       "accommodates                    5           16  \n",
       "bathrooms                     1.5            8  \n",
       "bedrooms                        2           10  \n",
       "beds                            2           16  \n",
       "bed_type                      NaN          NaN  \n",
       "amenities                     NaN          NaN  \n",
       "price                         NaN          NaN  \n",
       "security_deposit              NaN          NaN  \n",
       "cleaning_fee                  NaN          NaN  \n",
       "guests_included                 2           15  \n",
       "extra_people                  NaN          NaN  \n",
       "minimum_nights                  2          365  \n",
       "maximum_nights               1125  2.14748e+09  \n",
       "number_of_reviews              32          410  \n",
       "review_scores_rating          100          100  \n",
       "review_scores_accuracy         10           10  \n",
       "review_scores_cleanliness      10           10  \n",
       "review_scores_checkin          10           10  \n",
       "review_scores_communication    10           10  \n",
       "review_scores_location         10           10  \n",
       "review_scores_value            10           10  \n",
       "instant_bookable              NaN          NaN  \n",
       "cancellation_policy           NaN          NaN  \n",
       "reviews_per_month            3.02        13.53  "
      ]
     },
     "execution_count": 3,
     "metadata": {},
     "output_type": "execute_result"
    }
   ],
   "source": [
    "listings.describe(include=\"all\").T"
   ]
  },
  {
   "cell_type": "code",
   "execution_count": 4,
   "metadata": {
    "collapsed": false
   },
   "outputs": [
    {
     "data": {
      "text/plain": [
       "listing_url                     object\n",
       "name                            object\n",
       "summary                         object\n",
       "picture_url                     object\n",
       "host_response_time              object\n",
       "host_response_rate              object\n",
       "host_is_superhost               object\n",
       "host_identity_verified          object\n",
       "neighbourhood_cleansed          object\n",
       "state                           object\n",
       "city                            object\n",
       "zipcode                         object\n",
       "property_type                   object\n",
       "room_type                       object\n",
       "accommodates                     int64\n",
       "bathrooms                      float64\n",
       "bedrooms                       float64\n",
       "beds                           float64\n",
       "bed_type                        object\n",
       "amenities                       object\n",
       "price                           object\n",
       "security_deposit                object\n",
       "cleaning_fee                    object\n",
       "guests_included                  int64\n",
       "extra_people                    object\n",
       "minimum_nights                   int64\n",
       "maximum_nights                   int64\n",
       "number_of_reviews                int64\n",
       "review_scores_rating           float64\n",
       "review_scores_accuracy         float64\n",
       "review_scores_cleanliness      float64\n",
       "review_scores_checkin          float64\n",
       "review_scores_communication    float64\n",
       "review_scores_location         float64\n",
       "review_scores_value            float64\n",
       "instant_bookable                object\n",
       "cancellation_policy             object\n",
       "reviews_per_month              float64\n",
       "dtype: object"
      ]
     },
     "execution_count": 4,
     "metadata": {},
     "output_type": "execute_result"
    }
   ],
   "source": [
    "listings.dtypes"
   ]
  },
  {
   "cell_type": "markdown",
   "metadata": {},
   "source": [
    "#### Drop unwanted attributes"
   ]
  },
  {
   "cell_type": "code",
   "execution_count": 5,
   "metadata": {
    "collapsed": true
   },
   "outputs": [],
   "source": [
    "# state, city, zipcode, drop neighbourhood_cleansed, reviews_per_month\n",
    "listings_edit = listings.drop(['state', 'city', 'zipcode', 'neighbourhood_cleansed', 'reviews_per_month'], axis=1)"
   ]
  },
  {
   "cell_type": "markdown",
   "metadata": {},
   "source": [
    "#### Handle missing values"
   ]
  },
  {
   "cell_type": "markdown",
   "metadata": {},
   "source": [
    "Remove listing without review data"
   ]
  },
  {
   "cell_type": "code",
   "execution_count": 6,
   "metadata": {
    "collapsed": true
   },
   "outputs": [],
   "source": [
    "listings_edit = listings_edit.dropna(subset=['host_response_time','host_response_rate','review_scores_rating', 'review_scores_accuracy', 'review_scores_cleanliness', 'review_scores_checkin', 'review_scores_communication', 'review_scores_location', 'review_scores_value'])"
   ]
  },
  {
   "cell_type": "code",
   "execution_count": 7,
   "metadata": {
    "collapsed": false
   },
   "outputs": [
    {
     "data": {
      "text/plain": [
       "(4273, 33)"
      ]
     },
     "execution_count": 7,
     "metadata": {},
     "output_type": "execute_result"
    }
   ],
   "source": [
    "listings_edit.shape"
   ]
  },
  {
   "cell_type": "markdown",
   "metadata": {},
   "source": [
    "Fill in missing values"
   ]
  },
  {
   "cell_type": "code",
   "execution_count": 8,
   "metadata": {
    "collapsed": true
   },
   "outputs": [],
   "source": [
    "# rooms\n",
    "listings_edit = listings_edit.fillna({\"bathrooms\": \"0\", \"bedrooms\": \"0\", \"beds\": \"0\"})"
   ]
  },
  {
   "cell_type": "code",
   "execution_count": 9,
   "metadata": {
    "collapsed": true
   },
   "outputs": [],
   "source": [
    "# fee\n",
    "listings_edit = listings_edit.fillna({\"price\": \"$0\", \"security_deposit\": \"$0\", \"cleaning_fee\": \"$0\", \"extra_people\": \"$0\"})"
   ]
  },
  {
   "cell_type": "markdown",
   "metadata": {},
   "source": [
    "#### Transfer object to numeric values"
   ]
  },
  {
   "cell_type": "code",
   "execution_count": 10,
   "metadata": {
    "collapsed": false
   },
   "outputs": [
    {
     "data": {
      "text/html": [
       "<div>\n",
       "<table border=\"1\" class=\"dataframe\">\n",
       "  <thead>\n",
       "    <tr style=\"text-align: right;\">\n",
       "      <th></th>\n",
       "      <th>listing_url</th>\n",
       "      <th>name</th>\n",
       "      <th>summary</th>\n",
       "      <th>picture_url</th>\n",
       "      <th>host_response_time</th>\n",
       "      <th>host_response_rate</th>\n",
       "      <th>host_is_superhost</th>\n",
       "      <th>host_identity_verified</th>\n",
       "      <th>property_type</th>\n",
       "      <th>room_type</th>\n",
       "      <th>...</th>\n",
       "      <th>bedrooms</th>\n",
       "      <th>beds</th>\n",
       "      <th>bed_type</th>\n",
       "      <th>amenities</th>\n",
       "      <th>price</th>\n",
       "      <th>security_deposit</th>\n",
       "      <th>cleaning_fee</th>\n",
       "      <th>extra_people</th>\n",
       "      <th>instant_bookable</th>\n",
       "      <th>cancellation_policy</th>\n",
       "    </tr>\n",
       "    <tr>\n",
       "      <th>id</th>\n",
       "      <th></th>\n",
       "      <th></th>\n",
       "      <th></th>\n",
       "      <th></th>\n",
       "      <th></th>\n",
       "      <th></th>\n",
       "      <th></th>\n",
       "      <th></th>\n",
       "      <th></th>\n",
       "      <th></th>\n",
       "      <th></th>\n",
       "      <th></th>\n",
       "      <th></th>\n",
       "      <th></th>\n",
       "      <th></th>\n",
       "      <th></th>\n",
       "      <th></th>\n",
       "      <th></th>\n",
       "      <th></th>\n",
       "      <th></th>\n",
       "      <th></th>\n",
       "    </tr>\n",
       "  </thead>\n",
       "  <tbody>\n",
       "    <tr>\n",
       "      <th>13824783</th>\n",
       "      <td>https://www.airbnb.com/rooms/13824783</td>\n",
       "      <td>Full floor of a city cottage (up to 4 guests)</td>\n",
       "      <td>This 3rd-floor garrett apartment (built-out at...</td>\n",
       "      <td>https://a0.muscache.com/im/pictures/510d45f8-e...</td>\n",
       "      <td>within an hour</td>\n",
       "      <td>100%</td>\n",
       "      <td>t</td>\n",
       "      <td>t</td>\n",
       "      <td>House</td>\n",
       "      <td>Private room</td>\n",
       "      <td>...</td>\n",
       "      <td>1</td>\n",
       "      <td>2</td>\n",
       "      <td>Real Bed</td>\n",
       "      <td>{TV,\"Cable TV\",\"Wireless Internet\",\"Air condit...</td>\n",
       "      <td>$56.00</td>\n",
       "      <td>$0</td>\n",
       "      <td>$30.00</td>\n",
       "      <td>$15.00</td>\n",
       "      <td>t</td>\n",
       "      <td>moderate</td>\n",
       "    </tr>\n",
       "    <tr>\n",
       "      <th>18125245</th>\n",
       "      <td>https://www.airbnb.com/rooms/18125245</td>\n",
       "      <td>Cozy, spacious 2 flat in Lincoln Square!</td>\n",
       "      <td>This cute, spacious 2 flat in Lincoln Square i...</td>\n",
       "      <td>https://a0.muscache.com/im/pictures/bf761217-c...</td>\n",
       "      <td>within an hour</td>\n",
       "      <td>100%</td>\n",
       "      <td>f</td>\n",
       "      <td>t</td>\n",
       "      <td>Townhouse</td>\n",
       "      <td>Private room</td>\n",
       "      <td>...</td>\n",
       "      <td>2</td>\n",
       "      <td>3</td>\n",
       "      <td>Real Bed</td>\n",
       "      <td>{TV,\"Cable TV\",Internet,\"Wireless Internet\",\"A...</td>\n",
       "      <td>$80.00</td>\n",
       "      <td>$150.00</td>\n",
       "      <td>$65.00</td>\n",
       "      <td>$15.00</td>\n",
       "      <td>f</td>\n",
       "      <td>moderate</td>\n",
       "    </tr>\n",
       "    <tr>\n",
       "      <th>8362570</th>\n",
       "      <td>https://www.airbnb.com/rooms/8362570</td>\n",
       "      <td>Lincoln Square Ravenswood</td>\n",
       "      <td>Lincoln square, Ravenswood and Andersonville g...</td>\n",
       "      <td>https://a0.muscache.com/im/pictures/224a38c0-a...</td>\n",
       "      <td>within a few hours</td>\n",
       "      <td>100%</td>\n",
       "      <td>t</td>\n",
       "      <td>t</td>\n",
       "      <td>Condominium</td>\n",
       "      <td>Private room</td>\n",
       "      <td>...</td>\n",
       "      <td>1</td>\n",
       "      <td>1</td>\n",
       "      <td>Real Bed</td>\n",
       "      <td>{TV,\"Cable TV\",Internet,\"Wireless Internet\",\"A...</td>\n",
       "      <td>$80.00</td>\n",
       "      <td>$0</td>\n",
       "      <td>$10.00</td>\n",
       "      <td>$10.00</td>\n",
       "      <td>f</td>\n",
       "      <td>flexible</td>\n",
       "    </tr>\n",
       "    <tr>\n",
       "      <th>789867</th>\n",
       "      <td>https://www.airbnb.com/rooms/789867</td>\n",
       "      <td>Cozy Private Room in a Classic Chicago Appartm...</td>\n",
       "      <td>$40 OFF COUPON FOR ALL NEW AIRBNB GUESTS - VIS...</td>\n",
       "      <td>https://a0.muscache.com/im/pictures/72031963/0...</td>\n",
       "      <td>within an hour</td>\n",
       "      <td>100%</td>\n",
       "      <td>f</td>\n",
       "      <td>t</td>\n",
       "      <td>Apartment</td>\n",
       "      <td>Private room</td>\n",
       "      <td>...</td>\n",
       "      <td>1</td>\n",
       "      <td>1</td>\n",
       "      <td>Real Bed</td>\n",
       "      <td>{TV,\"Cable TV\",Internet,\"Wireless Internet\",\"A...</td>\n",
       "      <td>$20.00</td>\n",
       "      <td>$0</td>\n",
       "      <td>$0</td>\n",
       "      <td>$10.00</td>\n",
       "      <td>t</td>\n",
       "      <td>strict</td>\n",
       "    </tr>\n",
       "    <tr>\n",
       "      <th>16701336</th>\n",
       "      <td>https://www.airbnb.com/rooms/16701336</td>\n",
       "      <td>Master Bedroom of Two Bedroom Condo</td>\n",
       "      <td>Warm and secure room in a Two Bedroom Condo lo...</td>\n",
       "      <td>https://a0.muscache.com/im/pictures/83ff781b-f...</td>\n",
       "      <td>within an hour</td>\n",
       "      <td>100%</td>\n",
       "      <td>f</td>\n",
       "      <td>t</td>\n",
       "      <td>Condominium</td>\n",
       "      <td>Private room</td>\n",
       "      <td>...</td>\n",
       "      <td>1</td>\n",
       "      <td>1</td>\n",
       "      <td>Real Bed</td>\n",
       "      <td>{TV,\"Wireless Internet\",\"Air conditioning\",Kit...</td>\n",
       "      <td>$28.00</td>\n",
       "      <td>$0</td>\n",
       "      <td>$35.00</td>\n",
       "      <td>$20.00</td>\n",
       "      <td>t</td>\n",
       "      <td>strict</td>\n",
       "    </tr>\n",
       "  </tbody>\n",
       "</table>\n",
       "<p>5 rows × 21 columns</p>\n",
       "</div>"
      ],
      "text/plain": [
       "                                    listing_url  \\\n",
       "id                                                \n",
       "13824783  https://www.airbnb.com/rooms/13824783   \n",
       "18125245  https://www.airbnb.com/rooms/18125245   \n",
       "8362570    https://www.airbnb.com/rooms/8362570   \n",
       "789867      https://www.airbnb.com/rooms/789867   \n",
       "16701336  https://www.airbnb.com/rooms/16701336   \n",
       "\n",
       "                                                       name  \\\n",
       "id                                                            \n",
       "13824783      Full floor of a city cottage (up to 4 guests)   \n",
       "18125245           Cozy, spacious 2 flat in Lincoln Square!   \n",
       "8362570                           Lincoln Square Ravenswood   \n",
       "789867    Cozy Private Room in a Classic Chicago Appartm...   \n",
       "16701336                Master Bedroom of Two Bedroom Condo   \n",
       "\n",
       "                                                    summary  \\\n",
       "id                                                            \n",
       "13824783  This 3rd-floor garrett apartment (built-out at...   \n",
       "18125245  This cute, spacious 2 flat in Lincoln Square i...   \n",
       "8362570   Lincoln square, Ravenswood and Andersonville g...   \n",
       "789867    $40 OFF COUPON FOR ALL NEW AIRBNB GUESTS - VIS...   \n",
       "16701336  Warm and secure room in a Two Bedroom Condo lo...   \n",
       "\n",
       "                                                picture_url  \\\n",
       "id                                                            \n",
       "13824783  https://a0.muscache.com/im/pictures/510d45f8-e...   \n",
       "18125245  https://a0.muscache.com/im/pictures/bf761217-c...   \n",
       "8362570   https://a0.muscache.com/im/pictures/224a38c0-a...   \n",
       "789867    https://a0.muscache.com/im/pictures/72031963/0...   \n",
       "16701336  https://a0.muscache.com/im/pictures/83ff781b-f...   \n",
       "\n",
       "          host_response_time host_response_rate host_is_superhost  \\\n",
       "id                                                                  \n",
       "13824783      within an hour               100%                 t   \n",
       "18125245      within an hour               100%                 f   \n",
       "8362570   within a few hours               100%                 t   \n",
       "789867        within an hour               100%                 f   \n",
       "16701336      within an hour               100%                 f   \n",
       "\n",
       "         host_identity_verified property_type     room_type  \\\n",
       "id                                                            \n",
       "13824783                      t         House  Private room   \n",
       "18125245                      t     Townhouse  Private room   \n",
       "8362570                       t   Condominium  Private room   \n",
       "789867                        t     Apartment  Private room   \n",
       "16701336                      t   Condominium  Private room   \n",
       "\n",
       "                 ...         bedrooms beds  bed_type  \\\n",
       "id               ...                                   \n",
       "13824783         ...                1    2  Real Bed   \n",
       "18125245         ...                2    3  Real Bed   \n",
       "8362570          ...                1    1  Real Bed   \n",
       "789867           ...                1    1  Real Bed   \n",
       "16701336         ...                1    1  Real Bed   \n",
       "\n",
       "                                                  amenities   price  \\\n",
       "id                                                                    \n",
       "13824783  {TV,\"Cable TV\",\"Wireless Internet\",\"Air condit...  $56.00   \n",
       "18125245  {TV,\"Cable TV\",Internet,\"Wireless Internet\",\"A...  $80.00   \n",
       "8362570   {TV,\"Cable TV\",Internet,\"Wireless Internet\",\"A...  $80.00   \n",
       "789867    {TV,\"Cable TV\",Internet,\"Wireless Internet\",\"A...  $20.00   \n",
       "16701336  {TV,\"Wireless Internet\",\"Air conditioning\",Kit...  $28.00   \n",
       "\n",
       "         security_deposit cleaning_fee extra_people instant_bookable  \\\n",
       "id                                                                     \n",
       "13824783               $0       $30.00       $15.00                t   \n",
       "18125245          $150.00       $65.00       $15.00                f   \n",
       "8362570                $0       $10.00       $10.00                f   \n",
       "789867                 $0           $0       $10.00                t   \n",
       "16701336               $0       $35.00       $20.00                t   \n",
       "\n",
       "         cancellation_policy  \n",
       "id                            \n",
       "13824783            moderate  \n",
       "18125245            moderate  \n",
       "8362570             flexible  \n",
       "789867                strict  \n",
       "16701336              strict  \n",
       "\n",
       "[5 rows x 21 columns]"
      ]
     },
     "execution_count": 10,
     "metadata": {},
     "output_type": "execute_result"
    }
   ],
   "source": [
    "# list all object columns\n",
    "obj_listings_edit = listings_edit.select_dtypes(include=['object']).copy()\n",
    "obj_listings_edit.head()"
   ]
  },
  {
   "cell_type": "markdown",
   "metadata": {},
   "source": [
    "Transfer categorical to numerical values using manually input"
   ]
  },
  {
   "cell_type": "code",
   "execution_count": 11,
   "metadata": {
    "collapsed": false
   },
   "outputs": [
    {
     "data": {
      "text/plain": [
       "within an hour        2865\n",
       "within a few hours     802\n",
       "within a day           580\n",
       "a few days or more      26\n",
       "Name: host_response_time, dtype: int64"
      ]
     },
     "execution_count": 11,
     "metadata": {},
     "output_type": "execute_result"
    }
   ],
   "source": [
    "# host_response_time\n",
    "# check counts for each type\n",
    "listings_edit[\"host_response_time\"].value_counts()"
   ]
  },
  {
   "cell_type": "code",
   "execution_count": 12,
   "metadata": {
    "collapsed": true
   },
   "outputs": [],
   "source": [
    "# replace the value manually\n",
    "response_time_num = {\"host_response_time\": {\"within an hour\": 0, \"within a few hours\": 1, \n",
    "                                                \"within a day\": 2, \"a few days or more\": 3, \"none\": 4}}\n",
    "listings_edit.replace(response_time_num, inplace=True)"
   ]
  },
  {
   "cell_type": "code",
   "execution_count": 13,
   "metadata": {
    "collapsed": false
   },
   "outputs": [
    {
     "data": {
      "text/plain": [
       "0    2865\n",
       "1     802\n",
       "2     580\n",
       "3      26\n",
       "Name: host_response_time, dtype: int64"
      ]
     },
     "execution_count": 13,
     "metadata": {},
     "output_type": "execute_result"
    }
   ],
   "source": [
    "listings_edit[\"host_response_time\"].value_counts()"
   ]
  },
  {
   "cell_type": "code",
   "execution_count": 14,
   "metadata": {
    "collapsed": false
   },
   "outputs": [
    {
     "data": {
      "text/plain": [
       "f    2989\n",
       "t    1284\n",
       "Name: host_is_superhost, dtype: int64"
      ]
     },
     "execution_count": 14,
     "metadata": {},
     "output_type": "execute_result"
    }
   ],
   "source": [
    "# host_is_superhost\n",
    "listings_edit[\"host_is_superhost\"].value_counts()"
   ]
  },
  {
   "cell_type": "code",
   "execution_count": 15,
   "metadata": {
    "collapsed": true
   },
   "outputs": [],
   "source": [
    "superhost_num = {\"host_is_superhost\": {\"t\": 1, \"f\": 0}}\n",
    "listings_edit.replace(superhost_num, inplace=True)"
   ]
  },
  {
   "cell_type": "code",
   "execution_count": 16,
   "metadata": {
    "collapsed": false
   },
   "outputs": [
    {
     "name": "stdout",
     "output_type": "stream",
     "text": [
      "0    2989\n",
      "1    1284\n",
      "Name: host_is_superhost, dtype: int64\n"
     ]
    }
   ],
   "source": [
    "print listings_edit[\"host_is_superhost\"].value_counts()"
   ]
  },
  {
   "cell_type": "markdown",
   "metadata": {},
   "source": [
    "Transfer categorical to numerical values using sklearn.LabelEncoder"
   ]
  },
  {
   "cell_type": "code",
   "execution_count": 17,
   "metadata": {
    "collapsed": true
   },
   "outputs": [],
   "source": [
    "from sklearn.preprocessing import LabelEncoder  "
   ]
  },
  {
   "cell_type": "code",
   "execution_count": 18,
   "metadata": {
    "collapsed": false
   },
   "outputs": [
    {
     "name": "stdout",
     "output_type": "stream",
     "text": [
      "t    3488\n",
      "f     785\n",
      "Name: host_identity_verified, dtype: int64\n",
      "1    3488\n",
      "0     785\n",
      "Name: host_identity_verified, dtype: int64\n"
     ]
    }
   ],
   "source": [
    "# host_id_verified\n",
    "le = LabelEncoder()\n",
    "print listings_edit[\"host_identity_verified\"].value_counts()\n",
    "listings_edit[\"host_identity_verified\"] = le.fit_transform(listings_edit[\"host_identity_verified\"])\n",
    "print listings_edit[\"host_identity_verified\"].value_counts()"
   ]
  },
  {
   "cell_type": "code",
   "execution_count": 19,
   "metadata": {
    "collapsed": false
   },
   "outputs": [
    {
     "name": "stdout",
     "output_type": "stream",
     "text": [
      "Apartment             2911\n",
      "House                  639\n",
      "Condominium            466\n",
      "Loft                    88\n",
      "Townhouse               72\n",
      "Other                   26\n",
      "Guesthouse              13\n",
      "Bed & Breakfast         12\n",
      "Dorm                    12\n",
      "Boat                     8\n",
      "Guest suite              5\n",
      "Bungalow                 5\n",
      "Hostel                   4\n",
      "Boutique hotel           4\n",
      "Villa                    3\n",
      "In-law                   2\n",
      "Timeshare                1\n",
      "Vacation home            1\n",
      "Serviced apartment       1\n",
      "Name: property_type, dtype: int64\n",
      "0     2911\n",
      "10     639\n",
      "5      466\n",
      "12      88\n",
      "16      72\n",
      "13      26\n",
      "8       13\n",
      "6       12\n",
      "1       12\n",
      "2        8\n",
      "7        5\n",
      "4        5\n",
      "3        4\n",
      "9        4\n",
      "18       3\n",
      "11       2\n",
      "15       1\n",
      "14       1\n",
      "17       1\n",
      "Name: property_type, dtype: int64\n"
     ]
    }
   ],
   "source": [
    "# property_type_code\n",
    "print listings_edit[\"property_type\"].value_counts()\n",
    "listings_edit[\"property_type\"] = le.fit_transform(listings_edit[\"property_type\"])\n",
    "print listings_edit[\"property_type\"].value_counts()"
   ]
  },
  {
   "cell_type": "code",
   "execution_count": 20,
   "metadata": {
    "collapsed": false
   },
   "outputs": [
    {
     "name": "stdout",
     "output_type": "stream",
     "text": [
      "Entire home/apt    2544\n",
      "Private room       1602\n",
      "Shared room         127\n",
      "Name: room_type, dtype: int64\n",
      "0    2544\n",
      "1    1602\n",
      "2     127\n",
      "Name: room_type, dtype: int64\n"
     ]
    }
   ],
   "source": [
    "# room_type_code\n",
    "print listings_edit[\"room_type\"].value_counts()\n",
    "listings_edit[\"room_type\"] = le.fit_transform(listings_edit[\"room_type\"])\n",
    "print listings_edit[\"room_type\"].value_counts()"
   ]
  },
  {
   "cell_type": "code",
   "execution_count": 21,
   "metadata": {
    "collapsed": false
   },
   "outputs": [
    {
     "name": "stdout",
     "output_type": "stream",
     "text": [
      "Real Bed         4126\n",
      "Airbed             56\n",
      "Futon              48\n",
      "Pull-out Sofa      27\n",
      "Couch              16\n",
      "Name: bed_type, dtype: int64\n",
      "4    4126\n",
      "0      56\n",
      "2      48\n",
      "3      27\n",
      "1      16\n",
      "Name: bed_type, dtype: int64\n"
     ]
    }
   ],
   "source": [
    "# bed_type_code\n",
    "print listings_edit[\"bed_type\"].value_counts()\n",
    "listings_edit[\"bed_type\"] = le.fit_transform(listings_edit[\"bed_type\"])\n",
    "print listings_edit[\"bed_type\"].value_counts()"
   ]
  },
  {
   "cell_type": "markdown",
   "metadata": {},
   "source": [
    "Transfer categorical to numerical values using pandas LabelEncoding"
   ]
  },
  {
   "cell_type": "code",
   "execution_count": 22,
   "metadata": {
    "collapsed": false
   },
   "outputs": [
    {
     "name": "stdout",
     "output_type": "stream",
     "text": [
      "f    3035\n",
      "t    1238\n",
      "Name: instant_bookable, dtype: int64\n",
      "0    3035\n",
      "1    1238\n",
      "Name: instant_bookable, dtype: int64\n"
     ]
    }
   ],
   "source": [
    "# instant_bookable\n",
    "print listings_edit[\"instant_bookable\"].value_counts()\n",
    "listings_edit[\"instant_bookable\"] = listings_edit[\"instant_bookable\"].astype('category')\n",
    "listings_edit[\"instant_bookable\"] = listings_edit[\"instant_bookable\"].cat.codes\n",
    "print listings_edit[\"instant_bookable\"].value_counts()"
   ]
  },
  {
   "cell_type": "code",
   "execution_count": 23,
   "metadata": {
    "collapsed": false
   },
   "outputs": [
    {
     "name": "stdout",
     "output_type": "stream",
     "text": [
      "strict             1946\n",
      "moderate           1372\n",
      "flexible            949\n",
      "super_strict_30       5\n",
      "super_strict_60       1\n",
      "Name: cancellation_policy, dtype: int64\n",
      "2    1946\n",
      "1    1372\n",
      "0     949\n",
      "3       5\n",
      "4       1\n",
      "Name: cancellation_policy, dtype: int64\n"
     ]
    }
   ],
   "source": [
    "# cancellation_policy\n",
    "print listings_edit[\"cancellation_policy\"].value_counts()\n",
    "\n",
    "listings_edit[\"cancellation_policy\"] = listings_edit[\"cancellation_policy\"].astype('category')\n",
    "listings_edit[\"cancellation_policy\"] = listings_edit[\"cancellation_policy\"].cat.codes\n",
    "\n",
    "print listings_edit[\"cancellation_policy\"].value_counts()"
   ]
  },
  {
   "cell_type": "markdown",
   "metadata": {},
   "source": [
    "Transfer strings to integers"
   ]
  },
  {
   "cell_type": "code",
   "execution_count": 24,
   "metadata": {
    "collapsed": true
   },
   "outputs": [],
   "source": [
    "listings_edit['bathrooms'] = listings_edit['bathrooms'].astype('int')\n",
    "listings_edit['bedrooms'] = listings_edit['bedrooms'].astype('int')\n",
    "listings_edit[ 'beds'] = listings_edit[ 'beds'].astype('int')"
   ]
  },
  {
   "cell_type": "markdown",
   "metadata": {},
   "source": [
    "Transfer percentages to integers"
   ]
  },
  {
   "cell_type": "code",
   "execution_count": 25,
   "metadata": {
    "collapsed": true
   },
   "outputs": [],
   "source": [
    "listings_edit['host_response_rate'] = listings_edit['host_response_rate'].str[:-1].astype('int')"
   ]
  },
  {
   "cell_type": "code",
   "execution_count": 26,
   "metadata": {
    "collapsed": false
   },
   "outputs": [
    {
     "data": {
      "text/plain": [
       "id\n",
       "13824783    100\n",
       "18125245    100\n",
       "8362570     100\n",
       "789867      100\n",
       "16701336    100\n",
       "Name: host_response_rate, dtype: int32"
      ]
     },
     "execution_count": 26,
     "metadata": {},
     "output_type": "execute_result"
    }
   ],
   "source": [
    "listings_edit['host_response_rate'].head()"
   ]
  },
  {
   "cell_type": "markdown",
   "metadata": {},
   "source": [
    "Transfer dollar prices to floats"
   ]
  },
  {
   "cell_type": "code",
   "execution_count": 27,
   "metadata": {
    "collapsed": true
   },
   "outputs": [],
   "source": [
    "listings_edit[['price']] = (listings_edit['price'].replace( '[\\$,)]','', regex=True ).astype(float))\n",
    "listings_edit[['security_deposit']] = (listings_edit['security_deposit'].replace( '[\\$,)]','', regex=True ).astype(float))\n",
    "listings_edit[['cleaning_fee']] = (listings_edit['cleaning_fee'].replace( '[\\$,)]','', regex=True ).astype(float))\n",
    "listings_edit[['extra_people']] = (listings_edit['extra_people'].replace( '[\\$,)]','', regex=True ).astype(float))"
   ]
  },
  {
   "cell_type": "markdown",
   "metadata": {},
   "source": [
    "#### Extract amenities values and add new columns"
   ]
  },
  {
   "cell_type": "code",
   "execution_count": 28,
   "metadata": {
    "collapsed": false
   },
   "outputs": [
    {
     "name": "stdout",
     "output_type": "stream",
     "text": [
      "{TV,\"Cable TV\",\"Wireless Internet\",\"Air conditioning\",Kitchen,\"Free parking on premises\",Breakfast,\"Pets live on this property\",Dog(s),Heating,\"Family/kid friendly\",Washer,Dryer,\"Smoke detector\",\"Fire extinguisher\",Essentials,Shampoo,\"Lock on bedroom door\",\"24-hour check-in\",Hangers,\"Hair dryer\",Iron,\"Laptop friendly workspace\",\"Room-darkening shades\"}\n",
      "0\n",
      "0\n"
     ]
    }
   ],
   "source": [
    "# TV, wireless internet, air condition, heating, pets, washer, dryer\n",
    "attrs = ['TV', 'Internet', 'Air conditioning', 'Kitchen' , 'Heating', 'Washer', 'Dryer']\n",
    "rows = listings_edit.shape[0]\n",
    "for attr in attrs:\n",
    "    listings_edit[attr] = pd.Series(np.zeros(rows), index=listings_edit.index).astype(integer)\n",
    "print listings_edit.amenities[13824783]\n",
    "print listings_edit.TV[13824783]\n",
    "print listings_edit.Kitchen[13824783]"
   ]
  },
  {
   "cell_type": "code",
   "execution_count": 29,
   "metadata": {
    "collapsed": false
   },
   "outputs": [
    {
     "name": "stdout",
     "output_type": "stream",
     "text": [
      "{TV,\"Cable TV\",\"Wireless Internet\",\"Air conditioning\",Kitchen,\"Free parking on premises\",Breakfast,\"Pets live on this property\",Dog(s),Heating,\"Family/kid friendly\",Washer,Dryer,\"Smoke detector\",\"Fire extinguisher\",Essentials,Shampoo,\"Lock on bedroom door\",\"24-hour check-in\",Hangers,\"Hair dryer\",Iron,\"Laptop friendly workspace\",\"Room-darkening shades\"}\n",
      "1\n",
      "1\n"
     ]
    }
   ],
   "source": [
    "for index, row in listings_edit.iterrows():\n",
    "    for attr in attrs:\n",
    "        if (row['amenities'].find(attr)>=0):\n",
    "            listings_edit.set_value(index, attr, 1)\n",
    "print listings_edit.amenities[13824783]\n",
    "print listings_edit.TV[13824783]\n",
    "print listings_edit.Kitchen[13824783]"
   ]
  },
  {
   "cell_type": "code",
   "execution_count": 30,
   "metadata": {
    "collapsed": false
   },
   "outputs": [
    {
     "data": {
      "text/html": [
       "<div>\n",
       "<table border=\"1\" class=\"dataframe\">\n",
       "  <thead>\n",
       "    <tr style=\"text-align: right;\">\n",
       "      <th></th>\n",
       "      <th>listing_url</th>\n",
       "      <th>name</th>\n",
       "      <th>summary</th>\n",
       "      <th>picture_url</th>\n",
       "      <th>amenities</th>\n",
       "    </tr>\n",
       "    <tr>\n",
       "      <th>id</th>\n",
       "      <th></th>\n",
       "      <th></th>\n",
       "      <th></th>\n",
       "      <th></th>\n",
       "      <th></th>\n",
       "    </tr>\n",
       "  </thead>\n",
       "  <tbody>\n",
       "    <tr>\n",
       "      <th>13824783</th>\n",
       "      <td>https://www.airbnb.com/rooms/13824783</td>\n",
       "      <td>Full floor of a city cottage (up to 4 guests)</td>\n",
       "      <td>This 3rd-floor garrett apartment (built-out at...</td>\n",
       "      <td>https://a0.muscache.com/im/pictures/510d45f8-e...</td>\n",
       "      <td>{TV,\"Cable TV\",\"Wireless Internet\",\"Air condit...</td>\n",
       "    </tr>\n",
       "    <tr>\n",
       "      <th>18125245</th>\n",
       "      <td>https://www.airbnb.com/rooms/18125245</td>\n",
       "      <td>Cozy, spacious 2 flat in Lincoln Square!</td>\n",
       "      <td>This cute, spacious 2 flat in Lincoln Square i...</td>\n",
       "      <td>https://a0.muscache.com/im/pictures/bf761217-c...</td>\n",
       "      <td>{TV,\"Cable TV\",Internet,\"Wireless Internet\",\"A...</td>\n",
       "    </tr>\n",
       "    <tr>\n",
       "      <th>8362570</th>\n",
       "      <td>https://www.airbnb.com/rooms/8362570</td>\n",
       "      <td>Lincoln Square Ravenswood</td>\n",
       "      <td>Lincoln square, Ravenswood and Andersonville g...</td>\n",
       "      <td>https://a0.muscache.com/im/pictures/224a38c0-a...</td>\n",
       "      <td>{TV,\"Cable TV\",Internet,\"Wireless Internet\",\"A...</td>\n",
       "    </tr>\n",
       "    <tr>\n",
       "      <th>789867</th>\n",
       "      <td>https://www.airbnb.com/rooms/789867</td>\n",
       "      <td>Cozy Private Room in a Classic Chicago Appartm...</td>\n",
       "      <td>$40 OFF COUPON FOR ALL NEW AIRBNB GUESTS - VIS...</td>\n",
       "      <td>https://a0.muscache.com/im/pictures/72031963/0...</td>\n",
       "      <td>{TV,\"Cable TV\",Internet,\"Wireless Internet\",\"A...</td>\n",
       "    </tr>\n",
       "    <tr>\n",
       "      <th>16701336</th>\n",
       "      <td>https://www.airbnb.com/rooms/16701336</td>\n",
       "      <td>Master Bedroom of Two Bedroom Condo</td>\n",
       "      <td>Warm and secure room in a Two Bedroom Condo lo...</td>\n",
       "      <td>https://a0.muscache.com/im/pictures/83ff781b-f...</td>\n",
       "      <td>{TV,\"Wireless Internet\",\"Air conditioning\",Kit...</td>\n",
       "    </tr>\n",
       "  </tbody>\n",
       "</table>\n",
       "</div>"
      ],
      "text/plain": [
       "                                    listing_url  \\\n",
       "id                                                \n",
       "13824783  https://www.airbnb.com/rooms/13824783   \n",
       "18125245  https://www.airbnb.com/rooms/18125245   \n",
       "8362570    https://www.airbnb.com/rooms/8362570   \n",
       "789867      https://www.airbnb.com/rooms/789867   \n",
       "16701336  https://www.airbnb.com/rooms/16701336   \n",
       "\n",
       "                                                       name  \\\n",
       "id                                                            \n",
       "13824783      Full floor of a city cottage (up to 4 guests)   \n",
       "18125245           Cozy, spacious 2 flat in Lincoln Square!   \n",
       "8362570                           Lincoln Square Ravenswood   \n",
       "789867    Cozy Private Room in a Classic Chicago Appartm...   \n",
       "16701336                Master Bedroom of Two Bedroom Condo   \n",
       "\n",
       "                                                    summary  \\\n",
       "id                                                            \n",
       "13824783  This 3rd-floor garrett apartment (built-out at...   \n",
       "18125245  This cute, spacious 2 flat in Lincoln Square i...   \n",
       "8362570   Lincoln square, Ravenswood and Andersonville g...   \n",
       "789867    $40 OFF COUPON FOR ALL NEW AIRBNB GUESTS - VIS...   \n",
       "16701336  Warm and secure room in a Two Bedroom Condo lo...   \n",
       "\n",
       "                                                picture_url  \\\n",
       "id                                                            \n",
       "13824783  https://a0.muscache.com/im/pictures/510d45f8-e...   \n",
       "18125245  https://a0.muscache.com/im/pictures/bf761217-c...   \n",
       "8362570   https://a0.muscache.com/im/pictures/224a38c0-a...   \n",
       "789867    https://a0.muscache.com/im/pictures/72031963/0...   \n",
       "16701336  https://a0.muscache.com/im/pictures/83ff781b-f...   \n",
       "\n",
       "                                                  amenities  \n",
       "id                                                           \n",
       "13824783  {TV,\"Cable TV\",\"Wireless Internet\",\"Air condit...  \n",
       "18125245  {TV,\"Cable TV\",Internet,\"Wireless Internet\",\"A...  \n",
       "8362570   {TV,\"Cable TV\",Internet,\"Wireless Internet\",\"A...  \n",
       "789867    {TV,\"Cable TV\",Internet,\"Wireless Internet\",\"A...  \n",
       "16701336  {TV,\"Wireless Internet\",\"Air conditioning\",Kit...  "
      ]
     },
     "execution_count": 30,
     "metadata": {},
     "output_type": "execute_result"
    }
   ],
   "source": [
    "#check with the objects now\n",
    "obj_listings_edit = listings_edit.select_dtypes(include=['object']).copy()\n",
    "obj_listings_edit.head()"
   ]
  },
  {
   "cell_type": "markdown",
   "metadata": {},
   "source": [
    "#### Extract attributes for feature analysis"
   ]
  },
  {
   "cell_type": "code",
   "execution_count": 31,
   "metadata": {
    "collapsed": true
   },
   "outputs": [],
   "source": [
    "listings_eval = listings_edit.drop(['listing_url','name','summary','picture_url','amenities', 'review_scores_accuracy', 'review_scores_cleanliness', 'review_scores_checkin', 'review_scores_communication', 'review_scores_location', 'review_scores_value'], axis=1)"
   ]
  },
  {
   "cell_type": "code",
   "execution_count": 32,
   "metadata": {
    "collapsed": false
   },
   "outputs": [
    {
     "data": {
      "text/html": [
       "<div>\n",
       "<table border=\"1\" class=\"dataframe\">\n",
       "  <thead>\n",
       "    <tr style=\"text-align: right;\">\n",
       "      <th></th>\n",
       "      <th>host_response_time</th>\n",
       "      <th>host_response_rate</th>\n",
       "      <th>host_is_superhost</th>\n",
       "      <th>host_identity_verified</th>\n",
       "      <th>property_type</th>\n",
       "      <th>room_type</th>\n",
       "      <th>accommodates</th>\n",
       "      <th>bathrooms</th>\n",
       "      <th>bedrooms</th>\n",
       "      <th>beds</th>\n",
       "      <th>...</th>\n",
       "      <th>review_scores_rating</th>\n",
       "      <th>instant_bookable</th>\n",
       "      <th>cancellation_policy</th>\n",
       "      <th>TV</th>\n",
       "      <th>Internet</th>\n",
       "      <th>Air conditioning</th>\n",
       "      <th>Kitchen</th>\n",
       "      <th>Heating</th>\n",
       "      <th>Washer</th>\n",
       "      <th>Dryer</th>\n",
       "    </tr>\n",
       "    <tr>\n",
       "      <th>id</th>\n",
       "      <th></th>\n",
       "      <th></th>\n",
       "      <th></th>\n",
       "      <th></th>\n",
       "      <th></th>\n",
       "      <th></th>\n",
       "      <th></th>\n",
       "      <th></th>\n",
       "      <th></th>\n",
       "      <th></th>\n",
       "      <th></th>\n",
       "      <th></th>\n",
       "      <th></th>\n",
       "      <th></th>\n",
       "      <th></th>\n",
       "      <th></th>\n",
       "      <th></th>\n",
       "      <th></th>\n",
       "      <th></th>\n",
       "      <th></th>\n",
       "      <th></th>\n",
       "    </tr>\n",
       "  </thead>\n",
       "  <tbody>\n",
       "    <tr>\n",
       "      <th>13824783</th>\n",
       "      <td>0</td>\n",
       "      <td>100</td>\n",
       "      <td>1</td>\n",
       "      <td>1</td>\n",
       "      <td>10</td>\n",
       "      <td>1</td>\n",
       "      <td>4</td>\n",
       "      <td>1</td>\n",
       "      <td>1</td>\n",
       "      <td>2</td>\n",
       "      <td>...</td>\n",
       "      <td>99.0</td>\n",
       "      <td>1</td>\n",
       "      <td>1</td>\n",
       "      <td>1</td>\n",
       "      <td>1</td>\n",
       "      <td>1</td>\n",
       "      <td>1</td>\n",
       "      <td>1</td>\n",
       "      <td>1</td>\n",
       "      <td>1</td>\n",
       "    </tr>\n",
       "    <tr>\n",
       "      <th>18125245</th>\n",
       "      <td>0</td>\n",
       "      <td>100</td>\n",
       "      <td>0</td>\n",
       "      <td>1</td>\n",
       "      <td>16</td>\n",
       "      <td>1</td>\n",
       "      <td>6</td>\n",
       "      <td>1</td>\n",
       "      <td>2</td>\n",
       "      <td>3</td>\n",
       "      <td>...</td>\n",
       "      <td>95.0</td>\n",
       "      <td>0</td>\n",
       "      <td>1</td>\n",
       "      <td>1</td>\n",
       "      <td>1</td>\n",
       "      <td>1</td>\n",
       "      <td>1</td>\n",
       "      <td>1</td>\n",
       "      <td>1</td>\n",
       "      <td>1</td>\n",
       "    </tr>\n",
       "    <tr>\n",
       "      <th>8362570</th>\n",
       "      <td>1</td>\n",
       "      <td>100</td>\n",
       "      <td>1</td>\n",
       "      <td>1</td>\n",
       "      <td>5</td>\n",
       "      <td>1</td>\n",
       "      <td>2</td>\n",
       "      <td>1</td>\n",
       "      <td>1</td>\n",
       "      <td>1</td>\n",
       "      <td>...</td>\n",
       "      <td>98.0</td>\n",
       "      <td>0</td>\n",
       "      <td>0</td>\n",
       "      <td>1</td>\n",
       "      <td>1</td>\n",
       "      <td>1</td>\n",
       "      <td>1</td>\n",
       "      <td>1</td>\n",
       "      <td>1</td>\n",
       "      <td>1</td>\n",
       "    </tr>\n",
       "    <tr>\n",
       "      <th>789867</th>\n",
       "      <td>0</td>\n",
       "      <td>100</td>\n",
       "      <td>0</td>\n",
       "      <td>1</td>\n",
       "      <td>0</td>\n",
       "      <td>1</td>\n",
       "      <td>3</td>\n",
       "      <td>1</td>\n",
       "      <td>1</td>\n",
       "      <td>1</td>\n",
       "      <td>...</td>\n",
       "      <td>94.0</td>\n",
       "      <td>1</td>\n",
       "      <td>2</td>\n",
       "      <td>1</td>\n",
       "      <td>1</td>\n",
       "      <td>1</td>\n",
       "      <td>1</td>\n",
       "      <td>1</td>\n",
       "      <td>1</td>\n",
       "      <td>1</td>\n",
       "    </tr>\n",
       "    <tr>\n",
       "      <th>16701336</th>\n",
       "      <td>0</td>\n",
       "      <td>100</td>\n",
       "      <td>0</td>\n",
       "      <td>1</td>\n",
       "      <td>5</td>\n",
       "      <td>1</td>\n",
       "      <td>2</td>\n",
       "      <td>1</td>\n",
       "      <td>1</td>\n",
       "      <td>1</td>\n",
       "      <td>...</td>\n",
       "      <td>100.0</td>\n",
       "      <td>1</td>\n",
       "      <td>2</td>\n",
       "      <td>1</td>\n",
       "      <td>1</td>\n",
       "      <td>1</td>\n",
       "      <td>1</td>\n",
       "      <td>1</td>\n",
       "      <td>1</td>\n",
       "      <td>1</td>\n",
       "    </tr>\n",
       "  </tbody>\n",
       "</table>\n",
       "<p>5 rows × 29 columns</p>\n",
       "</div>"
      ],
      "text/plain": [
       "          host_response_time  host_response_rate  host_is_superhost  \\\n",
       "id                                                                    \n",
       "13824783                   0                 100                  1   \n",
       "18125245                   0                 100                  0   \n",
       "8362570                    1                 100                  1   \n",
       "789867                     0                 100                  0   \n",
       "16701336                   0                 100                  0   \n",
       "\n",
       "          host_identity_verified  property_type  room_type  accommodates  \\\n",
       "id                                                                         \n",
       "13824783                       1             10          1             4   \n",
       "18125245                       1             16          1             6   \n",
       "8362570                        1              5          1             2   \n",
       "789867                         1              0          1             3   \n",
       "16701336                       1              5          1             2   \n",
       "\n",
       "          bathrooms  bedrooms  beds  ...    review_scores_rating  \\\n",
       "id                                   ...                           \n",
       "13824783          1         1     2  ...                    99.0   \n",
       "18125245          1         2     3  ...                    95.0   \n",
       "8362570           1         1     1  ...                    98.0   \n",
       "789867            1         1     1  ...                    94.0   \n",
       "16701336          1         1     1  ...                   100.0   \n",
       "\n",
       "          instant_bookable  cancellation_policy  TV  Internet  \\\n",
       "id                                                              \n",
       "13824783                 1                    1   1         1   \n",
       "18125245                 0                    1   1         1   \n",
       "8362570                  0                    0   1         1   \n",
       "789867                   1                    2   1         1   \n",
       "16701336                 1                    2   1         1   \n",
       "\n",
       "          Air conditioning  Kitchen  Heating  Washer  Dryer  \n",
       "id                                                           \n",
       "13824783                 1        1        1       1      1  \n",
       "18125245                 1        1        1       1      1  \n",
       "8362570                  1        1        1       1      1  \n",
       "789867                   1        1        1       1      1  \n",
       "16701336                 1        1        1       1      1  \n",
       "\n",
       "[5 rows x 29 columns]"
      ]
     },
     "execution_count": 32,
     "metadata": {},
     "output_type": "execute_result"
    }
   ],
   "source": [
    "listings_eval.head()"
   ]
  },
  {
   "cell_type": "markdown",
   "metadata": {
    "collapsed": true
   },
   "source": [
    "## Feature Selection"
   ]
  },
  {
   "cell_type": "markdown",
   "metadata": {},
   "source": [
    "#### Split data and target attributes"
   ]
  },
  {
   "cell_type": "code",
   "execution_count": 33,
   "metadata": {
    "collapsed": false
   },
   "outputs": [
    {
     "name": "stdout",
     "output_type": "stream",
     "text": [
      "(28, 4273)\n"
     ]
    }
   ],
   "source": [
    "# Feature analysis\n",
    "target = np.array(listings_eval['review_scores_rating'])\n",
    "data = listings_eval.drop(['review_scores_rating'], axis=1)\n",
    "print data.T.shape"
   ]
  },
  {
   "cell_type": "code",
   "execution_count": 34,
   "metadata": {
    "collapsed": true
   },
   "outputs": [],
   "source": [
    "from sklearn.cross_validation import train_test_split\n",
    "fa_train, fa_test, target_train, target_test = train_test_split(data, target, test_size=0.2, random_state=33)"
   ]
  },
  {
   "cell_type": "markdown",
   "metadata": {},
   "source": [
    "#### Define a function to compute the optimal percentile for FS"
   ]
  },
  {
   "cell_type": "code",
   "execution_count": 35,
   "metadata": {
    "collapsed": true
   },
   "outputs": [],
   "source": [
    "# Take as input the training data, target variable, the model and any other parameters\n",
    "# return the optimal percentage of the most informative features to use\n",
    "def calc_percent(train, target, model, interval, K):\n",
    "    percentiles = range(1, 100, interval)\n",
    "    results = []\n",
    "    minScore = 100\n",
    "    #print \"Percentile\\tMAE\"\n",
    "    indices = range(1, 100, interval)\n",
    "    for i in indices:\n",
    "        fs = feature_selection.SelectPercentile(feature_selection.f_regression, percentile=i)\n",
    "        train_fs = fs.fit_transform(train, target)\n",
    "        scores = abs(cross_validation.cross_val_score(model, train_fs, target, cv=K, scoring='neg_mean_absolute_error'))\n",
    "        # cross validation, return score array for each croos-validation\n",
    "        # neg_mean_absolute_error returns negative MAE\n",
    "        if (scores.mean() < minScore):\n",
    "            minScore = scores.mean()\n",
    "            optimal_percentile = i\n",
    "        results = np.append(results, scores.mean())\n",
    "        #print \"%d\\t\\t%.4f\" %(i,scores.mean())\n",
    "        \n",
    "    plt.plot(indices, results, alpha=0.7, lw=2, c='r')  \n",
    "    plt.legend(loc=8)\n",
    "    plt.xlabel('Percentile')\n",
    "    plt.ylabel(\"Mean Absolute Error\")\n",
    "    \n",
    "    print model\n",
    "    print \"Minimum MAE on training: %.4f\" %minScore\n",
    "    print \"Optimal percentile of features: {0}\".format(optimal_percentile)\n",
    "    optimal_num_features = int(optimal_percentile*len(train.T)/100)\n",
    "    print \"Optimal number of features: {0}\".format(optimal_num_features)\n",
    "    \n",
    "    return optimal_percentile"
   ]
  },
  {
   "cell_type": "markdown",
   "metadata": {},
   "source": [
    "#### Try Linear regression"
   ]
  },
  {
   "cell_type": "code",
   "execution_count": 36,
   "metadata": {
    "collapsed": false
   },
   "outputs": [
    {
     "name": "stdout",
     "output_type": "stream",
     "text": [
      "LinearRegression(copy_X=True, fit_intercept=True, n_jobs=1, normalize=False)\n",
      "Minimum MAE on training: 3.7655\n",
      "Optimal percentile of features: 76\n",
      "Optimal number of features: 21\n"
     ]
    },
    {
     "name": "stderr",
     "output_type": "stream",
     "text": [
      "D:\\ProgramData\\Anaconda2\\lib\\site-packages\\matplotlib\\axes\\_axes.py:545: UserWarning: No labelled objects found. Use label='...' kwarg on individual plots.\n",
      "  warnings.warn(\"No labelled objects found. \"\n"
     ]
    },
    {
     "data": {
      "image/png": "[encoded data removed]",
      "text/plain": [
       "<matplotlib.figure.Figure at 0xcba0eb8>"
      ]
     },
     "metadata": {},
     "output_type": "display_data"
    }
   ],
   "source": [
    "linreg = LinearRegression()\n",
    "linreg.fit(fa_train, target_train)\n",
    "\n",
    "lr_opPer = calc_percent(fa_train, target_train, linreg, 5, 5)"
   ]
  },
  {
   "cell_type": "code",
   "execution_count": 37,
   "metadata": {
    "collapsed": false
   },
   "outputs": [
    {
     "name": "stdout",
     "output_type": "stream",
     "text": [
      "Selcted features:\n",
      "['host_response_rate' 'host_is_superhost' 'host_identity_verified'\n",
      " 'property_type' 'accommodates' 'bathrooms' 'beds' 'bed_type' 'price'\n",
      " 'guests_included' 'minimum_nights' 'number_of_reviews' 'instant_bookable'\n",
      " 'cancellation_policy' 'TV' 'Internet' 'Air conditioning' 'Kitchen'\n",
      " 'Heating' 'Washer' 'Dryer']\n",
      "\n",
      "MAE on testing: 3.8845\n"
     ]
    }
   ],
   "source": [
    "fs = feature_selection.SelectPercentile(feature_selection.f_regression, percentile=lr_opPer)\n",
    "train_lr_fs = fs.fit_transform(fa_train, target_train)\n",
    "print \"Selcted features:\"\n",
    "print data.columns[fs.get_support()].values\n",
    "\n",
    "linreg_fs = LinearRegression()\n",
    "linreg_fs.fit(train_lr_fs, target_train)\n",
    "test_lr_fs = fs.transform(fa_test)\n",
    "\n",
    "scores = abs(cross_validation.cross_val_score(linreg_fs, test_lr_fs, target_test, cv=5, scoring='neg_mean_absolute_error'))\n",
    "print \"\\nMAE on testing: %.4f\" %scores.mean()"
   ]
  },
  {
   "cell_type": "markdown",
   "metadata": {},
   "source": [
    "#### Try Ridge regression"
   ]
  },
  {
   "cell_type": "code",
   "execution_count": 38,
   "metadata": {
    "collapsed": false
   },
   "outputs": [
    {
     "name": "stdout",
     "output_type": "stream",
     "text": [
      "Ridge(alpha=0.3, copy_X=True, fit_intercept=True, max_iter=None,\n",
      "   normalize=False, random_state=None, solver='auto', tol=0.001)\n",
      "Minimum MAE on training: 3.7654\n",
      "Optimal percentile of features: 76\n",
      "Optimal number of features: 21\n"
     ]
    },
    {
     "data": {
      "image/png": "[encoded data removed]",
      "text/plain": [
       "<matplotlib.figure.Figure at 0xc8b3ef0>"
      ]
     },
     "metadata": {},
     "output_type": "display_data"
    }
   ],
   "source": [
    "rireg = Ridge(fit_intercept=True, alpha = 0.3)\n",
    "rireg.fit(fa_train, target_train)\n",
    "\n",
    "rr_opPer= calc_percent(fa_train, target_train, rireg, 5, 5)"
   ]
  },
  {
   "cell_type": "code",
   "execution_count": 39,
   "metadata": {
    "collapsed": false
   },
   "outputs": [
    {
     "name": "stdout",
     "output_type": "stream",
     "text": [
      "Selcted features:\n",
      "['host_response_rate' 'host_is_superhost' 'host_identity_verified'\n",
      " 'property_type' 'accommodates' 'bathrooms' 'beds' 'bed_type' 'price'\n",
      " 'guests_included' 'minimum_nights' 'number_of_reviews' 'instant_bookable'\n",
      " 'cancellation_policy' 'TV' 'Internet' 'Air conditioning' 'Kitchen'\n",
      " 'Heating' 'Washer' 'Dryer']\n",
      "\n",
      "MAE on testing: 3.8822\n"
     ]
    }
   ],
   "source": [
    "fs = feature_selection.SelectPercentile(feature_selection.f_regression, percentile=rr_opPer)\n",
    "train_rr_fs = fs.fit_transform(fa_train, target_train)\n",
    "print \"Selcted features:\"\n",
    "print data.columns[fs.get_support()].values\n",
    "\n",
    "rireg_fs = Ridge(fit_intercept=True, alpha = 0.3)\n",
    "rireg_fs.fit(train_rr_fs, target_train)\n",
    "test_rr_fs = fs.transform(fa_test)\n",
    "\n",
    "scores = abs(cross_validation.cross_val_score(rireg_fs, test_rr_fs, target_test, cv=5, scoring='neg_mean_absolute_error'))\n",
    "print \"\\nMAE on testing: %.4f\" %scores.mean()"
   ]
  },
  {
   "cell_type": "markdown",
   "metadata": {},
   "source": [
    "#### Try Lasso regression"
   ]
  },
  {
   "cell_type": "code",
   "execution_count": 40,
   "metadata": {
    "collapsed": false
   },
   "outputs": [
    {
     "name": "stdout",
     "output_type": "stream",
     "text": [
      "Lasso(alpha=0.3, copy_X=True, fit_intercept=True, max_iter=1000,\n",
      "   normalize=False, positive=False, precompute=False, random_state=None,\n",
      "   selection='cyclic', tol=0.0001, warm_start=False)\n",
      "Minimum MAE on training: 3.8952\n",
      "Optimal percentile of features: 71\n",
      "Optimal number of features: 19\n"
     ]
    },
    {
     "data": {
      "image/png": "[encoded data removed]",
      "text/plain": [
       "<matplotlib.figure.Figure at 0x6ba7a90>"
      ]
     },
     "metadata": {},
     "output_type": "display_data"
    }
   ],
   "source": [
    "lareg = Lasso(fit_intercept=True, alpha = 0.3)\n",
    "lareg.fit(fa_train, target_train)\n",
    "\n",
    "la_opPer= calc_percent(fa_train, target_train, lareg, 5, 5)"
   ]
  },
  {
   "cell_type": "code",
   "execution_count": 41,
   "metadata": {
    "collapsed": false
   },
   "outputs": [
    {
     "name": "stdout",
     "output_type": "stream",
     "text": [
      "Selcted features:\n",
      "['host_response_rate' 'host_is_superhost' 'host_identity_verified'\n",
      " 'property_type' 'accommodates' 'bathrooms' 'beds' 'price'\n",
      " 'guests_included' 'minimum_nights' 'number_of_reviews' 'instant_bookable'\n",
      " 'cancellation_policy' 'TV' 'Internet' 'Air conditioning' 'Kitchen'\n",
      " 'Heating' 'Washer' 'Dryer']\n",
      "\n",
      "MAE on testing: 3.8725\n"
     ]
    }
   ],
   "source": [
    "fs = feature_selection.SelectPercentile(feature_selection.f_regression, percentile=la_opPer)\n",
    "train_la_fs = fs.fit_transform(fa_train, target_train)\n",
    "print \"Selcted features:\"\n",
    "print data.columns[fs.get_support()].values\n",
    "\n",
    "lareg_fs = Lasso(fit_intercept=True, alpha = 0.3)\n",
    "lareg_fs.fit(train_la_fs, target_train)\n",
    "test_la_fs = fs.transform(fa_test)\n",
    "\n",
    "scores = abs(cross_validation.cross_val_score(lareg_fs, test_la_fs, target_test, cv=5, scoring='neg_mean_absolute_error'))\n",
    "print \"\\nMAE on testing: %.4f\" %scores.mean()"
   ]
  },
  {
   "cell_type": "markdown",
   "metadata": {},
   "source": [
    "#### Try LogisticRegression with different parameters using GridSearch"
   ]
  },
  {
   "cell_type": "code",
   "execution_count": 42,
   "metadata": {
    "collapsed": false
   },
   "outputs": [
    {
     "name": "stdout",
     "output_type": "stream",
     "text": [
      "Fitting 5 folds for each of 6 candidates, totalling 30 fits\n"
     ]
    },
    {
     "name": "stderr",
     "output_type": "stream",
     "text": [
      "D:\\ProgramData\\Anaconda2\\lib\\site-packages\\sklearn\\cross_validation.py:552: Warning: The least populated class in y has only 1 members, which is too few. The minimum number of labels for any class cannot be less than n_folds=5.\n",
      "  % (min_labels, self.n_folds)), Warning)\n",
      "[Parallel(n_jobs=1)]: Done  30 out of  30 | elapsed:  2.4min finished\n"
     ]
    },
    {
     "name": "stdout",
     "output_type": "stream",
     "text": [
      "Wall time: 2min 28s\n",
      "The best parameters: {'penalty': 'l1', 'C': 1}\n",
      "The best accuracy result: 0.307782328847\n"
     ]
    }
   ],
   "source": [
    "parameters_LogisticRegression = {\n",
    "    'penalty': ['l1','l2'],\n",
    "    'C': [1e-5, 1, 1e5]\n",
    "}\n",
    "logreg = linear_model.LogisticRegression(random_state=32)\n",
    "gs_logreg = GridSearchCV(logreg, parameters_LogisticRegression, verbose=1, cv=5, scoring='accuracy')\n",
    "\n",
    "%time _ = gs_logreg.fit(fa_train, target_train)\n",
    "print \"The best parameters: %s\" %gs_logreg.best_params_\n",
    "print \"The best accuracy result: %s\" %abs(gs_logreg.best_score_)"
   ]
  },
  {
   "cell_type": "code",
   "execution_count": 43,
   "metadata": {
    "collapsed": false
   },
   "outputs": [
    {
     "name": "stdout",
     "output_type": "stream",
     "text": [
      "LogisticRegression(C=1, class_weight=None, dual=False, fit_intercept=True,\n",
      "          intercept_scaling=1, max_iter=100, multi_class='ovr', n_jobs=1,\n",
      "          penalty='l1', random_state=None, solver='liblinear', tol=0.0001,\n",
      "          verbose=0, warm_start=False)\n",
      "Minimum MAE on training: 3.9489\n",
      "Optimal percentile of features: 76\n",
      "Optimal number of features: 21\n"
     ]
    },
    {
     "data": {
      "image/png": "[encoded data removed]",
      "text/plain": [
       "<matplotlib.figure.Figure at 0x2ae02e8>"
      ]
     },
     "metadata": {},
     "output_type": "display_data"
    }
   ],
   "source": [
    "logreg = LogisticRegression(penalty='l1', C=1)\n",
    "logreg.fit(fa_train, target_train)\n",
    "log_opPer= calc_percent(fa_train, target_train, logreg, 5, 5)"
   ]
  },
  {
   "cell_type": "code",
   "execution_count": 44,
   "metadata": {
    "collapsed": false
   },
   "outputs": [
    {
     "name": "stdout",
     "output_type": "stream",
     "text": [
      "Selcted features:\n",
      "['host_response_rate' 'host_is_superhost' 'host_identity_verified'\n",
      " 'property_type' 'accommodates' 'bathrooms' 'beds' 'bed_type' 'price'\n",
      " 'guests_included' 'minimum_nights' 'number_of_reviews' 'instant_bookable'\n",
      " 'cancellation_policy' 'TV' 'Internet' 'Air conditioning' 'Kitchen'\n",
      " 'Heating' 'Washer' 'Dryer']\n",
      "\n",
      "MAE on testing: 4.1305\n"
     ]
    }
   ],
   "source": [
    "fs = feature_selection.SelectPercentile(feature_selection.f_regression, percentile=log_opPer)\n",
    "train_log_fs = fs.fit_transform(fa_train, target_train)\n",
    "print \"Selcted features:\"\n",
    "print data.columns[fs.get_support()].values\n",
    "\n",
    "logreg_fs = LogisticRegression(penalty='l1', C=1)\n",
    "logreg_fs.fit(train_log_fs, target_train)\n",
    "test_log_fs = fs.transform(fa_test)\n",
    "\n",
    "scores = abs(cross_validation.cross_val_score(logreg_fs, test_log_fs, target_test, cv=5, scoring='neg_mean_absolute_error'))\n",
    "print \"\\nMAE on testing: %.4f\" %scores.mean()"
   ]
  },
  {
   "cell_type": "markdown",
   "metadata": {},
   "source": [
    "#### Try SGD with different parameters using GridSearch"
   ]
  },
  {
   "cell_type": "code",
   "execution_count": 45,
   "metadata": {
    "collapsed": false
   },
   "outputs": [],
   "source": [
    "# Standard Normalization\n",
    "scaler = StandardScaler()\n",
    "scaler.fit(data)\n",
    "data_std = scaler.transform(data)\n",
    "fa_train, fa_test, target_train, target_test = train_test_split(data_std, target, test_size=0.2, random_state=33)"
   ]
  },
  {
   "cell_type": "code",
   "execution_count": 46,
   "metadata": {
    "collapsed": false
   },
   "outputs": [
    {
     "name": "stdout",
     "output_type": "stream",
     "text": [
      "Fitting 5 folds for each of 800 candidates, totalling 4000 fits\n",
      "Wall time: 41.1 s\n",
      "The best parameters: {'penalty': 'l2', 'alpha': 0.50135288220551377}\n",
      "The best accuracy result: 0.0928479591735\n"
     ]
    },
    {
     "name": "stderr",
     "output_type": "stream",
     "text": [
      "[Parallel(n_jobs=1)]: Done 4000 out of 4000 | elapsed:   41.0s finished\n"
     ]
    }
   ],
   "source": [
    "parameters = {\n",
    "    'penalty': ['l2','l1'],\n",
    "    'alpha': np.linspace(0.0001, 200, 400),\n",
    "}\n",
    "sgd = SGDRegressor()\n",
    "gs = GridSearchCV(sgd, parameters, verbose=1, cv=5)\n",
    "\n",
    "%time _ = gs.fit(fa_train, target_train)\n",
    "print \"The best parameters: %s\" %gs.best_params_\n",
    "print \"The best accuracy result: %s\" %abs(gs.best_score_)"
   ]
  },
  {
   "cell_type": "code",
   "execution_count": 47,
   "metadata": {
    "collapsed": false
   },
   "outputs": [
    {
     "name": "stdout",
     "output_type": "stream",
     "text": [
      "The optimum value of penalty is estimated as l2\n",
      "The optimum value of alpha is estimated as 0.501352882206\n",
      "The best accuracy result: 0.0928479591735\n"
     ]
    }
   ],
   "source": [
    "for (i, j) in gs.best_params_.items():\n",
    "    sgd.set_params(**{i:j})\n",
    "    print \"The optimum value of\", i, \"is estimated as\", j\n",
    "print \"The best accuracy result: %s\" %abs(gs.best_score_)"
   ]
  },
  {
   "cell_type": "code",
   "execution_count": 56,
   "metadata": {
    "collapsed": false
   },
   "outputs": [
    {
     "name": "stdout",
     "output_type": "stream",
     "text": [
      "SGDRegressor(alpha=0.501353, average=False, epsilon=0.1, eta0=0.01,\n",
      "       fit_intercept=True, l1_ratio=0.15, learning_rate='invscaling',\n",
      "       loss='squared_loss', n_iter=5, penalty='l2', power_t=0.25,\n",
      "       random_state=None, shuffle=True, verbose=0, warm_start=False)\n",
      "Minimum MAE on training: 3.8271\n",
      "Optimal percentile of features: 56\n",
      "Optimal number of features: 15\n"
     ]
    },
    {
     "data": {
      "image/png": "[encoded data removed]",
      "text/plain": [
       "<matplotlib.figure.Figure at 0x14bacef0>"
      ]
     },
     "metadata": {},
     "output_type": "display_data"
    }
   ],
   "source": [
    "sgd = SGDRegressor(penalty='l2', alpha=0.501353)\n",
    "sgd.fit(fa_train, target_train)\n",
    "sgd_opPer= calc_percent(fa_train, target_train, sgd, 5, 5)"
   ]
  },
  {
   "cell_type": "code",
   "execution_count": 57,
   "metadata": {
    "collapsed": false
   },
   "outputs": [
    {
     "name": "stdout",
     "output_type": "stream",
     "text": [
      "Selcted features:\n",
      "['host_response_rate' 'host_is_superhost' 'host_identity_verified'\n",
      " 'property_type' 'accommodates' 'bathrooms' 'beds' 'bed_type' 'price'\n",
      " 'guests_included' 'minimum_nights' 'number_of_reviews' 'instant_bookable'\n",
      " 'cancellation_policy' 'TV' 'Internet' 'Air conditioning' 'Kitchen'\n",
      " 'Heating' 'Washer' 'Dryer']\n",
      "\n",
      "MAE on testing: 3.8781\n"
     ]
    }
   ],
   "source": [
    "#Using the best parameters, apply the model to the set-aside test data\n",
    "fs = feature_selection.SelectPercentile(feature_selection.f_regression, percentile=log_opPer)\n",
    "train_sgd_fs = fs.fit_transform(fa_train, target_train)\n",
    "print \"Selcted features:\"\n",
    "print data.columns[fs.get_support()].values\n",
    "\n",
    "sgd_fs = SGDRegressor(penalty='l2', alpha=0.501353)\n",
    "sgd_fs.fit(train_sgd_fs, target_train)\n",
    "test_sgd_fs = fs.transform(fa_test)\n",
    "\n",
    "scores = abs(cross_validation.cross_val_score(sgd_fs, test_sgd_fs, target_test, cv=5, scoring='neg_mean_absolute_error'))\n",
    "print \"\\nMAE on testing: %.4f\" %scores.mean()"
   ]
  },
  {
   "cell_type": "markdown",
   "metadata": {
    "collapsed": false
   },
   "source": [
    "Linear Regression: Optimal number of features: 21, MAE on training: 3.7655, MAE on testing: 3.8845"
   ]
  },
  {
   "cell_type": "markdown",
   "metadata": {},
   "source": [
    "Ridge regression: Optimal number of features: 21, MAE on training: 3.7654, MAE on testing: 3.8822"
   ]
  },
  {
   "cell_type": "markdown",
   "metadata": {},
   "source": [
    "Lasso regression: Optimal number of features: 19, MAE on training: 3.8952, MAE on testing: 3.8725"
   ]
  },
  {
   "cell_type": "markdown",
   "metadata": {},
   "source": [
    "LogisticRegression: Optimal number of features: 21, MAE on training: 3.9489, MAE on testing: 4.1305"
   ]
  },
  {
   "cell_type": "markdown",
   "metadata": {},
   "source": [
    "SGD: Optimal number of features: 15, MAE on training: 3.8271, MAE on testing: 3.8781"
   ]
  },
  {
   "cell_type": "markdown",
   "metadata": {},
   "source": [
    "## Item-Based Collaborative Filtering"
   ]
  },
  {
   "cell_type": "code",
   "execution_count": 35,
   "metadata": {
    "collapsed": true
   },
   "outputs": [],
   "source": [
    "listings_eval_update = listings_eval[['host_response_rate','host_is_superhost', 'host_identity_verified',\n",
    " 'property_type', 'accommodates', 'bathrooms', 'beds', 'price',\n",
    " 'guests_included', 'minimum_nights', 'number_of_reviews', 'instant_bookable',\n",
    " 'cancellation_policy', 'TV', 'Internet', 'Air conditioning', 'Kitchen',\n",
    " 'Heating', 'Washer', 'Dryer']]"
   ]
  },
  {
   "cell_type": "code",
   "execution_count": 38,
   "metadata": {
    "collapsed": true
   },
   "outputs": [],
   "source": [
    "from sklearn.neighbors import NearestNeighbors"
   ]
  },
  {
   "cell_type": "markdown",
   "metadata": {},
   "source": [
    "#### Using cosine similarity measure"
   ]
  },
  {
   "cell_type": "code",
   "execution_count": 39,
   "metadata": {
    "collapsed": false
   },
   "outputs": [
    {
     "data": {
      "text/plain": [
       "NearestNeighbors(algorithm='brute', leaf_size=30, metric='cosine',\n",
       "         metric_params=None, n_jobs=1, n_neighbors=5, p=2, radius=1.0)"
      ]
     },
     "execution_count": 39,
     "metadata": {},
     "output_type": "execute_result"
    }
   ],
   "source": [
    "cos_knn = NearestNeighbors(metric = 'cosine', algorithm ='brute')\n",
    "cos_knn.fit(listings_eval_update)"
   ]
  },
  {
   "cell_type": "code",
   "execution_count": 57,
   "metadata": {
    "collapsed": true
   },
   "outputs": [],
   "source": [
    "#np.random.choice(listings_eval_update.shape[0])\n",
    "query_index = 1"
   ]
  },
  {
   "cell_type": "code",
   "execution_count": 58,
   "metadata": {
    "collapsed": true
   },
   "outputs": [],
   "source": [
    "distances, indices = cos_knn.kneighbors(listings_eval_update.iloc[query_index,:].values.reshape(1, -1), n_neighbors = 6)\n"
   ]
  },
  {
   "cell_type": "code",
   "execution_count": 59,
   "metadata": {
    "collapsed": false
   },
   "outputs": [
    {
     "name": "stdout",
     "output_type": "stream",
     "text": [
      "Recommendation for 18125245: \n",
      "\n",
      "1: 5749161, with distance of 0.00148656028074:\n",
      "2: 13941593, with distance of 0.00167990182786:\n",
      "3: 1027463, with distance of 0.00168214760606:\n",
      "4: 16087050, with distance of 0.00169638452911:\n",
      "5: 2564678, with distance of 0.00179164964081:\n"
     ]
    }
   ],
   "source": [
    "for i in range(0, len(distances.flatten())):\n",
    "    if i == 0:\n",
    "        print \"Recommendation for {0}: \\n\".format(listings_eval_update.index[query_index])\n",
    "    else:\n",
    "        print \"{0}: {1}, with distance of {2}:\".format(i, listings_eval_update.index[indices.flatten()[i]], distances.flatten()[i])"
   ]
  },
  {
   "cell_type": "markdown",
   "metadata": {},
   "source": [
    "#### Using Pearson Correlation similarity measure"
   ]
  },
  {
   "cell_type": "code",
   "execution_count": 52,
   "metadata": {
    "collapsed": false
   },
   "outputs": [
    {
     "data": {
      "text/plain": [
       "NearestNeighbors(algorithm='brute', leaf_size=30, metric='correlation',\n",
       "         metric_params=None, n_jobs=1, n_neighbors=5, p=2, radius=1.0)"
      ]
     },
     "execution_count": 52,
     "metadata": {},
     "output_type": "execute_result"
    }
   ],
   "source": [
    "cor_knn = NearestNeighbors(metric = 'correlation', algorithm ='brute')\n",
    "cor_knn.fit(listings_eval_update)"
   ]
  },
  {
   "cell_type": "code",
   "execution_count": 55,
   "metadata": {
    "collapsed": true
   },
   "outputs": [],
   "source": [
    "query_index = 1\n",
    "distances, indices = cor_knn.kneighbors(listings_eval_update.iloc[query_index,:].values.reshape(1, -1), n_neighbors = 6)"
   ]
  },
  {
   "cell_type": "code",
   "execution_count": 56,
   "metadata": {
    "collapsed": false
   },
   "outputs": [
    {
     "name": "stdout",
     "output_type": "stream",
     "text": [
      "Recommendation for 18125245: \n",
      "\n",
      "1: 5749161, with distance of 0.00128236427505:\n",
      "2: 16087050, with distance of 0.00169324138777:\n",
      "3: 17593021, with distance of 0.00174606452951:\n",
      "4: 13941593, with distance of 0.00180333771183:\n",
      "5: 1027463, with distance of 0.00181753048285:\n"
     ]
    }
   ],
   "source": [
    "for i in range(0, len(distances.flatten())):\n",
    "    if i == 0:\n",
    "        print \"Recommendation for {0}: \\n\".format(listings_eval_update.index[query_index])\n",
    "    else:\n",
    "        print \"{0}: {1}, with distance of {2}:\".format(i, listings_eval_update.index[indices.flatten()[i]], distances.flatten()[i])"
   ]
  },
  {
   "cell_type": "markdown",
   "metadata": {},
   "source": [
    "#### Using Eucldean similarity measure"
   ]
  },
  {
   "cell_type": "code",
   "execution_count": 60,
   "metadata": {
    "collapsed": false
   },
   "outputs": [
    {
     "data": {
      "text/plain": [
       "NearestNeighbors(algorithm='brute', leaf_size=30, metric='euclidean',\n",
       "         metric_params=None, n_jobs=1, n_neighbors=5, p=2, radius=1.0)"
      ]
     },
     "execution_count": 60,
     "metadata": {},
     "output_type": "execute_result"
    }
   ],
   "source": [
    "euc_knn = NearestNeighbors(metric = 'euclidean', algorithm ='brute')\n",
    "euc_knn.fit(listings_eval_update)"
   ]
  },
  {
   "cell_type": "code",
   "execution_count": 61,
   "metadata": {
    "collapsed": true
   },
   "outputs": [],
   "source": [
    "query_index = 1\n",
    "distances, indices = euc_knn.kneighbors(listings_eval_update.iloc[query_index,:].values.reshape(1, -1), n_neighbors = 6)"
   ]
  },
  {
   "cell_type": "code",
   "execution_count": 62,
   "metadata": {
    "collapsed": false
   },
   "outputs": [
    {
     "name": "stdout",
     "output_type": "stream",
     "text": [
      "Recommendation for 18125245: \n",
      "\n",
      "1: 5749161, with distance of 7.07106781187:\n",
      "2: 16087050, with distance of 7.54983443527:\n",
      "3: 13941593, with distance of 8.12403840464:\n",
      "4: 14077991, with distance of 8.12403840464:\n",
      "5: 17593021, with distance of 8.54400374532:\n"
     ]
    }
   ],
   "source": [
    "for i in range(0, len(distances.flatten())):\n",
    "    if i == 0:\n",
    "        print \"Recommendation for {0}: \\n\".format(listings_eval_update.index[query_index])\n",
    "    else:\n",
    "        print \"{0}: {1}, with distance of {2}:\".format(i, listings_eval_update.index[indices.flatten()[i]], distances.flatten()[i])"
   ]
  },
  {
   "cell_type": "markdown",
   "metadata": {},
   "source": [
    "#### Based on itemBasedRec.py, try to find out which has the least MAE"
   ]
  },
  {
   "cell_type": "code",
   "execution_count": 92,
   "metadata": {
    "collapsed": true
   },
   "outputs": [],
   "source": [
    "from numpy import *\n",
    "from numpy import linalg as la\n",
    "import numpy as np\n",
    "\n",
    "def ecludSim(inA,inB):\n",
    "    return 1.0 / (1.0 +np.linalg.norm(inA - inB))\n",
    "def pearsSim(inA,inB):\n",
    "    if len(inA) < 3 : return 1.0\n",
    "    return 0.5 + 0.5 * corrcoef(inA, inB, rowvar = 0)[0][1]\n",
    "def cosSim(vecA,vecB):#only take array!!\n",
    "    vecA_norm=np.linalg.norm(vecA) \n",
    "    vecB_norm=np.linalg.norm(vecB)\n",
    "    sims=np.dot(vecA,vecB)/(vecA_norm*vecB_norm)\n",
    "    return sims \n",
    "\n",
    "def standEst(dataMat, user, simMeas, item):\n",
    "    n = shape(dataMat)[1]\n",
    "    simTotal = 0.0; ratSimTotal = 0.0\n",
    "    for j in range(n):\n",
    "        userRating = dataMat[user,j]\n",
    "        if userRating == 0: continue\n",
    "        overLap = nonzero(logical_and(dataMat[:,item]>0, \\\n",
    "                                      dataMat[:,j]>0))[0]\n",
    "        if len(overLap) == 0: similarity = 0\n",
    "        else: similarity = simMeas(dataMat[overLap,item], \\\n",
    "                                   dataMat[overLap,j])\n",
    "        #print 'the %d and %d similarity is: %f' % (item, j, similarity)\n",
    "        simTotal += similarity\n",
    "        ratSimTotal += similarity * userRating\n",
    "    if simTotal == 0: return 0\n",
    "    else: return ratSimTotal/simTotal\n",
    "    \n",
    "def svdEst(dataMat, user, simMeas, item):\n",
    "    n = shape(dataMat)[1]\n",
    "    simTotal = 0.0; ratSimTotal = 0.0\n",
    "    data=mat(dataMat)\n",
    "    U,Sigma,VT = la.svd(data)\n",
    "    Sig4 = mat(eye(4)*Sigma[:4]) #arrange Sig4 into a diagonal matrix\n",
    "    xformedItems = data.T * U[:,:4] * Sig4.I  #create transformed items\n",
    "    for j in range(n):\n",
    "        userRating = data[user,j]\n",
    "        if userRating == 0 or j==item: continue\n",
    "        similarity = simMeas(xformedItems[item,:].T,\\\n",
    "                             xformedItems[j,:].T)\n",
    "        #print 'the %d and %d similarity is: %f' % (item, j, similarity)\n",
    "        simTotal += similarity\n",
    "        ratSimTotal += similarity * userRating\n",
    "    if simTotal == 0: return 0\n",
    "    else: return ratSimTotal/simTotal\n",
    "    \n",
    "# This function performs evaluatoin on a single user based on the test_ratio\n",
    "# For example, with test_ratio = 0.2, a randomly selected 20 percent of rated \n",
    "# items by the user are withheld and the rest are used to estimate the withheld ratings\n",
    "\n",
    "def cross_validate_user(dataMat, user, test_ratio, estMethod, simMeas):\n",
    "    \n",
    "    number_of_items = np.shape(dataMat)[1]\n",
    "    rated_items_by_user = np.array([i for i in range(number_of_items) if dataMat[user,i]>0])#non-zero rating \n",
    "    \n",
    "    #xformedItems,n = presvd(dataMat,nd)\n",
    "    \n",
    "    test_size = int(test_ratio * len(rated_items_by_user))\n",
    "    numpy.random.seed(seed=20)\n",
    "    test_indices = np.random.randint(0, len(rated_items_by_user), test_size)#Add indices for each test item\n",
    "    withheld_items = rated_items_by_user[test_indices]#Items used for test\n",
    "    original_user_profile = np.copy(dataMat[user])\n",
    "    dataMat[user, withheld_items] = 0 # So that the withheld test items is not used in the rating estimation below\n",
    "    error_u = 0.0\n",
    "    count_u = len(withheld_items)\n",
    "    # Compute absolute error for user u over all test items\n",
    "    for item in withheld_items:\n",
    "        # Estimate rating on the withheld item\n",
    "        estimatedScore = estMethod(dataMat, user, simMeas, item)\n",
    "        error_u = error_u + abs(estimatedScore - original_user_profile[item])\n",
    "        #print error_u\n",
    "    # Now restore ratings of the withheld items to the user profile\n",
    "    for item in withheld_items:\n",
    "        dataMat[user, item] = original_user_profile[item]\n",
    "    # Return sum of absolute errors and the count of test cases for this user\n",
    "    # Note that these will have to be accumulated for each user to compute MAE\n",
    "    return error_u, count_u"
   ]
  },
  {
   "cell_type": "code",
   "execution_count": 113,
   "metadata": {
    "collapsed": true
   },
   "outputs": [],
   "source": [
    "def test(dataMat, test_ratio, estMethod, simMeas):\n",
    "    # Write this function to iterate over all users and for each perform evaluation by calling\n",
    "    # the above cross_validate_user function on each user.  will be the ratio of total error \n",
    "    # across all test cases to the total number of test cases, for all users\n",
    "    total_error = 0\n",
    "    total_count = 0\n",
    "    c=0\n",
    "    for i in range(dataMat.shape[0]):\n",
    "        error_u, count_u = cross_validate_user(dataMat, i, test_ratio, estMethod, simMeas)\n",
    "        total_error += error_u\n",
    "        total_count += count_u\n",
    "    MAE = total_error/total_count\n",
    "    print 'Mean Absoloute Error for ',estMethod,' : ', MAE\n",
    "    return MAE"
   ]
  },
  {
   "cell_type": "code",
   "execution_count": 75,
   "metadata": {
    "collapsed": true
   },
   "outputs": [],
   "source": [
    "listings_eval_update_np = np.array(listings_eval_update)"
   ]
  },
  {
   "cell_type": "code",
   "execution_count": 76,
   "metadata": {
    "collapsed": false
   },
   "outputs": [
    {
     "data": {
      "text/plain": [
       "array([[100.,   1.,   1., ...,   1.,   1.,   1.],\n",
       "       [100.,   0.,   1., ...,   1.,   1.,   1.],\n",
       "       [100.,   1.,   1., ...,   1.,   1.,   1.],\n",
       "       ...,\n",
       "       [100.,   1.,   1., ...,   1.,   1.,   1.],\n",
       "       [100.,   0.,   0., ...,   1.,   1.,   1.],\n",
       "       [100.,   0.,   1., ...,   1.,   1.,   1.]])"
      ]
     },
     "execution_count": 76,
     "metadata": {},
     "output_type": "execute_result"
    }
   ],
   "source": [
    "listings_eval_update_np"
   ]
  },
  {
   "cell_type": "code",
   "execution_count": 97,
   "metadata": {
    "collapsed": false
   },
   "outputs": [
    {
     "name": "stdout",
     "output_type": "stream",
     "text": [
      "Mean Absoloute Error for  <function standEst at 0x1a0ce19758>  :  3.571934409925234\n"
     ]
    }
   ],
   "source": [
    "test(listings_eval_update_np, 0.2,standEst,ecludSim)"
   ]
  },
  {
   "cell_type": "code",
   "execution_count": 98,
   "metadata": {
    "collapsed": false
   },
   "outputs": [
    {
     "name": "stdout",
     "output_type": "stream",
     "text": [
      "Mean Absoloute Error for  <function standEst at 0x1a0ce19758>  :  17.90053351376006\n"
     ]
    }
   ],
   "source": [
    "test(listings_eval_update_np, 0.2,standEst,cosSim)"
   ]
  },
  {
   "cell_type": "code",
   "execution_count": 94,
   "metadata": {
    "collapsed": true
   },
   "outputs": [],
   "source": [
    "# standard data recommend function for pearsim to ignore NAN problem;\n",
    "def standEst_p(dataMat, user, simMeas, item):\n",
    "    n = shape(dataMat)[1]\n",
    "    simTotal = 0.0; ratSimTotal = 0.0\n",
    "    for j in range(n):\n",
    "        userRating = dataMat[user,j]\n",
    "        if userRating == 0: continue\n",
    "        overLap = nonzero(logical_and(dataMat[:,item]>0, \\\n",
    "                                      dataMat[:,j]>0))[0]\n",
    "        if len(overLap) == 0: similarity = 0\n",
    "        else: similarity = simMeas(dataMat[overLap,item], \\\n",
    "                                   dataMat[overLap,j])\n",
    "        #print 'the %d and %d similarity is: %f' % (item, j, similarity)\n",
    "        if similarity>=0: \n",
    "            simTotal += similarity\n",
    "            ratSimTotal += similarity * userRating\n",
    "    if simTotal == 0: return 0\n",
    "    else: return ratSimTotal/simTotal"
   ]
  },
  {
   "cell_type": "code",
   "execution_count": 99,
   "metadata": {
    "collapsed": false
   },
   "outputs": [
    {
     "name": "stdout",
     "output_type": "stream",
     "text": [
      "Mean Absoloute Error for  <function standEst_p at 0x1a0ceac8c0>  :  18.08588444160661\n"
     ]
    }
   ],
   "source": [
    "test(listings_eval_update_np, 0.2,standEst_p,pearsSim)"
   ]
  },
  {
   "cell_type": "code",
   "execution_count": 116,
   "metadata": {
    "collapsed": true
   },
   "outputs": [],
   "source": [
    "def compare_sims(data):\n",
    "    x=[]\n",
    "    score1 =[]\n",
    "    score2 =[]\n",
    "    score3 =[]\n",
    "    for i in range(5,50,5):\n",
    "        crosssize = i *0.01\n",
    "        score1.append(test(data,crosssize,standEst,ecludSim))\n",
    "        score2.append(test(data,crosssize,standEst,cosSim))\n",
    "        score3.append(test(data,crosssize,standEst_p,pearsSim))\n",
    "        x.append(crosssize)\n",
    "    plt.plot(x, score1, label='Euclidean',alpha=0.7, lw=2, c='r')  \n",
    "    plt.plot(x, score2, label='Cosine',alpha=0.7, lw=2, c='b')\n",
    "    plt.plot(x, score3, label='pearsSim',alpha=0.7, lw=2, c='g')\n",
    "    plt.legend(loc=8)\n",
    "    plt.xlabel('Test Ratio')\n",
    "    plt.ylabel(\"Mean Absolute Error\")"
   ]
  },
  {
   "cell_type": "code",
   "execution_count": 117,
   "metadata": {
    "collapsed": false
   },
   "outputs": [
    {
     "name": "stdout",
     "output_type": "stream",
     "text": [
      "Mean Absoloute Error for  <function standEst at 0x1a0ce19758>  :  5.701700194221867\n",
      "Mean Absoloute Error for  <function standEst at 0x1a0ce19758>  :  8.307114586603898\n",
      "Mean Absoloute Error for  <function standEst_p at 0x1a0ceac8c0>  :  27.725843444637185\n",
      "Mean Absoloute Error for  <function standEst at 0x1a0ce19758>  :  1.5302202861132443\n",
      "Mean Absoloute Error for  <function standEst at 0x1a0ce19758>  :  14.034182189776613\n",
      "Mean Absoloute Error for  <function standEst_p at 0x1a0ceac8c0>  :  28.57908198992852\n",
      "Mean Absoloute Error for  <function standEst at 0x1a0ce19758>  :  1.0317156007685717\n",
      "Mean Absoloute Error for  <function standEst at 0x1a0ce19758>  :  15.730023997808136\n",
      "Mean Absoloute Error for  <function standEst_p at 0x1a0ceac8c0>  :  16.93637046783051\n",
      "Mean Absoloute Error for  <function standEst at 0x1a0ce19758>  :  3.571934409925234\n",
      "Mean Absoloute Error for  <function standEst at 0x1a0ce19758>  :  17.90053351376006\n",
      "Mean Absoloute Error for  <function standEst_p at 0x1a0ceac8c0>  :  18.08588444160661\n",
      "Mean Absoloute Error for  <function standEst at 0x1a0ce19758>  :  3.2276180447073375\n",
      "Mean Absoloute Error for  <function standEst at 0x1a0ce19758>  :  18.843112074820958\n",
      "Mean Absoloute Error for  <function standEst_p at 0x1a0ceac8c0>  :  15.805399460880837\n",
      "Mean Absoloute Error for  <function standEst at 0x1a0ce19758>  :  5.0608177030313914\n",
      "Mean Absoloute Error for  <function standEst at 0x1a0ce19758>  :  20.481200260231265\n",
      "Mean Absoloute Error for  <function standEst_p at 0x1a0ceac8c0>  :  20.02573483631846\n",
      "Mean Absoloute Error for  <function standEst at 0x1a0ce19758>  :  4.904685989933044\n",
      "Mean Absoloute Error for  <function standEst at 0x1a0ce19758>  :  20.88043771178233\n",
      "Mean Absoloute Error for  <function standEst_p at 0x1a0ceac8c0>  :  19.836244949041493\n",
      "Mean Absoloute Error for  <function standEst at 0x1a0ce19758>  :  9.604334418605676\n",
      "Mean Absoloute Error for  <function standEst at 0x1a0ce19758>  :  23.217919723279113\n",
      "Mean Absoloute Error for  <function standEst_p at 0x1a0ceac8c0>  :  23.0315935983219\n",
      "Mean Absoloute Error for  <function standEst at 0x1a0ce19758>  :  12.431540299529264\n",
      "Mean Absoloute Error for  <function standEst at 0x1a0ce19758>  :  23.657585381009905\n",
      "Mean Absoloute Error for  <function standEst_p at 0x1a0ceac8c0>  :  24.3175318380718\n"
     ]
    },
    {
     "data": {
      "image/png": "[encoded data removed]",
      "text/plain": [
       "<matplotlib.figure.Figure at 0x1a0d509450>"
      ]
     },
     "metadata": {},
     "output_type": "display_data"
    }
   ],
   "source": [
    "compare_sims(listings_eval_update_np)"
   ]
  },
  {
   "cell_type": "markdown",
   "metadata": {},
   "source": [
    "#### Choose Euclidean as our metirc, so the results are:"
   ]
  },
  {
   "cell_type": "code",
   "execution_count": 121,
   "metadata": {
    "collapsed": true
   },
   "outputs": [],
   "source": [
    "query_index = np.random.choice(listings_eval_update.shape[0])\n",
    "distances, indices = euc_knn.kneighbors(listings_eval_update.iloc[query_index,:].values.reshape(1, -1), n_neighbors = 6)"
   ]
  },
  {
   "cell_type": "code",
   "execution_count": 122,
   "metadata": {
    "collapsed": false
   },
   "outputs": [
    {
     "name": "stdout",
     "output_type": "stream",
     "text": [
      "Recommendation for 4485427: \n",
      "\n",
      "1: 14106050, with distance of: 5.56776436283\n",
      "2: 2075284, with distance of: 5.83095189485\n",
      "3: 14490975, with distance of: 6.5574385243\n",
      "4: 1113259, with distance of: 6.63324958071\n",
      "5: 11740335, with distance of: 7.61577310586\n"
     ]
    }
   ],
   "source": [
    "for i in range(0, len(distances.flatten())):\n",
    "    if i == 0:\n",
    "        print \"Recommendation for {0}: \\n\".format(listings_eval_update.index[query_index])\n",
    "    else:\n",
    "        print \"{0}: {1}, with distance of: {2}\".format(i, listings_eval_update.index[indices.flatten()[i]], distances.flatten()[i])"
   ]
  },
  {
   "cell_type": "code",
   "execution_count": null,
   "metadata": {
    "collapsed": true
   },
   "outputs": [],
   "source": []
  }
 ],
 "metadata": {
  "kernelspec": {
   "display_name": "Python 2",
   "language": "python",
   "name": "python2"
  },
  "language_info": {
   "codemirror_mode": {
    "name": "ipython",
    "version": 2
   },
   "file_extension": ".py",
   "mimetype": "text/x-python",
   "name": "python",
   "nbconvert_exporter": "python",
   "pygments_lexer": "ipython2",
   "version": "2.7.13"
  }
 },
 "nbformat": 4,
 "nbformat_minor": 2
}
