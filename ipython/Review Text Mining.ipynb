{
 "cells": [
  {
   "cell_type": "markdown",
   "metadata": {},
   "source": [
    "# Airbnb House Analysis and Recommender Application"
   ]
  },
  {
   "cell_type": "markdown",
   "metadata": {},
   "source": [
    "##### Jie Bao, Kuangyi Zhang, Lanny Xu\n",
    "##### Dr. Bamshad Mobasher, Spring 2018"
   ]
  },
  {
   "cell_type": "markdown",
   "metadata": {},
   "source": [
    "## PART 3 Review Text Mining"
   ]
  },
  {
   "cell_type": "markdown",
   "metadata": {},
   "source": [
    "### Import Library"
   ]
  },
  {
   "cell_type": "code",
   "execution_count": 2,
   "metadata": {
    "collapsed": true
   },
   "outputs": [],
   "source": [
    "import pandas as pd\n",
    "import numpy as np\n",
    "import matplotlib.pyplot as plt\n",
    "import string"
   ]
  },
  {
   "cell_type": "markdown",
   "metadata": {},
   "source": [
    "### I. Data Preprocessing"
   ]
  },
  {
   "cell_type": "markdown",
   "metadata": {},
   "source": [
    "#### Read the dataset"
   ]
  },
  {
   "cell_type": "code",
   "execution_count": 3,
   "metadata": {
    "collapsed": true
   },
   "outputs": [],
   "source": [
    "housing_reviews = pd.read_table(\"reviews.csv\", header='infer', delimiter=\",\", na_values='NaN')"
   ]
  },
  {
   "cell_type": "code",
   "execution_count": 4,
   "metadata": {
    "collapsed": false
   },
   "outputs": [
    {
     "data": {
      "text/plain": [
       "(132353, 7)"
      ]
     },
     "execution_count": 4,
     "metadata": {},
     "output_type": "execute_result"
    }
   ],
   "source": [
    "housing_reviews.shape"
   ]
  },
  {
   "cell_type": "code",
   "execution_count": 5,
   "metadata": {
    "collapsed": false
   },
   "outputs": [
    {
     "data": {
      "text/html": [
       "<div>\n",
       "<table border=\"1\" class=\"dataframe\">\n",
       "  <thead>\n",
       "    <tr style=\"text-align: right;\">\n",
       "      <th></th>\n",
       "      <th>listing_id</th>\n",
       "      <th>id</th>\n",
       "      <th>date</th>\n",
       "      <th>reviewer_id</th>\n",
       "      <th>reviewer_name</th>\n",
       "      <th>rating</th>\n",
       "      <th>comments</th>\n",
       "    </tr>\n",
       "  </thead>\n",
       "  <tbody>\n",
       "    <tr>\n",
       "      <th>0</th>\n",
       "      <td>1301530</td>\n",
       "      <td>13937403</td>\n",
       "      <td>6/8/14</td>\n",
       "      <td>55</td>\n",
       "      <td>Deborah</td>\n",
       "      <td>93</td>\n",
       "      <td>Great location downtown near everything! Host ...</td>\n",
       "    </tr>\n",
       "    <tr>\n",
       "      <th>1</th>\n",
       "      <td>192652</td>\n",
       "      <td>708419</td>\n",
       "      <td>11/10/11</td>\n",
       "      <td>99</td>\n",
       "      <td>Laura</td>\n",
       "      <td>97</td>\n",
       "      <td>Stephanie was awesome! Highly recommended, gre...</td>\n",
       "    </tr>\n",
       "    <tr>\n",
       "      <th>2</th>\n",
       "      <td>14081954</td>\n",
       "      <td>146698448</td>\n",
       "      <td>4/23/17</td>\n",
       "      <td>464</td>\n",
       "      <td>Jamison</td>\n",
       "      <td>100</td>\n",
       "      <td>The place was so cool. The whole family loved ...</td>\n",
       "    </tr>\n",
       "    <tr>\n",
       "      <th>3</th>\n",
       "      <td>9452418</td>\n",
       "      <td>75922280</td>\n",
       "      <td>5/23/16</td>\n",
       "      <td>706</td>\n",
       "      <td>Eamon</td>\n",
       "      <td>100</td>\n",
       "      <td>Anne is a very thoughtful host who left all th...</td>\n",
       "    </tr>\n",
       "    <tr>\n",
       "      <th>4</th>\n",
       "      <td>3385966</td>\n",
       "      <td>108126286</td>\n",
       "      <td>10/14/16</td>\n",
       "      <td>1143</td>\n",
       "      <td>Katie</td>\n",
       "      <td>97</td>\n",
       "      <td>Chad's place is awesome! It's a quiet, clean, ...</td>\n",
       "    </tr>\n",
       "  </tbody>\n",
       "</table>\n",
       "</div>"
      ],
      "text/plain": [
       "   listing_id         id      date  reviewer_id reviewer_name  rating  \\\n",
       "0     1301530   13937403    6/8/14           55       Deborah      93   \n",
       "1      192652     708419  11/10/11           99         Laura      97   \n",
       "2    14081954  146698448   4/23/17          464       Jamison     100   \n",
       "3     9452418   75922280   5/23/16          706         Eamon     100   \n",
       "4     3385966  108126286  10/14/16         1143         Katie      97   \n",
       "\n",
       "                                            comments  \n",
       "0  Great location downtown near everything! Host ...  \n",
       "1  Stephanie was awesome! Highly recommended, gre...  \n",
       "2  The place was so cool. The whole family loved ...  \n",
       "3  Anne is a very thoughtful host who left all th...  \n",
       "4  Chad's place is awesome! It's a quiet, clean, ...  "
      ]
     },
     "execution_count": 5,
     "metadata": {},
     "output_type": "execute_result"
    }
   ],
   "source": [
    "housing_reviews.head()"
   ]
  },
  {
   "cell_type": "code",
   "execution_count": 6,
   "metadata": {
    "collapsed": false
   },
   "outputs": [
    {
     "data": {
      "text/html": [
       "<div>\n",
       "<table border=\"1\" class=\"dataframe\">\n",
       "  <thead>\n",
       "    <tr style=\"text-align: right;\">\n",
       "      <th></th>\n",
       "      <th>count</th>\n",
       "      <th>unique</th>\n",
       "      <th>top</th>\n",
       "      <th>freq</th>\n",
       "      <th>mean</th>\n",
       "      <th>std</th>\n",
       "      <th>min</th>\n",
       "      <th>25%</th>\n",
       "      <th>50%</th>\n",
       "      <th>75%</th>\n",
       "      <th>max</th>\n",
       "    </tr>\n",
       "  </thead>\n",
       "  <tbody>\n",
       "    <tr>\n",
       "      <th>listing_id</th>\n",
       "      <td>132353</td>\n",
       "      <td>NaN</td>\n",
       "      <td>NaN</td>\n",
       "      <td>NaN</td>\n",
       "      <td>7.32167e+06</td>\n",
       "      <td>5.08661e+06</td>\n",
       "      <td>2384</td>\n",
       "      <td>2.73061e+06</td>\n",
       "      <td>6.88433e+06</td>\n",
       "      <td>1.19731e+07</td>\n",
       "      <td>1.85981e+07</td>\n",
       "    </tr>\n",
       "    <tr>\n",
       "      <th>id</th>\n",
       "      <td>132353</td>\n",
       "      <td>NaN</td>\n",
       "      <td>NaN</td>\n",
       "      <td>NaN</td>\n",
       "      <td>8.26275e+07</td>\n",
       "      <td>4.17666e+07</td>\n",
       "      <td>849</td>\n",
       "      <td>4.85532e+07</td>\n",
       "      <td>8.64855e+07</td>\n",
       "      <td>1.14583e+08</td>\n",
       "      <td>1.51007e+08</td>\n",
       "    </tr>\n",
       "    <tr>\n",
       "      <th>date</th>\n",
       "      <td>132353</td>\n",
       "      <td>2267</td>\n",
       "      <td>3/19/17</td>\n",
       "      <td>780</td>\n",
       "      <td>NaN</td>\n",
       "      <td>NaN</td>\n",
       "      <td>NaN</td>\n",
       "      <td>NaN</td>\n",
       "      <td>NaN</td>\n",
       "      <td>NaN</td>\n",
       "      <td>NaN</td>\n",
       "    </tr>\n",
       "    <tr>\n",
       "      <th>reviewer_id</th>\n",
       "      <td>132353</td>\n",
       "      <td>NaN</td>\n",
       "      <td>NaN</td>\n",
       "      <td>NaN</td>\n",
       "      <td>3.96426e+07</td>\n",
       "      <td>3.28041e+07</td>\n",
       "      <td>55</td>\n",
       "      <td>1.19079e+07</td>\n",
       "      <td>3.12252e+07</td>\n",
       "      <td>6.14423e+07</td>\n",
       "      <td>1.29263e+08</td>\n",
       "    </tr>\n",
       "    <tr>\n",
       "      <th>reviewer_name</th>\n",
       "      <td>132353</td>\n",
       "      <td>22527</td>\n",
       "      <td>Michael</td>\n",
       "      <td>1333</td>\n",
       "      <td>NaN</td>\n",
       "      <td>NaN</td>\n",
       "      <td>NaN</td>\n",
       "      <td>NaN</td>\n",
       "      <td>NaN</td>\n",
       "      <td>NaN</td>\n",
       "      <td>NaN</td>\n",
       "    </tr>\n",
       "    <tr>\n",
       "      <th>rating</th>\n",
       "      <td>132353</td>\n",
       "      <td>NaN</td>\n",
       "      <td>NaN</td>\n",
       "      <td>NaN</td>\n",
       "      <td>94.834</td>\n",
       "      <td>4.5955</td>\n",
       "      <td>0</td>\n",
       "      <td>93</td>\n",
       "      <td>96</td>\n",
       "      <td>98</td>\n",
       "      <td>100</td>\n",
       "    </tr>\n",
       "    <tr>\n",
       "      <th>comments</th>\n",
       "      <td>132207</td>\n",
       "      <td>130168</td>\n",
       "      <td>The host canceled this reservation the day bef...</td>\n",
       "      <td>211</td>\n",
       "      <td>NaN</td>\n",
       "      <td>NaN</td>\n",
       "      <td>NaN</td>\n",
       "      <td>NaN</td>\n",
       "      <td>NaN</td>\n",
       "      <td>NaN</td>\n",
       "      <td>NaN</td>\n",
       "    </tr>\n",
       "  </tbody>\n",
       "</table>\n",
       "</div>"
      ],
      "text/plain": [
       "                count  unique  \\\n",
       "listing_id     132353     NaN   \n",
       "id             132353     NaN   \n",
       "date           132353    2267   \n",
       "reviewer_id    132353     NaN   \n",
       "reviewer_name  132353   22527   \n",
       "rating         132353     NaN   \n",
       "comments       132207  130168   \n",
       "\n",
       "                                                             top  freq  \\\n",
       "listing_id                                                   NaN   NaN   \n",
       "id                                                           NaN   NaN   \n",
       "date                                                     3/19/17   780   \n",
       "reviewer_id                                                  NaN   NaN   \n",
       "reviewer_name                                            Michael  1333   \n",
       "rating                                                       NaN   NaN   \n",
       "comments       The host canceled this reservation the day bef...   211   \n",
       "\n",
       "                      mean          std   min          25%          50%  \\\n",
       "listing_id     7.32167e+06  5.08661e+06  2384  2.73061e+06  6.88433e+06   \n",
       "id             8.26275e+07  4.17666e+07   849  4.85532e+07  8.64855e+07   \n",
       "date                   NaN          NaN   NaN          NaN          NaN   \n",
       "reviewer_id    3.96426e+07  3.28041e+07    55  1.19079e+07  3.12252e+07   \n",
       "reviewer_name          NaN          NaN   NaN          NaN          NaN   \n",
       "rating              94.834       4.5955     0           93           96   \n",
       "comments               NaN          NaN   NaN          NaN          NaN   \n",
       "\n",
       "                       75%          max  \n",
       "listing_id     1.19731e+07  1.85981e+07  \n",
       "id             1.14583e+08  1.51007e+08  \n",
       "date                   NaN          NaN  \n",
       "reviewer_id    6.14423e+07  1.29263e+08  \n",
       "reviewer_name          NaN          NaN  \n",
       "rating                  98          100  \n",
       "comments               NaN          NaN  "
      ]
     },
     "execution_count": 6,
     "metadata": {},
     "output_type": "execute_result"
    }
   ],
   "source": [
    "housing_reviews.describe(include=\"all\").T"
   ]
  },
  {
   "cell_type": "markdown",
   "metadata": {},
   "source": [
    "#### Handle missing value "
   ]
  },
  {
   "cell_type": "code",
   "execution_count": 7,
   "metadata": {
    "collapsed": false
   },
   "outputs": [
    {
     "data": {
      "text/plain": [
       "43"
      ]
     },
     "execution_count": 7,
     "metadata": {},
     "output_type": "execute_result"
    }
   ],
   "source": [
    "drop_rating_index = housing_reviews.index[housing_reviews['rating'] == 0]\n",
    "drop_rating_index.tolist()\n",
    "len(drop_rating_index)"
   ]
  },
  {
   "cell_type": "code",
   "execution_count": 8,
   "metadata": {
    "collapsed": false
   },
   "outputs": [
    {
     "data": {
      "text/plain": [
       "Int64Index([  4130,   4481,   5888,  13391,  18099,  22288,  26113,  34279,\n",
       "             41897,  43742,  44443,  57679,  58046,  61173,  64863,  65453,\n",
       "             69640,  71573,  72794,  74187,  75437,  76131,  78542,  79317,\n",
       "             91456,  92856,  94455,  96110, 101706, 104714, 111353, 113755,\n",
       "            121041, 123545, 124217, 125056, 125250, 126668, 126776, 130801,\n",
       "            130930, 131579, 131691],\n",
       "           dtype='int64')"
      ]
     },
     "execution_count": 8,
     "metadata": {},
     "output_type": "execute_result"
    }
   ],
   "source": [
    "drop_rating_index"
   ]
  },
  {
   "cell_type": "code",
   "execution_count": 9,
   "metadata": {
    "collapsed": false
   },
   "outputs": [
    {
     "data": {
      "text/html": [
       "<div>\n",
       "<table border=\"1\" class=\"dataframe\">\n",
       "  <thead>\n",
       "    <tr style=\"text-align: right;\">\n",
       "      <th></th>\n",
       "      <th>listing_id</th>\n",
       "      <th>id</th>\n",
       "      <th>date</th>\n",
       "      <th>reviewer_id</th>\n",
       "      <th>reviewer_name</th>\n",
       "      <th>rating</th>\n",
       "      <th>comments</th>\n",
       "    </tr>\n",
       "  </thead>\n",
       "  <tbody>\n",
       "    <tr>\n",
       "      <th>4125</th>\n",
       "      <td>7803642</td>\n",
       "      <td>113971997</td>\n",
       "      <td>11/14/16</td>\n",
       "      <td>908958</td>\n",
       "      <td>Mitch</td>\n",
       "      <td>92</td>\n",
       "      <td>The space was just what I needed for a weekend...</td>\n",
       "    </tr>\n",
       "    <tr>\n",
       "      <th>4126</th>\n",
       "      <td>220660</td>\n",
       "      <td>4117595</td>\n",
       "      <td>4/11/13</td>\n",
       "      <td>909738</td>\n",
       "      <td>Dan</td>\n",
       "      <td>95</td>\n",
       "      <td>Like the other reviews posted, I absolutely en...</td>\n",
       "    </tr>\n",
       "    <tr>\n",
       "      <th>4127</th>\n",
       "      <td>4092283</td>\n",
       "      <td>25912841</td>\n",
       "      <td>1/29/15</td>\n",
       "      <td>909780</td>\n",
       "      <td>Adam</td>\n",
       "      <td>97</td>\n",
       "      <td>Jessica's place is awesome. Great location in ...</td>\n",
       "    </tr>\n",
       "    <tr>\n",
       "      <th>4128</th>\n",
       "      <td>3809530</td>\n",
       "      <td>75935478</td>\n",
       "      <td>5/23/16</td>\n",
       "      <td>909817</td>\n",
       "      <td>Jamar</td>\n",
       "      <td>99</td>\n",
       "      <td>Laura did a great job of welcoming me to her a...</td>\n",
       "    </tr>\n",
       "    <tr>\n",
       "      <th>4129</th>\n",
       "      <td>44020</td>\n",
       "      <td>15846393</td>\n",
       "      <td>7/16/14</td>\n",
       "      <td>909877</td>\n",
       "      <td>Aaron</td>\n",
       "      <td>78</td>\n",
       "      <td>The patio/deck in back absolutely makes this r...</td>\n",
       "    </tr>\n",
       "    <tr>\n",
       "      <th>4130</th>\n",
       "      <td>16517889</td>\n",
       "      <td>138331381</td>\n",
       "      <td>3/19/17</td>\n",
       "      <td>910034</td>\n",
       "      <td>Matthew</td>\n",
       "      <td>0</td>\n",
       "      <td>Great place to stay! would highly recommend !</td>\n",
       "    </tr>\n",
       "    <tr>\n",
       "      <th>4131</th>\n",
       "      <td>7659968</td>\n",
       "      <td>139294981</td>\n",
       "      <td>3/24/17</td>\n",
       "      <td>910122</td>\n",
       "      <td>Lisa</td>\n",
       "      <td>100</td>\n",
       "      <td>These hosts are great at communicating.  Their...</td>\n",
       "    </tr>\n",
       "  </tbody>\n",
       "</table>\n",
       "</div>"
      ],
      "text/plain": [
       "      listing_id         id      date  reviewer_id reviewer_name  rating  \\\n",
       "4125     7803642  113971997  11/14/16       908958         Mitch      92   \n",
       "4126      220660    4117595   4/11/13       909738           Dan      95   \n",
       "4127     4092283   25912841   1/29/15       909780          Adam      97   \n",
       "4128     3809530   75935478   5/23/16       909817         Jamar      99   \n",
       "4129       44020   15846393   7/16/14       909877         Aaron      78   \n",
       "4130    16517889  138331381   3/19/17       910034       Matthew       0   \n",
       "4131     7659968  139294981   3/24/17       910122          Lisa     100   \n",
       "\n",
       "                                               comments  \n",
       "4125  The space was just what I needed for a weekend...  \n",
       "4126  Like the other reviews posted, I absolutely en...  \n",
       "4127  Jessica's place is awesome. Great location in ...  \n",
       "4128  Laura did a great job of welcoming me to her a...  \n",
       "4129  The patio/deck in back absolutely makes this r...  \n",
       "4130      Great place to stay! would highly recommend !  \n",
       "4131  These hosts are great at communicating.  Their...  "
      ]
     },
     "execution_count": 9,
     "metadata": {},
     "output_type": "execute_result"
    }
   ],
   "source": [
    "housing_reviews[4125:4132]"
   ]
  },
  {
   "cell_type": "code",
   "execution_count": 10,
   "metadata": {
    "collapsed": false
   },
   "outputs": [
    {
     "data": {
      "text/plain": [
       "(132310, 7)"
      ]
     },
     "execution_count": 10,
     "metadata": {},
     "output_type": "execute_result"
    }
   ],
   "source": [
    "housing_reviews = housing_reviews.drop(housing_reviews.index[drop_rating_index])\n",
    "housing_reviews.shape"
   ]
  },
  {
   "cell_type": "code",
   "execution_count": 11,
   "metadata": {
    "collapsed": false
   },
   "outputs": [
    {
     "data": {
      "text/plain": [
       "(132164, 7)"
      ]
     },
     "execution_count": 11,
     "metadata": {},
     "output_type": "execute_result"
    }
   ],
   "source": [
    "housing_reviews = housing_reviews[~housing_reviews['comments'].isnull()] \n",
    "housing_reviews = housing_reviews[~housing_reviews['rating'].isnull()] \n",
    "housing_reviews.shape"
   ]
  },
  {
   "cell_type": "markdown",
   "metadata": {},
   "source": [
    "#### Separate into test and target variables"
   ]
  },
  {
   "cell_type": "code",
   "execution_count": 12,
   "metadata": {
    "collapsed": false
   },
   "outputs": [
    {
     "data": {
      "text/plain": [
       "count    132164.000000\n",
       "mean         94.865924\n",
       "std           4.266268\n",
       "min          20.000000\n",
       "25%          93.000000\n",
       "50%          96.000000\n",
       "75%          98.000000\n",
       "max         100.000000\n",
       "Name: rating, dtype: float64"
      ]
     },
     "execution_count": 12,
     "metadata": {},
     "output_type": "execute_result"
    }
   ],
   "source": [
    "reviews_target = housing_reviews['rating']\n",
    "reviews_x = housing_reviews[['listing_id', 'id', 'date', 'reviewer_id', 'reviewer_name', 'comments']]\n",
    "housing_reviews['rating'].describe()"
   ]
  },
  {
   "cell_type": "markdown",
   "metadata": {},
   "source": [
    "#### Binning"
   ]
  },
  {
   "cell_type": "code",
   "execution_count": 13,
   "metadata": {
    "collapsed": false
   },
   "outputs": [
    {
     "data": {
      "text/plain": [
       "0     93\n",
       "1     97\n",
       "2    100\n",
       "3    100\n",
       "4     97\n",
       "Name: rating, dtype: int64"
      ]
     },
     "execution_count": 13,
     "metadata": {},
     "output_type": "execute_result"
    }
   ],
   "source": [
    "reviews_target[:5]"
   ]
  },
  {
   "cell_type": "code",
   "execution_count": 14,
   "metadata": {
    "collapsed": false
   },
   "outputs": [
    {
     "data": {
      "text/html": [
       "<div>\n",
       "<table border=\"1\" class=\"dataframe\">\n",
       "  <thead>\n",
       "    <tr style=\"text-align: right;\">\n",
       "      <th></th>\n",
       "      <th>0</th>\n",
       "      <th>1</th>\n",
       "      <th>2</th>\n",
       "      <th>3</th>\n",
       "      <th>4</th>\n",
       "      <th>5</th>\n",
       "      <th>6</th>\n",
       "      <th>7</th>\n",
       "      <th>8</th>\n",
       "      <th>9</th>\n",
       "      <th>...</th>\n",
       "      <th>132343</th>\n",
       "      <th>132344</th>\n",
       "      <th>132345</th>\n",
       "      <th>132346</th>\n",
       "      <th>132347</th>\n",
       "      <th>132348</th>\n",
       "      <th>132349</th>\n",
       "      <th>132350</th>\n",
       "      <th>132351</th>\n",
       "      <th>132352</th>\n",
       "    </tr>\n",
       "  </thead>\n",
       "  <tbody>\n",
       "    <tr>\n",
       "      <th>rating</th>\n",
       "      <td>2</td>\n",
       "      <td>3</td>\n",
       "      <td>5</td>\n",
       "      <td>5</td>\n",
       "      <td>3</td>\n",
       "      <td>1</td>\n",
       "      <td>1</td>\n",
       "      <td>4</td>\n",
       "      <td>4</td>\n",
       "      <td>1</td>\n",
       "      <td>...</td>\n",
       "      <td>5</td>\n",
       "      <td>3</td>\n",
       "      <td>2</td>\n",
       "      <td>5</td>\n",
       "      <td>3</td>\n",
       "      <td>5</td>\n",
       "      <td>5</td>\n",
       "      <td>5</td>\n",
       "      <td>3</td>\n",
       "      <td>2</td>\n",
       "    </tr>\n",
       "  </tbody>\n",
       "</table>\n",
       "<p>1 rows × 132164 columns</p>\n",
       "</div>"
      ],
      "text/plain": [
       "        0       1       2       3       4       5       6       7       \\\n",
       "rating       2       3       5       5       3       1       1       4   \n",
       "\n",
       "        8       9        ...    132343  132344  132345  132346  132347  \\\n",
       "rating       4       1   ...         5       3       2       5       3   \n",
       "\n",
       "        132348  132349  132350  132351  132352  \n",
       "rating       5       5       5       3       2  \n",
       "\n",
       "[1 rows x 132164 columns]"
      ]
     },
     "execution_count": 14,
     "metadata": {},
     "output_type": "execute_result"
    }
   ],
   "source": [
    "df = pd.DataFrame()\n",
    "df['rating'], bins = pd.qcut(reviews_target, 5, labels=np.arange(5) + 1 , retbins = True)\n",
    "df.T"
   ]
  },
  {
   "cell_type": "code",
   "execution_count": 15,
   "metadata": {
    "collapsed": false
   },
   "outputs": [
    {
     "data": {
      "text/plain": [
       "132164"
      ]
     },
     "execution_count": 15,
     "metadata": {},
     "output_type": "execute_result"
    }
   ],
   "source": [
    "df.rating = pd.Categorical(df.rating)\n",
    "df['code'] = df.rating.cat.codes\n",
    "reviews_target = df.rating.astype('category').cat.codes\n",
    "len(reviews_target)"
   ]
  },
  {
   "cell_type": "code",
   "execution_count": 16,
   "metadata": {
    "collapsed": false
   },
   "outputs": [
    {
     "name": "stdout",
     "output_type": "stream",
     "text": [
      "0    1\n",
      "1    2\n",
      "2    4\n",
      "3    4\n",
      "4    2\n",
      "dtype: int8\n"
     ]
    }
   ],
   "source": [
    "print reviews_target[:5]"
   ]
  },
  {
   "cell_type": "code",
   "execution_count": 17,
   "metadata": {
    "collapsed": false
   },
   "outputs": [
    {
     "name": "stdout",
     "output_type": "stream",
     "text": [
      "1    32214\n",
      "2    32029\n",
      "0    28626\n",
      "4    21791\n",
      "3    17504\n",
      "dtype: int64\n"
     ]
    }
   ],
   "source": [
    "print pd.value_counts(reviews_target)"
   ]
  },
  {
   "cell_type": "code",
   "execution_count": 18,
   "metadata": {
    "collapsed": false
   },
   "outputs": [
    {
     "data": {
      "text/plain": [
       "0    2\n",
       "1    3\n",
       "2    5\n",
       "3    5\n",
       "4    3\n",
       "dtype: int8"
      ]
     },
     "execution_count": 18,
     "metadata": {},
     "output_type": "execute_result"
    }
   ],
   "source": [
    "reviews_target = reviews_target.iloc[:] + 1 \n",
    "reviews_target[:5]"
   ]
  },
  {
   "cell_type": "code",
   "execution_count": 19,
   "metadata": {
    "collapsed": false
   },
   "outputs": [
    {
     "name": "stdout",
     "output_type": "stream",
     "text": [
      "2    32214\n",
      "3    32029\n",
      "1    28626\n",
      "5    21791\n",
      "4    17504\n",
      "dtype: int64\n"
     ]
    }
   ],
   "source": [
    "print pd.value_counts(reviews_target)"
   ]
  },
  {
   "cell_type": "code",
   "execution_count": 26,
   "metadata": {
    "collapsed": false
   },
   "outputs": [
    {
     "data": {
      "text/plain": [
       "<matplotlib.axes._subplots.AxesSubplot at 0x11830e48>"
      ]
     },
     "execution_count": 26,
     "metadata": {},
     "output_type": "execute_result"
    },
    {
     "data": {
      "image/png": "[encoded data removed]",
      "text/plain": [
       "<matplotlib.figure.Figure at 0x1185b588>"
      ]
     },
     "metadata": {},
     "output_type": "display_data"
    }
   ],
   "source": [
    "%matplotlib inline\n",
    "reviews_target.plot(kind=\"hist\", bins=10)"
   ]
  },
  {
   "cell_type": "markdown",
   "metadata": {},
   "source": [
    "### 2. Document Text Mining Preprocessing"
   ]
  },
  {
   "cell_type": "code",
   "execution_count": 44,
   "metadata": {
    "collapsed": true
   },
   "outputs": [],
   "source": [
    "import nltk\n",
    "from nltk.stem import PorterStemmer\n",
    "from nltk.tokenize import word_tokenize, sent_tokenize"
   ]
  },
  {
   "cell_type": "code",
   "execution_count": 45,
   "metadata": {
    "collapsed": true
   },
   "outputs": [],
   "source": [
    "# the words which appear frequently in the document\n",
    "words_to_remove=['i', 'me', 'my', 'myself', 'we', 'our', 'ours', 'ourselves', 'you', 'your', 'yours',\n",
    "'yourself', 'yourselves', 'he', 'him', 'his', 'himself', 'she', 'her', 'hers',\n",
    "'herself', 'it', 'its', 'itself', 'they', 'them', 'their', 'theirs', 'themselves',\n",
    "'what', 'which', 'who', 'whom', 'this', 'that', 'these', 'those', 'am', 'is', 'are',\n",
    "'was', 'were', 'be', 'been', 'being', 'have', 'has', 'had', 'having', 'do', 'does',\n",
    "'did', 'doing', 'a', 'an', 'the', 'and', 'but', 'if', 'or', 'because', 'as', 'until',\n",
    "'while', 'of', 'at', 'by', 'for', 'with', 'about', 'against', 'between', 'into',\n",
    "'through', 'during', 'before', 'after', 'above', 'below', 'to', 'from', 'up', 'down',\n",
    "'in', 'out', 'on', 'off', 'over', 'under', 'again', 'further', 'then', 'once', 'here',\n",
    "'there', 'when', 'where', 'why', 'how', 'all', 'any', 'both', 'each', 'few', 'more',\n",
    "'most', 'other', 'some', 'such', 'no', 'nor', 'not', 'only', 'own', 'same', 'so',\n",
    "'than', 'too', 'very', 's', 't', 'can', 'will', 'just', 'don', 'should', 'now']"
   ]
  },
  {
   "cell_type": "markdown",
   "metadata": {},
   "source": [
    "#### Remove stopwords, tokenize and stemming"
   ]
  },
  {
   "cell_type": "code",
   "execution_count": 46,
   "metadata": {
    "collapsed": true
   },
   "outputs": [],
   "source": [
    "import nltk\n",
    "from nltk.stem.porter import PorterStemmer\n",
    "def clean_my_data(text):\n",
    "    stemmer = PorterStemmer()\n",
    "    clean_text=[]\n",
    "    tokens = nltk.word_tokenize(text)\n",
    "    tagged = nltk.pos_tag(tokens)\n",
    "    container=[]\n",
    "    for words in tagged:\n",
    "\n",
    "        if (words[1][0] == 'N' or words[1][0]=='J' or words[1][0] == 'V') and (words[1][0] not in words_to_remove):\n",
    "            container.append(words[0])\n",
    "    for words in container:\n",
    "        word = stemmer.stem(words)\n",
    "        clean_text.append(word)\n",
    "    return ' '.join(clean_text)"
   ]
  },
  {
   "cell_type": "code",
   "execution_count": 47,
   "metadata": {
    "collapsed": false
   },
   "outputs": [
    {
     "name": "stdout",
     "output_type": "stream",
     "text": [
      "132164\n"
     ]
    }
   ],
   "source": [
    "from bs4 import BeautifulSoup\n",
    "comments = np.array(reviews_x['comments'])\n",
    "size  = len(comments)\n",
    "print size"
   ]
  },
  {
   "cell_type": "code",
   "execution_count": 49,
   "metadata": {
    "collapsed": false,
    "scrolled": false
   },
   "outputs": [
    {
     "name": "stdout",
     "output_type": "stream",
     "text": [
      "0 for 0.0 %\n"
     ]
    },
    {
     "name": "stderr",
     "output_type": "stream",
     "text": [
      "D:\\ProgramData\\Anaconda2\\lib\\site-packages\\bs4\\__init__.py:219: UserWarning: \".\" looks like a filename, not markup. You shouldprobably open this file and pass the filehandle intoBeautiful Soup.\n",
      "  'Beautiful Soup.' % markup)\n"
     ]
    },
    {
     "name": "stdout",
     "output_type": "stream",
     "text": [
      "5000 for 3.78317847523 %\n",
      "10000 for 7.56635695046 %\n",
      "15000 for 11.3495354257 %\n",
      "20000 for 15.1327139009 %\n",
      "25000 for 18.9158923761 %\n",
      "30000 for 22.6990708514 %\n",
      "35000 for 26.4822493266 %\n",
      "40000 for 30.2654278018 %\n",
      "45000 for 34.048606277 %\n",
      "50000 for 37.8317847523 %\n"
     ]
    },
    {
     "name": "stderr",
     "output_type": "stream",
     "text": [
      "D:\\ProgramData\\Anaconda2\\lib\\site-packages\\bs4\\__init__.py:219: UserWarning: \"   .\" looks like a filename, not markup. You shouldprobably open this file and pass the filehandle intoBeautiful Soup.\n",
      "  'Beautiful Soup.' % markup)\n"
     ]
    },
    {
     "name": "stdout",
     "output_type": "stream",
     "text": [
      "55000 for 41.6149632275 %\n",
      "60000 for 45.3981417027 %\n",
      "65000 for 49.181320178 %\n",
      "70000 for 52.9644986532 %\n"
     ]
    },
    {
     "name": "stderr",
     "output_type": "stream",
     "text": [
      "D:\\ProgramData\\Anaconda2\\lib\\site-packages\\bs4\\__init__.py:219: UserWarning: \"..\" looks like a filename, not markup. You shouldprobably open this file and pass the filehandle intoBeautiful Soup.\n",
      "  'Beautiful Soup.' % markup)\n"
     ]
    },
    {
     "name": "stdout",
     "output_type": "stream",
     "text": [
      "75000 for 56.7476771284 %\n",
      "80000 for 60.5308556036 %\n",
      "85000 for 64.3140340789 %\n",
      "90000 for 68.0972125541 %\n",
      "95000 for 71.8803910293 %\n",
      "100000 for 75.6635695046 %\n",
      "105000 for 79.4467479798 %\n"
     ]
    },
    {
     "name": "stderr",
     "output_type": "stream",
     "text": [
      "D:\\ProgramData\\Anaconda2\\lib\\site-packages\\bs4\\__init__.py:219: UserWarning: \" ...\" looks like a filename, not markup. You shouldprobably open this file and pass the filehandle intoBeautiful Soup.\n",
      "  'Beautiful Soup.' % markup)\n"
     ]
    },
    {
     "name": "stdout",
     "output_type": "stream",
     "text": [
      "110000 for 83.229926455 %\n"
     ]
    },
    {
     "name": "stderr",
     "output_type": "stream",
     "text": [
      "D:\\ProgramData\\Anaconda2\\lib\\site-packages\\bs4\\__init__.py:219: UserWarning: \"...\" looks like a filename, not markup. You shouldprobably open this file and pass the filehandle intoBeautiful Soup.\n",
      "  'Beautiful Soup.' % markup)\n"
     ]
    },
    {
     "name": "stdout",
     "output_type": "stream",
     "text": [
      "115000 for 87.0131049302 %\n"
     ]
    },
    {
     "name": "stderr",
     "output_type": "stream",
     "text": [
      "D:\\ProgramData\\Anaconda2\\lib\\site-packages\\bs4\\__init__.py:219: UserWarning: \"....\" looks like a filename, not markup. You shouldprobably open this file and pass the filehandle intoBeautiful Soup.\n",
      "  'Beautiful Soup.' % markup)\n"
     ]
    },
    {
     "name": "stdout",
     "output_type": "stream",
     "text": [
      "120000 for 90.7962834055 %\n",
      "125000 for 94.5794618807 %\n"
     ]
    },
    {
     "name": "stderr",
     "output_type": "stream",
     "text": [
      "D:\\ProgramData\\Anaconda2\\lib\\site-packages\\bs4\\__init__.py:219: UserWarning: \"/\" looks like a filename, not markup. You shouldprobably open this file and pass the filehandle intoBeautiful Soup.\n",
      "  'Beautiful Soup.' % markup)\n",
      "D:\\ProgramData\\Anaconda2\\lib\\site-packages\\bs4\\__init__.py:219: UserWarning: \"......\" looks like a filename, not markup. You shouldprobably open this file and pass the filehandle intoBeautiful Soup.\n",
      "  'Beautiful Soup.' % markup)\n"
     ]
    },
    {
     "name": "stdout",
     "output_type": "stream",
     "text": [
      "130000 for 98.3626403559 %\n"
     ]
    },
    {
     "name": "stderr",
     "output_type": "stream",
     "text": [
      "D:\\ProgramData\\Anaconda2\\lib\\site-packages\\bs4\\__init__.py:219: UserWarning: \" .\" looks like a filename, not markup. You shouldprobably open this file and pass the filehandle intoBeautiful Soup.\n",
      "  'Beautiful Soup.' % markup)\n"
     ]
    }
   ],
   "source": [
    "clean_text = []\n",
    "number = 0\n",
    "for comment in comments:\n",
    "    text = BeautifulSoup(comment, \"lxml\").get_text()\n",
    "    text = clean_my_data(text)\n",
    "    clean_text.append(text)\n",
    "    if(number % 5000 == 0):\n",
    "        print number, \"for\", 100*(number/float(size)), \"%\"\n",
    "    number += 1"
   ]
  },
  {
   "cell_type": "code",
   "execution_count": 51,
   "metadata": {
    "collapsed": false
   },
   "outputs": [
    {
     "name": "stdout",
     "output_type": "stream",
     "text": [
      "great place great host excel commun process\n"
     ]
    }
   ],
   "source": [
    "print clean_text[10]"
   ]
  },
  {
   "cell_type": "code",
   "execution_count": 52,
   "metadata": {
    "collapsed": false
   },
   "outputs": [
    {
     "data": {
      "text/plain": [
       "'Great place and a great host.  Excellent communication throughout the process.'"
      ]
     },
     "execution_count": 52,
     "metadata": {},
     "output_type": "execute_result"
    }
   ],
   "source": [
    "comments[10]"
   ]
  },
  {
   "cell_type": "code",
   "execution_count": 53,
   "metadata": {
    "collapsed": false
   },
   "outputs": [
    {
     "data": {
      "text/plain": [
       "<132164x5000 sparse matrix of type '<type 'numpy.int64'>'\n",
       "\twith 3385614 stored elements in Compressed Sparse Row format>"
      ]
     },
     "execution_count": 53,
     "metadata": {},
     "output_type": "execute_result"
    }
   ],
   "source": [
    "from sklearn.feature_extraction.text import CountVectorizer\n",
    "from sklearn.externals import joblib\n",
    "import cPickle as pickle\n",
    "\n",
    "cv = CountVectorizer(analyzer = \"word\", tokenizer = None, preprocessor = None, stop_words = None, max_features = 5000)\n",
    "cv_fit = cv.fit_transform(clean_text)\n",
    "cv_fit"
   ]
  },
  {
   "cell_type": "code",
   "execution_count": 54,
   "metadata": {
    "collapsed": false
   },
   "outputs": [
    {
     "data": {
      "text/plain": [
       "5000"
      ]
     },
     "execution_count": 54,
     "metadata": {},
     "output_type": "execute_result"
    }
   ],
   "source": [
    "len(cv_fit.toarray()[0])"
   ]
  },
  {
   "cell_type": "code",
   "execution_count": 55,
   "metadata": {
    "collapsed": false
   },
   "outputs": [
    {
     "name": "stdout",
     "output_type": "stream",
     "text": [
      "[992  38  77 ...,  53  27  75]\n"
     ]
    }
   ],
   "source": [
    "print(cv_fit.toarray().sum(axis=0))"
   ]
  },
  {
   "cell_type": "code",
   "execution_count": 56,
   "metadata": {
    "collapsed": false,
    "scrolled": false
   },
   "outputs": [
    {
     "name": "stdout",
     "output_type": "stream",
     "text": [
      "[u'10', u'10min', u'11', u'12', u'15', u'15min', u'1st', u'20', u'20min', u'24', u'25', u'2nd', u'30', u'35', u'40', u'45', u'4th', u'90', u'__', u'___', u'____', u'_____', u'______', u'___\\xb5', u'___\\xfc', u'___\\xfc__', u'___\\u0105', u'_\\xb5', u'_\\xb5__', u'_\\xbc', u'_\\xbc_', u'_\\xbe', u'_\\xe0', u'_\\xe0_', u'_\\xe0__', u'_\\xe1', u'_\\xe1_', u'_\\xe2', u'_\\xe3', u'_\\xe3\\xbe', u'_\\xe3\\xbe\\xf1', u'_\\xe3\\xbe\\xf6\\xe0\\u0153_', u'_\\xe3\\u0153', u'_\\xe3\\u0153\\xef', u'_\\xe4', u'_\\xe8', u'_\\xe8_\\xfc', u'_\\xe9', u'_\\xea', u'_\\xee', u'_\\xef', u'_\\xf3', u'_\\xf4', u'_\\xf6', u'_\\xfc', u'_\\xfc__', u'_\\xfd', u'_\\u0103', u'_\\u0105', u'_\\u010d', u'_\\u0119', u'_\\u013e', u'_\\u0153', u'_\\u0153\\xfc\\xfc', u'_\\u0153\\xfc\\xfc\\u0153', u'_\\u0155', u'_\\u0161', u'_\\u0165', u'_\\u016f', u'_\\u017a', u'aaron', u'abbi', u'abbiamo', u'abend', u'aber', u'abil', u'abl', u'abnb', u'abod', u'abov', u'absenc', u'absolut', u'abund', u'ac', u'accent', u'accept', u'acces', u'acceso', u'access', u'accessori', u'accid', u'accomad', u'accommod', u'accomod', u'accompani', u'accord', u'account', u'accueil', u'accueillant', u'accueilli', u'accur', u'accus', u'acc\\u011b\\u017a', u'acogedor', u'acquaint', u'act', u'action', u'activ', u'actual', u'ad', u'adam', u'adapt', u'add', u'addison', u'addit', u'address', u'adem\\u011b\\xe1', u'adem\\u043b\\u0430', u'adequ', u'adi', u'adjac', u'adjoin', u'adjust', u'admir', u'admit', u'ador', u'adorn', u'adress', u'adriana', u'adult', u'advanc', u'advantag', u'adventur', u'advertis', u'advic', u'advis', u'ae', u'aeropuerto', u'aesthet', u'affect', u'affection', u'afford', u'afraid', u'afri', u'african', u'afternoon', u'afterward', u'ag', u'aga', u'again', u'age', u'agenda', u'aggress', u'agn', u'agr', u'agrad', u'agre', u'agr\\u011b\\u0161abl', u'ahold', u'ai', u'aid', u'ainsi', u'air', u'airb', u'airbnb', u'airbnber', u'aircon', u'airi', u'airlin', u'airport', u'ais', u'aish', u'aisha', u'aishwarya', u'aist', u'al', u'alan', u'alarm', u'alayna', u'albert', u'alcohol', u'aldi', u'alejandra', u'alert', u'alex', u'alexand', u'alexandra', u'alfredo', u'algenoy', u'algo', u'ali', u'alicia', u'alin', u'alison', u'aliv', u'all', u'alla', u'allem', u'allen', u'allend', u'aller', u'allerg', u'allergi', u'alley', u'alli', u'allison', u'allow', u'almond', u'almost', u'alok', u'alon', u'alot', u'alright', u'also', u'altern', u'alvin', u'alway', u'alyssa', u'am', u'amabl', u'amado', u'amanda', u'amarachi', u'amaz', u'amazing', u'amazon', u'amber', u'ambianc', u'ambienc', u'ambient', u'amen', u'america', u'american', u'ami', u'amiabl', u'amigo', u'ammen', u'amount', u'ampl', u'amplia', u'amplio', u'an', u'ana', u'anch', u'and', u'andersonvil', u'andi', u'andr', u'andrea', u'andrew', u'anfitrion', u'anfitriona', u'anfitri\\u011b_n', u'anfitri\\u043b_n', u'angel', u'angela', u'angelica', u'angenehm', u'angi', u'ani', u'anim', u'anita', u'anjli', u'ankunft', u'ann', u'anna', u'annex', u'anni', u'anniversari', u'announc', u'annoy', u'annual', u'answer', u'ant', u'anthoni', u'anticip', u'antiqu', u'anton', u'antonio', u'anuncio', u'anxiou', u'anybodi', u'anyon', u'anyth', u'anytim', u'anyway', u'anywher', u'ao', u'apart', u'aparta', u'apartamento', u'apartment', u'apolog', u'apologet', u'app', u'appar', u'appart', u'appartamento', u'appeal', u'appear', u'appl', u'appli', u'applianc', u'appoint', u'appreci', u'apprehens', u'approach', u'appropri', u'approv', u'approx', u'april', u'apt', u'aquarium', u'aqui', u'aragon', u'architectur', u'are', u'area', u'argyl', u'ariel', u'aris', u'arm', u'armando', u'armitag', u'aros', u'around', u'arrang', u'array', u'arriv', u'arrival', u'arriv\\u011b\\u0161', u'art', u'artist', u'artpart', u'artsi', u'artur', u'arturo', u'artwork', u'as', u'asap', u'ash', u'ashland', u'ashley', u'ashvin', u'asian', u'ask', u'asleep', u'asli', u'aspect', u'ass', u'asset', u'assez', u'assign', u'assist', u'associ', u'assort', u'assum', u'assur', u'at', u'ate', u'atenta', u'atento', u'atmospher', u'att', u'attach', u'attempt', u'attend', u'attent', u'attic', u'attitud', u'attract', u'au', u'auch', u'aucun', u'audibl', u'auf', u'aufenthalt', u'aughti', u'august', u'aunqu', u'aunt', u'aura', u'ausgestattet', u'aussi', u'austin', u'authent', u'auto', u'autom', u'autr', u'aux', u'av', u'avail', u'avait', u'avant', u'ave', u'avec', u'avenu', u'averag', u'avion', u'avoid', u'avoir', u'avon', u'avondal', u'aw', u'await', u'awak', u'awar', u'away', u'awesom', u'awhil', u'awkward', u'awsom', u'aygul', u'azul', u'a\\u011b\\u0161roport', u'ba', u'babi', u'bachelor', u'bachelorett', u'back', u'background', u'backpack', u'backyard', u'bacon', u'bad', u'badezimm', u'bag', u'bagel', u'baggag', u'bagno', u'bahn', u'bailey', u'bain', u'bairro', u'bake', u'bakeri', u'balanc', u'balconi', u'ball', u'ballpark', u'ballroom', u'banana', u'band', u'bang', u'bank', u'bar', u'barb', u'barbara', u'barbecu', u'bare', u'bargain', u'bark', u'barrett', u'barrio', u'bars', u'bart', u'bas', u'base', u'basebal', u'basement', u'basi', u'basic', u'basket', u'basketbal', u'bastant', u'bat', u'bath', u'bathrob', u'bathroom', u'bathtub', u'batteri', u'bay', u'ba\\u011b\\u0105o', u'bbq', u'bc', u'be', u'beach', u'bean', u'bear', u'beat', u'beaten', u'beatl', u'beatric', u'beau', u'beaucoup', u'beauti', u'beautiful', u'bebe', u'becam', u'becom', u'bed', u'bedroom', u'bedsheet', u'bedsid', u'bee', u'beef', u'been', u'beer', u'befor', u'beforehand', u'began', u'begin', u'behalf', u'behav', u'behind', u'bei', u'beiden', u'bel', u'believ', u'bell', u'bella', u'belmont', u'belong', u'below', u'bem', u'ben', u'benefit', u'benjamin', u'bennett', u'bequem', u'bernard', u'berni', u'beschreibung', u'beschrieben', u'besid', u'besoin', u'best', u'bet', u'beth', u'bethani', u'betsi', u'bett', u'better', u'betti', u'beverag', u'bewar', u'beyond', u'bf', u'bi', u'bianca', u'bicycl', u'bien', u'big', u'bigger', u'biggest', u'bijou', u'bik', u'bike', u'bill', u'billi', u'bin', u'binder', u'bird', u'birthday', u'biscuit', u'bistro', u'bit', u'bite', u'black', u'blackhawk', u'blackout', u'bladon', u'blake', u'blame', u'blanket', u'blast', u'blend', u'bless', u'blew', u'blind', u'block', u'bloomingdal', u'blow', u'blown', u'blu', u'blue', u'bluelin', u'bnb', u'boa', u'board', u'boast', u'boat', u'bob', u'bobbi', u'bodi', u'bogdan', u'bohemian', u'boiler', u'bon', u'bone', u'bongo', u'bonita', u'bonito', u'bonn', u'bonu', u'bonus', u'book', u'booklet', u'bookstor', u'boot', u'border', u'bore', u'borrow', u'bosed', u'bosi', u'boston', u'both', u'bother', u'bothersom', u'bottl', u'bottom', u'bought', u'boulevard', u'boutiqu', u'bowl', u'box', u'boy', u'boyfriend', u'boystown', u'bozena', u'br', u'bra', u'brad', u'brain', u'brand', u'brandon', u'braucht', u'bread', u'break', u'breaker', u'breakfast', u'breath', u'breathtak', u'breez', u'breezi', u'bref', u'brendan', u'bret', u'brett', u'brew', u'breweri', u'brian', u'briana', u'brick', u'bridg', u'bridgeport', u'brief', u'briefli', u'bright', u'brilliant', u'bring', u'brittani', u'broadway', u'brochur', u'broke', u'broken', u'bronson', u'bronzevil', u'brook', u'brother', u'brought', u'brown', u'browni', u'brownston', u'brows', u'bruce', u'bruit', u'brunch', u'brush', u'bruyant', u'bryan', u'bryce', u'btw', u'bu', u'bubbl', u'buck', u'bucktown', u'buddha', u'buddi', u'budget', u'buen', u'buena', u'bueno', u'bug', u'build', u'built', u'bulb', u'bull', u'bummer', u'bump', u'bunch', u'bungalow', u'bunk', u'bunmi', u'bunni', u'burger', u'burn', u'bus', u'buse', u'busi', u'buss', u'bustl', u'but', u'butter', u'buy', u'buzz', u'by', u'b\\u011b\\u0161mol', u'ca', u'cab', u'cabinet', u'cabl', u'cada', u'caf', u'cafe', u'caf\\u011b\\u0161', u'caitlin', u'cake', u'cal', u'california', u'call', u'calli', u'calm', u'calvin', u'cama', u'came', u'camera', u'cameron', u'caminando', u'camp', u'campu', u'can', u'canada', u'cancel', u'candi', u'candl', u'cant', u'cap', u'captur', u'car', u'card', u'cardin', u'care', u'carin', u'carl', u'carla', u'carlo', u'carlton', u'carmen', u'carolin', u'carolina', u'carpet', u'carri', u'carriag', u'cart', u'casa', u'case', u'casey', u'cash', u'cassi', u'castl', u'casual', u'cat', u'catch', u'cater', u'catherin', u'cathern', u'cathi', u'cathlynn', u'cathrin', u'catrina', u'caught', u'caus', u'caution', u'cautiou', u'caveat', u'cc', u'cd', u'ce', u'cecilia', u'ceil', u'cela', u'celebr', u'cell', u'cellular', u'center', u'centr', u'central', u'centre', u'centro', u'centuri', u'cepend', u'cerca', u'cercano', u'cereal', u'certain', u'cesar', u'cet', u'cett', u'chad', u'chain', u'chair', u'chaleureus', u'chaleureux', u'chalk', u'chalkboard', u'challeng', u'chambr', u'champagn', u'chanc', u'chanel', u'chang', u'channel', u'chao', u'charact', u'charg', u'charger', u'charissa', u'charl', u'charla', u'charli', u'charlott', u'charm', u'charmant', u'chase', u'chat', u'che', u'cheap', u'cheaper', u'cheapest', u'check', u'checked', u'checkin', u'checking', u'checkout', u'cheer', u'cheeri', u'chees', u'chef', u'chelsi', u'cheri', u'cherri', u'cheryl', u'chester', u'chez', u'chi', u'chic', u'chicago', u'chicagoan', u'chicagoland', u'chicken', u'child', u'children', u'chill', u'chilli', u'china', u'chinatown', u'chines', u'chip', u'chitown', u'chloe', u'chocol', u'choic', u'choos', u'chose', u'chosen', u'chri', u'christi', u'christian', u'christiana', u'christin', u'christina', u'christma', u'christoph', u'chromecast', u'church', u'ci', u'cici', u'cigarett', u'cinnamon', u'circl', u'circul', u'circumst', u'citi', u'citt\\u011b\\u0119', u'city', u'ciudad', u'claim', u'clair', u'clarifi', u'clark', u'class', u'classi', u'classic', u'claudia', u'claw', u'clayton', u'clean', u'cleaner', u'cleanest', u'cleanli', u'clear', u'client', u'climb', u'clock', u'clog', u'clos', u'close', u'closebi', u'closer', u'closest', u'closet', u'cloth', u'cloud', u'club', u'clutch', u'clutter', u'clyde', u'co', u'coach', u'coast', u'coat', u'cocina', u'cocktail', u'code', u'coff', u'coffe', u'coffee', u'coffeemak', u'coffeeshop', u'coin', u'coke', u'cold', u'colder', u'colleagu', u'collect', u'colleg', u'collin', u'color', u'com', u'combin', u'combo', u'come', u'comedi', u'comer', u'comfi', u'comfort', u'comfortable', u'comic', u'comida', u'comm', u'comment', u'commerc', u'commerci', u'commit', u'common', u'commun', u'commut', u'como', u'comoda', u'comodidad', u'comodo', u'compact', u'compani', u'companion', u'compar', u'comparison', u'compens', u'complain', u'complaint', u'complementari', u'complet', u'complex', u'complic', u'compliment', u'complimentari', u'comprehens', u'comput', u'comun', u'comunicado', u'con', u'concept', u'concern', u'concert', u'concierg', u'concis', u'conclus', u'condiment', u'condit', u'condition', u'condo', u'conduc', u'confer', u'confid', u'confirm', u'conflict', u'conform', u'confort', u'confus', u'connect']\n"
     ]
    }
   ],
   "source": [
    "top5000words = cv.get_feature_names()\n",
    "print(top5000words[0:1000])"
   ]
  },
  {
   "cell_type": "code",
   "execution_count": 57,
   "metadata": {
    "collapsed": false
   },
   "outputs": [
    {
     "data": {
      "text/plain": [
       "['CountVectorizer.pkl']"
      ]
     },
     "execution_count": 57,
     "metadata": {},
     "output_type": "execute_result"
    }
   ],
   "source": [
    "# Save the model\n",
    "joblib.dump(cv, 'CountVectorizer.pkl') "
   ]
  },
  {
   "cell_type": "markdown",
   "metadata": {},
   "source": [
    "#### Create features using Scikit Learn TFIDF "
   ]
  },
  {
   "cell_type": "code",
   "execution_count": 33,
   "metadata": {
    "collapsed": false
   },
   "outputs": [
    {
     "data": {
      "text/plain": [
       "['tfidf_trans.pkl']"
      ]
     },
     "execution_count": 33,
     "metadata": {},
     "output_type": "execute_result"
    }
   ],
   "source": [
    "#TFIDF\n",
    "from sklearn.feature_extraction.text import TfidfTransformer\n",
    "tfidf_trans= TfidfTransformer()\n",
    "cv_tfidf= tfidf_trans.fit_transform(cv_fit)\n",
    "\n",
    "# model saving\n",
    "joblib.dump(tfidf_trans, 'tfidf_trans.pkl') "
   ]
  },
  {
   "cell_type": "code",
   "execution_count": 36,
   "metadata": {
    "collapsed": false
   },
   "outputs": [
    {
     "data": {
      "text/plain": [
       "(132163, 5000)"
      ]
     },
     "execution_count": 36,
     "metadata": {},
     "output_type": "execute_result"
    }
   ],
   "source": [
    "cv_tfidf.shape"
   ]
  },
  {
   "cell_type": "markdown",
   "metadata": {},
   "source": [
    "### 3. Classification using different models"
   ]
  },
  {
   "cell_type": "markdown",
   "metadata": {},
   "source": [
    "#### Split into training and testing data"
   ]
  },
  {
   "cell_type": "code",
   "execution_count": 44,
   "metadata": {
    "collapsed": false
   },
   "outputs": [
    {
     "name": "stdout",
     "output_type": "stream",
     "text": [
      "(105730, 5000) (26433, 5000) (105730,) (26433,)\n"
     ]
    }
   ],
   "source": [
    "from sklearn.cross_validation import train_test_split\n",
    "x_train, x_test, y_train, y_test = train_test_split(cv_tfidf, reviews_target, test_size=0.2, random_state=35)\n",
    "print x_train.shape, x_test.shape, y_train.shape, y_test.shape "
   ]
  },
  {
   "cell_type": "code",
   "execution_count": 45,
   "metadata": {
    "collapsed": true
   },
   "outputs": [],
   "source": [
    "#The performance metrices of various algorithm\n",
    "accuracy= pd.DataFrame()\n",
    "Algorith=[]\n",
    "Accuracy=[]"
   ]
  },
  {
   "cell_type": "code",
   "execution_count": 46,
   "metadata": {
    "collapsed": false
   },
   "outputs": [
    {
     "name": "stderr",
     "output_type": "stream",
     "text": [
      "/Users/Jie/anaconda2/lib/python2.7/site-packages/sklearn/grid_search.py:42: DeprecationWarning: This module was deprecated in version 0.18 in favor of the model_selection module into which all the refactored classes and functions are moved. This module will be removed in 0.20.\n",
      "  DeprecationWarning)\n"
     ]
    }
   ],
   "source": [
    "from  sklearn.metrics import log_loss, accuracy_score\n",
    "from sklearn.tree import DecisionTreeClassifier\n",
    "from sklearn.ensemble import AdaBoostClassifier\n",
    "from sklearn.ensemble import GradientBoostingClassifier\n",
    "from numpy import loadtxt\n",
    "from sklearn.ensemble import RandomForestClassifier\n",
    "from sklearn.grid_search import GridSearchCV\n",
    "from sklearn.linear_model import LinearRegression, Lasso, Ridge, ElasticNet, SGDRegressor\n",
    "from sklearn.naive_bayes import MultinomialNB\n",
    "from sklearn.naive_bayes import BernoulliNB\n",
    "from sklearn import linear_model\n",
    "from sklearn.model_selection import cross_val_score\n",
    "from sklearn.naive_bayes import GaussianNB"
   ]
  },
  {
   "cell_type": "markdown",
   "metadata": {},
   "source": [
    "#### Decision Tree"
   ]
  },
  {
   "cell_type": "code",
   "execution_count": 47,
   "metadata": {
    "collapsed": false
   },
   "outputs": [
    {
     "name": "stdout",
     "output_type": "stream",
     "text": [
      "Fitting 5 folds for each of 20 candidates, totalling 100 fits\n"
     ]
    },
    {
     "name": "stderr",
     "output_type": "stream",
     "text": [
      "[Parallel(n_jobs=1)]: Done 100 out of 100 | elapsed: 85.9min finished\n"
     ]
    },
    {
     "name": "stdout",
     "output_type": "stream",
     "text": [
      "CPU times: user 1h 26min 5s, sys: 29 s, total: 1h 26min 34s\n",
      "Wall time: 1h 27min 20s\n"
     ]
    }
   ],
   "source": [
    "treeclf = DecisionTreeClassifier(criterion='entropy')\n",
    "parameters = {\n",
    "    'max_depth': [20, 40, 50, 80, 100],\n",
    "    'min_samples_split': [4, 6, 10, 14]\n",
    "}\n",
    "gs_decisionTree = GridSearchCV(treeclf, parameters, verbose=1, cv=5, scoring='accuracy')\n",
    "%time _ = gs_decisionTree.fit(x_train, y_train)\n",
    "Algorith.append('Decision Tree')\n",
    "Accuracy.append(gs_decisionTree.best_score_)"
   ]
  },
  {
   "cell_type": "code",
   "execution_count": 48,
   "metadata": {
    "collapsed": false
   },
   "outputs": [
    {
     "name": "stdout",
     "output_type": "stream",
     "text": [
      "The best parameters: {'min_samples_split': 14, 'max_depth': 80}\n",
      "The best accuracy result: 0.308048803556\n"
     ]
    }
   ],
   "source": [
    "print \"The best parameters: %s\" %gs_decisionTree.best_params_\n",
    "print \"The best accuracy result: %s\" %abs(gs_decisionTree.best_score_)"
   ]
  },
  {
   "cell_type": "markdown",
   "metadata": {},
   "source": [
    "#### Naïve Bayes"
   ]
  },
  {
   "cell_type": "code",
   "execution_count": 49,
   "metadata": {
    "collapsed": false
   },
   "outputs": [
    {
     "name": "stdout",
     "output_type": "stream",
     "text": [
      "Fitting 5 folds for each of 20 candidates, totalling 100 fits\n",
      "CPU times: user 7 s, sys: 1.13 s, total: 8.13 s\n",
      "Wall time: 8.2 s\n"
     ]
    },
    {
     "name": "stderr",
     "output_type": "stream",
     "text": [
      "[Parallel(n_jobs=1)]: Done 100 out of 100 | elapsed:    8.1s finished\n"
     ]
    }
   ],
   "source": [
    "mnbclf = MultinomialNB()\n",
    "parameters = {\n",
    "    'fit_prior': [True, False],\n",
    "    'alpha': np.linspace(0.0001, 5, 10)\n",
    "}\n",
    "gs_MultinomialNB = GridSearchCV(mnbclf, parameters, verbose=1, cv=5, scoring='accuracy')\n",
    "%time _ = gs_MultinomialNB.fit(x_train, y_train)\n",
    "\n",
    "Algorith.append('Naïve Bayes')\n",
    "Accuracy.append(gs_MultinomialNB.best_score_)"
   ]
  },
  {
   "cell_type": "code",
   "execution_count": 50,
   "metadata": {
    "collapsed": false
   },
   "outputs": [
    {
     "name": "stdout",
     "output_type": "stream",
     "text": [
      "The best parameters: {'alpha': 0.0001, 'fit_prior': True}\n",
      "The best accuracy result: 0.495677669536\n"
     ]
    }
   ],
   "source": [
    "print \"The best parameters: %s\" %gs_MultinomialNB.best_params_\n",
    "print \"The best accuracy result: %s\" %abs(gs_MultinomialNB.best_score_)"
   ]
  },
  {
   "cell_type": "markdown",
   "metadata": {},
   "source": [
    "#### Random Forest"
   ]
  },
  {
   "cell_type": "code",
   "execution_count": 51,
   "metadata": {
    "collapsed": false
   },
   "outputs": [
    {
     "name": "stdout",
     "output_type": "stream",
     "text": [
      "Fitting 5 folds for each of 48 candidates, totalling 240 fits\n"
     ]
    },
    {
     "name": "stderr",
     "output_type": "stream",
     "text": [
      "[Parallel(n_jobs=1)]: Done 240 out of 240 | elapsed: 20.1min finished\n"
     ]
    },
    {
     "name": "stdout",
     "output_type": "stream",
     "text": [
      "CPU times: user 19min 53s, sys: 14 s, total: 20min 7s\n",
      "Wall time: 20min 8s\n"
     ]
    }
   ],
   "source": [
    "rfclf = RandomForestClassifier(criterion='entropy')\n",
    "parameters = {\n",
    "    'min_samples_leaf': [2, 4, 6, 10],\n",
    "    'max_depth':[40, 50, 80, 100],\n",
    "    'max_features':[40, 50, 80]\n",
    "}\n",
    "gs_RandomForest = GridSearchCV(rfclf, parameters, verbose=1, cv=5, scoring='accuracy')\n",
    "%time _ = gs_RandomForest.fit(x_train, y_train)\n",
    "\n",
    "Algorith.append('Random Forest')\n",
    "Accuracy.append(gs_RandomForest.best_score_)"
   ]
  },
  {
   "cell_type": "code",
   "execution_count": 52,
   "metadata": {
    "collapsed": false
   },
   "outputs": [
    {
     "name": "stdout",
     "output_type": "stream",
     "text": [
      "The best parameters: {'max_features': 40, 'max_depth': 100, 'min_samples_leaf': 10}\n",
      "The best accuracy result: 0.375333396387\n"
     ]
    }
   ],
   "source": [
    "print \"The best parameters: %s\" %gs_RandomForest.best_params_\n",
    "print \"The best accuracy result: %s\" %abs(gs_RandomForest.best_score_)"
   ]
  },
  {
   "cell_type": "markdown",
   "metadata": {},
   "source": [
    "#### Gradient Boosting"
   ]
  },
  {
   "cell_type": "code",
   "execution_count": 210,
   "metadata": {
    "collapsed": false
   },
   "outputs": [
    {
     "name": "stdout",
     "output_type": "stream",
     "text": [
      "Fitting 5 folds for each of 10 candidates, totalling 50 fits\n"
     ]
    },
    {
     "name": "stderr",
     "output_type": "stream",
     "text": [
      "[Parallel(n_jobs=1)]: Done  50 out of  50 | elapsed: 17.7min finished\n"
     ]
    },
    {
     "name": "stdout",
     "output_type": "stream",
     "text": [
      "CPU times: user 16min 29s, sys: 1min 37s, total: 18min 7s\n",
      "Wall time: 18min 9s\n"
     ]
    }
   ],
   "source": [
    "gbclf= GradientBoostingClassifier()\n",
    "parameters = {\n",
    "    'min_samples_split': [2, 4, 6, 8, 10],\n",
    "    'max_features':[40, 50, 80]\n",
    "}\n",
    "\n",
    "gs_GradientBoosting = GridSearchCV(gbclf, parameters, verbose=1, cv=5, scoring='accuracy')\n",
    "%time _ = gs_GradientBoosting.fit(x_train, y_train)\n",
    "\n",
    "Algorith.append('Gradient Boost')\n",
    "Accuracy.append(gs_GradientBoosting.best_score_)\n"
   ]
  },
  {
   "cell_type": "code",
   "execution_count": 211,
   "metadata": {
    "collapsed": false
   },
   "outputs": [
    {
     "name": "stdout",
     "output_type": "stream",
     "text": [
      "The best parameters: {'max_features': 50, 'min_samples_split': 2}\n",
      "The best accuracy result: 0.431832803512\n"
     ]
    }
   ],
   "source": [
    "print \"The best parameters: %s\" %gs_GradientBoosting.best_params_\n",
    "print \"The best accuracy result: %s\" %abs(gs_GradientBoosting.best_score_)"
   ]
  },
  {
   "cell_type": "markdown",
   "metadata": {},
   "source": [
    "#### Regression"
   ]
  },
  {
   "cell_type": "code",
   "execution_count": 212,
   "metadata": {
    "collapsed": false
   },
   "outputs": [
    {
     "name": "stdout",
     "output_type": "stream",
     "text": [
      "Fitting 5 folds for each of 6 candidates, totalling 30 fits\n"
     ]
    },
    {
     "name": "stderr",
     "output_type": "stream",
     "text": [
      "[Parallel(n_jobs=1)]: Done  30 out of  30 | elapsed: 31.6min finished\n"
     ]
    },
    {
     "name": "stdout",
     "output_type": "stream",
     "text": [
      "CPU times: user 59min 38s, sys: 31.6 s, total: 1h 9s\n",
      "Wall time: 31min 48s\n"
     ]
    }
   ],
   "source": [
    "parameters = {\n",
    "    'penalty': ['l1','l2'],\n",
    "    'C': [1e-5, 1, 1e5]\n",
    "}\n",
    "rgclf = linear_model.LogisticRegression()\n",
    "gs_Regression = GridSearchCV(rgclf, parameters, verbose=1, cv=5, scoring='accuracy')\n",
    "\n",
    "%time _ = gs_Regression.fit(x_train, y_train)\n",
    "Algorith.append('Regression')\n",
    "Accuracy.append(gs_Regression.best_score_)"
   ]
  },
  {
   "cell_type": "code",
   "execution_count": 213,
   "metadata": {
    "collapsed": false
   },
   "outputs": [
    {
     "name": "stdout",
     "output_type": "stream",
     "text": [
      "The best parameters: {'penalty': 'l1', 'C': 1}\n",
      "The best accuracy result: 0.514428171359\n"
     ]
    }
   ],
   "source": [
    "print \"The best parameters: %s\" %gs_Regression.best_params_\n",
    "print \"The best accuracy result: %s\" %abs(gs_Regression.best_score_)"
   ]
  },
  {
   "cell_type": "markdown",
   "metadata": {},
   "source": [
    "#### Performance metrices of all algorithms"
   ]
  },
  {
   "cell_type": "code",
   "execution_count": 214,
   "metadata": {
    "collapsed": false
   },
   "outputs": [
    {
     "name": "stdout",
     "output_type": "stream",
     "text": [
      "         Algorith  Accuracy\n",
      "0   Decision Tree  0.306795\n",
      "1     Naïve Bayes  0.496566\n",
      "2   Random Forest  0.363751\n",
      "3  Gradient Boost  0.431833\n",
      "4      Regression  0.514428\n"
     ]
    }
   ],
   "source": [
    "accuracy['Algorith']= Algorith\n",
    "accuracy['Accuracy']= Accuracy\n",
    "print(accuracy)"
   ]
  },
  {
   "cell_type": "markdown",
   "metadata": {},
   "source": [
    "### 4. Apply models with best parameters to testing dataset"
   ]
  },
  {
   "cell_type": "code",
   "execution_count": 53,
   "metadata": {
    "collapsed": true
   },
   "outputs": [],
   "source": [
    "prediction = dict()"
   ]
  },
  {
   "cell_type": "markdown",
   "metadata": {},
   "source": [
    "#### Decision Tree"
   ]
  },
  {
   "cell_type": "code",
   "execution_count": 54,
   "metadata": {
    "collapsed": true
   },
   "outputs": [],
   "source": [
    "tree_clf = DecisionTreeClassifier(criterion='entropy', min_samples_split = 10, max_depth = 10)\n",
    "model_dt = tree_clf.fit(x_train, y_train)\n",
    "prediction['DecisionTree'] = model_dt.predict(x_test)"
   ]
  },
  {
   "cell_type": "markdown",
   "metadata": {},
   "source": [
    "#### Naïve Bayes"
   ]
  },
  {
   "cell_type": "code",
   "execution_count": 55,
   "metadata": {
    "collapsed": true
   },
   "outputs": [],
   "source": [
    "nb_clf = MultinomialNB(alpha=0.556, fit_prior = False)\n",
    "model_nb = nb_clf.fit(x_train, y_train)\n",
    "prediction['NaiveBayes'] = model_nb.predict(x_test)"
   ]
  },
  {
   "cell_type": "markdown",
   "metadata": {},
   "source": [
    "#### Random Forest"
   ]
  },
  {
   "cell_type": "code",
   "execution_count": 56,
   "metadata": {
    "collapsed": true
   },
   "outputs": [],
   "source": [
    "rf_clf = RandomForestClassifier(criterion='entropy', max_features = 25, max_depth = 40, min_samples_leaf = 4)\n",
    "model_rf = rf_clf.fit(x_train, y_train)\n",
    "prediction['RandomForest'] = model_rf.predict(x_test)"
   ]
  },
  {
   "cell_type": "markdown",
   "metadata": {},
   "source": [
    "#### Gradient Boosting "
   ]
  },
  {
   "cell_type": "code",
   "execution_count": 57,
   "metadata": {
    "collapsed": true
   },
   "outputs": [],
   "source": [
    "gb_clf= GradientBoostingClassifier(min_samples_split = 2, max_features = 50)\n",
    "model_gb = gb_clf.fit(x_train, y_train)\n",
    "prediction['GradientBoosting'] = model_gb.predict(x_test)"
   ]
  },
  {
   "cell_type": "markdown",
   "metadata": {},
   "source": [
    "#### Regression"
   ]
  },
  {
   "cell_type": "code",
   "execution_count": 58,
   "metadata": {
    "collapsed": true
   },
   "outputs": [],
   "source": [
    "rg_clf = linear_model.LogisticRegression(C=1, penalty='l1')\n",
    "model_rg = rg_clf.fit(x_train, y_train)\n",
    "prediction['Regression'] = model_rg.predict(x_test)"
   ]
  },
  {
   "cell_type": "markdown",
   "metadata": {},
   "source": [
    "#### Results "
   ]
  },
  {
   "cell_type": "code",
   "execution_count": 59,
   "metadata": {
    "collapsed": false
   },
   "outputs": [
    {
     "name": "stdout",
     "output_type": "stream",
     "text": [
      "0.27170582226762\n",
      "0.49271743653766126\n",
      "0.34891991071766354\n",
      "0.4296901600272387\n",
      "0.514508379676919\n"
     ]
    }
   ],
   "source": [
    "from  sklearn.metrics import accuracy_score\n",
    "print accuracy_score(y_test, prediction['DecisionTree'])\n",
    "print accuracy_score(y_test, prediction['NaiveBayes'])\n",
    "print accuracy_score(y_test, prediction['RandomForest'])\n",
    "print accuracy_score(y_test, prediction['GradientBoosting'])\n",
    "print accuracy_score(y_test, prediction['Regression'])"
   ]
  },
  {
   "cell_type": "markdown",
   "metadata": {},
   "source": [
    "### 5. Save the model with best result"
   ]
  },
  {
   "cell_type": "code",
   "execution_count": 60,
   "metadata": {
    "collapsed": false
   },
   "outputs": [
    {
     "data": {
      "text/plain": [
       "['Regression_Predict_Rating.pkl']"
      ]
     },
     "execution_count": 60,
     "metadata": {},
     "output_type": "execute_result"
    }
   ],
   "source": [
    "joblib.dump(model_rg, 'Regression_Predict_Rating.pkl')"
   ]
  }
 ],
 "metadata": {
  "kernelspec": {
   "display_name": "Python 2",
   "language": "python",
   "name": "python2"
  },
  "language_info": {
   "codemirror_mode": {
    "name": "ipython",
    "version": 2
   },
   "file_extension": ".py",
   "mimetype": "text/x-python",
   "name": "python",
   "nbconvert_exporter": "python",
   "pygments_lexer": "ipython2",
   "version": "2.7.13"
  }
 },
 "nbformat": 4,
 "nbformat_minor": 2
}
