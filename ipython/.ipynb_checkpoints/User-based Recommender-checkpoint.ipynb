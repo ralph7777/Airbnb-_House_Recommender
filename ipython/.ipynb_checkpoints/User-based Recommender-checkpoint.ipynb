{
 "cells": [
  {
   "cell_type": "markdown",
   "metadata": {},
   "source": [
    "# Airbnb House Analysis and Recommender Application"
   ]
  },
  {
   "cell_type": "markdown",
   "metadata": {},
   "source": [
    "##### Jie Bao, Kuangyi Zhang, Lanny Xu\n",
    "##### Dr. Bamshad Mobasher, Spring 2018"
   ]
  },
  {
   "cell_type": "markdown",
   "metadata": {},
   "source": [
    "## PART 2   User-based Recommender"
   ]
  },
  {
   "cell_type": "code",
   "execution_count": 60,
   "metadata": {
    "collapsed": false
   },
   "outputs": [
    {
     "name": "stdout",
     "output_type": "stream",
     "text": [
      "Populating the interactive namespace from numpy and matplotlib\n"
     ]
    }
   ],
   "source": [
    "import pandas as pd\n",
    "import numpy as np\n",
    "import matplotlib.pyplot as plt\n",
    "import string"
   ]
  },
  {
   "cell_type": "markdown",
   "metadata": {},
   "source": [
    "### 1. Data Preprocessing"
   ]
  },
  {
   "cell_type": "code",
   "execution_count": 2,
   "metadata": {
    "collapsed": false
   },
   "outputs": [],
   "source": [
    "housing_reviews = pd.read_table(\"reviews.csv\", header='infer', delimiter=\",\", na_values='NaN')"
   ]
  },
  {
   "cell_type": "code",
   "execution_count": 3,
   "metadata": {
    "collapsed": false
   },
   "outputs": [
    {
     "data": {
      "text/plain": [
       "(132353, 7)"
      ]
     },
     "execution_count": 3,
     "metadata": {},
     "output_type": "execute_result"
    }
   ],
   "source": [
    "housing_reviews.shape"
   ]
  },
  {
   "cell_type": "code",
   "execution_count": 4,
   "metadata": {
    "collapsed": false
   },
   "outputs": [
    {
     "data": {
      "text/html": [
       "<div>\n",
       "<table border=\"1\" class=\"dataframe\">\n",
       "  <thead>\n",
       "    <tr style=\"text-align: right;\">\n",
       "      <th></th>\n",
       "      <th>listing_id</th>\n",
       "      <th>id</th>\n",
       "      <th>date</th>\n",
       "      <th>reviewer_id</th>\n",
       "      <th>reviewer_name</th>\n",
       "      <th>rating</th>\n",
       "      <th>comments</th>\n",
       "    </tr>\n",
       "  </thead>\n",
       "  <tbody>\n",
       "    <tr>\n",
       "      <th>0</th>\n",
       "      <td>1301530</td>\n",
       "      <td>13937403</td>\n",
       "      <td>6/8/14</td>\n",
       "      <td>55</td>\n",
       "      <td>Deborah</td>\n",
       "      <td>93</td>\n",
       "      <td>Great location downtown near everything! Host ...</td>\n",
       "    </tr>\n",
       "    <tr>\n",
       "      <th>1</th>\n",
       "      <td>192652</td>\n",
       "      <td>708419</td>\n",
       "      <td>11/10/11</td>\n",
       "      <td>99</td>\n",
       "      <td>Laura</td>\n",
       "      <td>97</td>\n",
       "      <td>Stephanie was awesome! Highly recommended, gre...</td>\n",
       "    </tr>\n",
       "    <tr>\n",
       "      <th>2</th>\n",
       "      <td>14081954</td>\n",
       "      <td>146698448</td>\n",
       "      <td>4/23/17</td>\n",
       "      <td>464</td>\n",
       "      <td>Jamison</td>\n",
       "      <td>100</td>\n",
       "      <td>The place was so cool. The whole family loved ...</td>\n",
       "    </tr>\n",
       "    <tr>\n",
       "      <th>3</th>\n",
       "      <td>9452418</td>\n",
       "      <td>75922280</td>\n",
       "      <td>5/23/16</td>\n",
       "      <td>706</td>\n",
       "      <td>Eamon</td>\n",
       "      <td>100</td>\n",
       "      <td>Anne is a very thoughtful host who left all th...</td>\n",
       "    </tr>\n",
       "    <tr>\n",
       "      <th>4</th>\n",
       "      <td>3385966</td>\n",
       "      <td>108126286</td>\n",
       "      <td>10/14/16</td>\n",
       "      <td>1143</td>\n",
       "      <td>Katie</td>\n",
       "      <td>97</td>\n",
       "      <td>Chad's place is awesome! It's a quiet, clean, ...</td>\n",
       "    </tr>\n",
       "  </tbody>\n",
       "</table>\n",
       "</div>"
      ],
      "text/plain": [
       "   listing_id         id      date  reviewer_id reviewer_name  rating  \\\n",
       "0     1301530   13937403    6/8/14           55       Deborah      93   \n",
       "1      192652     708419  11/10/11           99         Laura      97   \n",
       "2    14081954  146698448   4/23/17          464       Jamison     100   \n",
       "3     9452418   75922280   5/23/16          706         Eamon     100   \n",
       "4     3385966  108126286  10/14/16         1143         Katie      97   \n",
       "\n",
       "                                            comments  \n",
       "0  Great location downtown near everything! Host ...  \n",
       "1  Stephanie was awesome! Highly recommended, gre...  \n",
       "2  The place was so cool. The whole family loved ...  \n",
       "3  Anne is a very thoughtful host who left all th...  \n",
       "4  Chad's place is awesome! It's a quiet, clean, ...  "
      ]
     },
     "execution_count": 4,
     "metadata": {},
     "output_type": "execute_result"
    }
   ],
   "source": [
    "housing_reviews.head()"
   ]
  },
  {
   "cell_type": "code",
   "execution_count": 5,
   "metadata": {
    "collapsed": false
   },
   "outputs": [
    {
     "data": {
      "text/html": [
       "<div>\n",
       "<table border=\"1\" class=\"dataframe\">\n",
       "  <thead>\n",
       "    <tr style=\"text-align: right;\">\n",
       "      <th></th>\n",
       "      <th>count</th>\n",
       "      <th>unique</th>\n",
       "      <th>top</th>\n",
       "      <th>freq</th>\n",
       "      <th>mean</th>\n",
       "      <th>std</th>\n",
       "      <th>min</th>\n",
       "      <th>25%</th>\n",
       "      <th>50%</th>\n",
       "      <th>75%</th>\n",
       "      <th>max</th>\n",
       "    </tr>\n",
       "  </thead>\n",
       "  <tbody>\n",
       "    <tr>\n",
       "      <th>listing_id</th>\n",
       "      <td>132353</td>\n",
       "      <td>NaN</td>\n",
       "      <td>NaN</td>\n",
       "      <td>NaN</td>\n",
       "      <td>7.32167e+06</td>\n",
       "      <td>5.08661e+06</td>\n",
       "      <td>2384</td>\n",
       "      <td>2.73061e+06</td>\n",
       "      <td>6.88433e+06</td>\n",
       "      <td>1.19731e+07</td>\n",
       "      <td>1.85981e+07</td>\n",
       "    </tr>\n",
       "    <tr>\n",
       "      <th>id</th>\n",
       "      <td>132353</td>\n",
       "      <td>NaN</td>\n",
       "      <td>NaN</td>\n",
       "      <td>NaN</td>\n",
       "      <td>8.26275e+07</td>\n",
       "      <td>4.17666e+07</td>\n",
       "      <td>849</td>\n",
       "      <td>4.85532e+07</td>\n",
       "      <td>8.64855e+07</td>\n",
       "      <td>1.14583e+08</td>\n",
       "      <td>1.51007e+08</td>\n",
       "    </tr>\n",
       "    <tr>\n",
       "      <th>date</th>\n",
       "      <td>132353</td>\n",
       "      <td>2267</td>\n",
       "      <td>3/19/17</td>\n",
       "      <td>780</td>\n",
       "      <td>NaN</td>\n",
       "      <td>NaN</td>\n",
       "      <td>NaN</td>\n",
       "      <td>NaN</td>\n",
       "      <td>NaN</td>\n",
       "      <td>NaN</td>\n",
       "      <td>NaN</td>\n",
       "    </tr>\n",
       "    <tr>\n",
       "      <th>reviewer_id</th>\n",
       "      <td>132353</td>\n",
       "      <td>NaN</td>\n",
       "      <td>NaN</td>\n",
       "      <td>NaN</td>\n",
       "      <td>3.96426e+07</td>\n",
       "      <td>3.28041e+07</td>\n",
       "      <td>55</td>\n",
       "      <td>1.19079e+07</td>\n",
       "      <td>3.12252e+07</td>\n",
       "      <td>6.14423e+07</td>\n",
       "      <td>1.29263e+08</td>\n",
       "    </tr>\n",
       "    <tr>\n",
       "      <th>reviewer_name</th>\n",
       "      <td>132353</td>\n",
       "      <td>22527</td>\n",
       "      <td>Michael</td>\n",
       "      <td>1333</td>\n",
       "      <td>NaN</td>\n",
       "      <td>NaN</td>\n",
       "      <td>NaN</td>\n",
       "      <td>NaN</td>\n",
       "      <td>NaN</td>\n",
       "      <td>NaN</td>\n",
       "      <td>NaN</td>\n",
       "    </tr>\n",
       "    <tr>\n",
       "      <th>rating</th>\n",
       "      <td>132353</td>\n",
       "      <td>NaN</td>\n",
       "      <td>NaN</td>\n",
       "      <td>NaN</td>\n",
       "      <td>94.834</td>\n",
       "      <td>4.5955</td>\n",
       "      <td>0</td>\n",
       "      <td>93</td>\n",
       "      <td>96</td>\n",
       "      <td>98</td>\n",
       "      <td>100</td>\n",
       "    </tr>\n",
       "    <tr>\n",
       "      <th>comments</th>\n",
       "      <td>132207</td>\n",
       "      <td>130168</td>\n",
       "      <td>The host canceled this reservation the day bef...</td>\n",
       "      <td>211</td>\n",
       "      <td>NaN</td>\n",
       "      <td>NaN</td>\n",
       "      <td>NaN</td>\n",
       "      <td>NaN</td>\n",
       "      <td>NaN</td>\n",
       "      <td>NaN</td>\n",
       "      <td>NaN</td>\n",
       "    </tr>\n",
       "  </tbody>\n",
       "</table>\n",
       "</div>"
      ],
      "text/plain": [
       "                count  unique  \\\n",
       "listing_id     132353     NaN   \n",
       "id             132353     NaN   \n",
       "date           132353    2267   \n",
       "reviewer_id    132353     NaN   \n",
       "reviewer_name  132353   22527   \n",
       "rating         132353     NaN   \n",
       "comments       132207  130168   \n",
       "\n",
       "                                                             top  freq  \\\n",
       "listing_id                                                   NaN   NaN   \n",
       "id                                                           NaN   NaN   \n",
       "date                                                     3/19/17   780   \n",
       "reviewer_id                                                  NaN   NaN   \n",
       "reviewer_name                                            Michael  1333   \n",
       "rating                                                       NaN   NaN   \n",
       "comments       The host canceled this reservation the day bef...   211   \n",
       "\n",
       "                      mean          std   min          25%          50%  \\\n",
       "listing_id     7.32167e+06  5.08661e+06  2384  2.73061e+06  6.88433e+06   \n",
       "id             8.26275e+07  4.17666e+07   849  4.85532e+07  8.64855e+07   \n",
       "date                   NaN          NaN   NaN          NaN          NaN   \n",
       "reviewer_id    3.96426e+07  3.28041e+07    55  1.19079e+07  3.12252e+07   \n",
       "reviewer_name          NaN          NaN   NaN          NaN          NaN   \n",
       "rating              94.834       4.5955     0           93           96   \n",
       "comments               NaN          NaN   NaN          NaN          NaN   \n",
       "\n",
       "                       75%          max  \n",
       "listing_id     1.19731e+07  1.85981e+07  \n",
       "id             1.14583e+08  1.51007e+08  \n",
       "date                   NaN          NaN  \n",
       "reviewer_id    6.14423e+07  1.29263e+08  \n",
       "reviewer_name          NaN          NaN  \n",
       "rating                  98          100  \n",
       "comments               NaN          NaN  "
      ]
     },
     "execution_count": 5,
     "metadata": {},
     "output_type": "execute_result"
    }
   ],
   "source": [
    "housing_reviews.describe(include=\"all\").T"
   ]
  },
  {
   "cell_type": "markdown",
   "metadata": {},
   "source": [
    "#### Drop missing values"
   ]
  },
  {
   "cell_type": "code",
   "execution_count": 6,
   "metadata": {
    "collapsed": false
   },
   "outputs": [
    {
     "data": {
      "text/plain": [
       "43"
      ]
     },
     "execution_count": 6,
     "metadata": {},
     "output_type": "execute_result"
    }
   ],
   "source": [
    "drop_rating_index = housing_reviews.index[housing_reviews['rating'] == 0]\n",
    "drop_rating_index.tolist()\n",
    "len(drop_rating_index)"
   ]
  },
  {
   "cell_type": "code",
   "execution_count": 7,
   "metadata": {
    "collapsed": false
   },
   "outputs": [
    {
     "data": {
      "text/plain": [
       "(132310, 7)"
      ]
     },
     "execution_count": 7,
     "metadata": {},
     "output_type": "execute_result"
    }
   ],
   "source": [
    "housing_reviews = housing_reviews.drop(housing_reviews.index[drop_rating_index])\n",
    "housing_reviews.shape"
   ]
  },
  {
   "cell_type": "code",
   "execution_count": 8,
   "metadata": {
    "collapsed": false
   },
   "outputs": [
    {
     "data": {
      "text/plain": [
       "(132164, 7)"
      ]
     },
     "execution_count": 8,
     "metadata": {},
     "output_type": "execute_result"
    }
   ],
   "source": [
    "housing_reviews = housing_reviews[~housing_reviews['comments'].isnull()] \n",
    "housing_reviews = housing_reviews[~housing_reviews['rating'].isnull()] \n",
    "housing_reviews.shape"
   ]
  },
  {
   "cell_type": "code",
   "execution_count": 9,
   "metadata": {
    "collapsed": false
   },
   "outputs": [
    {
     "data": {
      "text/html": [
       "<div>\n",
       "<table border=\"1\" class=\"dataframe\">\n",
       "  <thead>\n",
       "    <tr style=\"text-align: right;\">\n",
       "      <th></th>\n",
       "      <th>0</th>\n",
       "      <th>1</th>\n",
       "      <th>2</th>\n",
       "      <th>3</th>\n",
       "      <th>4</th>\n",
       "      <th>5</th>\n",
       "      <th>6</th>\n",
       "      <th>7</th>\n",
       "      <th>8</th>\n",
       "      <th>9</th>\n",
       "      <th>...</th>\n",
       "      <th>132343</th>\n",
       "      <th>132344</th>\n",
       "      <th>132345</th>\n",
       "      <th>132346</th>\n",
       "      <th>132347</th>\n",
       "      <th>132348</th>\n",
       "      <th>132349</th>\n",
       "      <th>132350</th>\n",
       "      <th>132351</th>\n",
       "      <th>132352</th>\n",
       "    </tr>\n",
       "  </thead>\n",
       "  <tbody>\n",
       "    <tr>\n",
       "      <th>listing_id</th>\n",
       "      <td>1301530</td>\n",
       "      <td>192652</td>\n",
       "      <td>14081954</td>\n",
       "      <td>9452418</td>\n",
       "      <td>3385966</td>\n",
       "      <td>12153109</td>\n",
       "      <td>12891430</td>\n",
       "      <td>6150893</td>\n",
       "      <td>1127661</td>\n",
       "      <td>4667333</td>\n",
       "      <td>...</td>\n",
       "      <td>18490659</td>\n",
       "      <td>7386488</td>\n",
       "      <td>16365205</td>\n",
       "      <td>18134292</td>\n",
       "      <td>9589373</td>\n",
       "      <td>17906320</td>\n",
       "      <td>18359380</td>\n",
       "      <td>14339201</td>\n",
       "      <td>13014320</td>\n",
       "      <td>15484924</td>\n",
       "    </tr>\n",
       "    <tr>\n",
       "      <th>reviewer_id</th>\n",
       "      <td>55</td>\n",
       "      <td>99</td>\n",
       "      <td>464</td>\n",
       "      <td>706</td>\n",
       "      <td>1143</td>\n",
       "      <td>1169</td>\n",
       "      <td>1744</td>\n",
       "      <td>1956</td>\n",
       "      <td>2038</td>\n",
       "      <td>3240</td>\n",
       "      <td>...</td>\n",
       "      <td>128612521</td>\n",
       "      <td>128624236</td>\n",
       "      <td>128753130</td>\n",
       "      <td>128928290</td>\n",
       "      <td>129011580</td>\n",
       "      <td>129024548</td>\n",
       "      <td>129073818</td>\n",
       "      <td>129177179</td>\n",
       "      <td>129181647</td>\n",
       "      <td>129263162</td>\n",
       "    </tr>\n",
       "    <tr>\n",
       "      <th>rating</th>\n",
       "      <td>93</td>\n",
       "      <td>97</td>\n",
       "      <td>100</td>\n",
       "      <td>100</td>\n",
       "      <td>97</td>\n",
       "      <td>92</td>\n",
       "      <td>91</td>\n",
       "      <td>98</td>\n",
       "      <td>98</td>\n",
       "      <td>90</td>\n",
       "      <td>...</td>\n",
       "      <td>100</td>\n",
       "      <td>97</td>\n",
       "      <td>94</td>\n",
       "      <td>100</td>\n",
       "      <td>97</td>\n",
       "      <td>100</td>\n",
       "      <td>100</td>\n",
       "      <td>99</td>\n",
       "      <td>97</td>\n",
       "      <td>94</td>\n",
       "    </tr>\n",
       "  </tbody>\n",
       "</table>\n",
       "<p>3 rows × 132164 columns</p>\n",
       "</div>"
      ],
      "text/plain": [
       "              0       1         2        3        4         5         6       \\\n",
       "listing_id   1301530  192652  14081954  9452418  3385966  12153109  12891430   \n",
       "reviewer_id       55      99       464      706     1143      1169      1744   \n",
       "rating            93      97       100      100       97        92        91   \n",
       "\n",
       "              7        8        9         ...         132343     132344  \\\n",
       "listing_id   6150893  1127661  4667333    ...       18490659    7386488   \n",
       "reviewer_id     1956     2038     3240    ...      128612521  128624236   \n",
       "rating            98       98       90    ...            100         97   \n",
       "\n",
       "                132345     132346     132347     132348     132349     132350  \\\n",
       "listing_id    16365205   18134292    9589373   17906320   18359380   14339201   \n",
       "reviewer_id  128753130  128928290  129011580  129024548  129073818  129177179   \n",
       "rating              94        100         97        100        100         99   \n",
       "\n",
       "                132351     132352  \n",
       "listing_id    13014320   15484924  \n",
       "reviewer_id  129181647  129263162  \n",
       "rating              97         94  \n",
       "\n",
       "[3 rows x 132164 columns]"
      ]
     },
     "execution_count": 9,
     "metadata": {},
     "output_type": "execute_result"
    }
   ],
   "source": [
    "recommend = housing_reviews[['listing_id', 'reviewer_id', 'rating']]\n",
    "recommend.T"
   ]
  },
  {
   "cell_type": "markdown",
   "metadata": {},
   "source": [
    "#### Extract users with more than 3 ratings"
   ]
  },
  {
   "cell_type": "code",
   "execution_count": 10,
   "metadata": {
    "collapsed": false
   },
   "outputs": [
    {
     "name": "stdout",
     "output_type": "stream",
     "text": [
      "582\n"
     ]
    }
   ],
   "source": [
    "upper_2 = recommend['reviewer_id'].value_counts() > 3\n",
    "users = upper_2[upper_2].index.tolist()\n",
    "print len(users)"
   ]
  },
  {
   "cell_type": "code",
   "execution_count": 11,
   "metadata": {
    "collapsed": false
   },
   "outputs": [
    {
     "data": {
      "text/plain": [
       "(2999, 3)"
      ]
     },
     "execution_count": 11,
     "metadata": {},
     "output_type": "execute_result"
    }
   ],
   "source": [
    "recommend = recommend[recommend['reviewer_id'].isin(users)]\n",
    "recommend.shape"
   ]
  },
  {
   "cell_type": "code",
   "execution_count": 12,
   "metadata": {
    "collapsed": false
   },
   "outputs": [
    {
     "data": {
      "text/plain": [
       "reviewer_id\n",
       "50034     6\n",
       "76903     4\n",
       "104815    6\n",
       "140995    5\n",
       "183420    5\n",
       "196524    5\n",
       "210853    7\n",
       "218987    4\n",
       "228969    9\n",
       "266837    4\n",
       "Name: reviewer_id, dtype: int64"
      ]
     },
     "execution_count": 12,
     "metadata": {},
     "output_type": "execute_result"
    }
   ],
   "source": [
    "recommendG = recommend.groupby('reviewer_id')['reviewer_id'].count()\n",
    "recommendG.head(10)"
   ]
  },
  {
   "cell_type": "markdown",
   "metadata": {},
   "source": [
    "#### Extract arrays of list_id and review_id"
   ]
  },
  {
   "cell_type": "code",
   "execution_count": 13,
   "metadata": {
    "collapsed": false
   },
   "outputs": [
    {
     "data": {
      "text/html": [
       "<div>\n",
       "<table border=\"1\" class=\"dataframe\">\n",
       "  <thead>\n",
       "    <tr style=\"text-align: right;\">\n",
       "      <th></th>\n",
       "      <th>count</th>\n",
       "      <th>mean</th>\n",
       "      <th>std</th>\n",
       "      <th>min</th>\n",
       "      <th>25%</th>\n",
       "      <th>50%</th>\n",
       "      <th>75%</th>\n",
       "      <th>max</th>\n",
       "    </tr>\n",
       "  </thead>\n",
       "  <tbody>\n",
       "    <tr>\n",
       "      <th>listing_id</th>\n",
       "      <td>2999.0</td>\n",
       "      <td>7.436787e+06</td>\n",
       "      <td>5.354434e+06</td>\n",
       "      <td>2384.0</td>\n",
       "      <td>2503128.0</td>\n",
       "      <td>6700654.0</td>\n",
       "      <td>12590517.0</td>\n",
       "      <td>18139782.0</td>\n",
       "    </tr>\n",
       "    <tr>\n",
       "      <th>reviewer_id</th>\n",
       "      <td>2999.0</td>\n",
       "      <td>3.045511e+07</td>\n",
       "      <td>3.017312e+07</td>\n",
       "      <td>50034.0</td>\n",
       "      <td>6511426.0</td>\n",
       "      <td>21404852.0</td>\n",
       "      <td>44387734.0</td>\n",
       "      <td>122903399.0</td>\n",
       "    </tr>\n",
       "    <tr>\n",
       "      <th>rating</th>\n",
       "      <td>2999.0</td>\n",
       "      <td>9.532177e+01</td>\n",
       "      <td>4.084109e+00</td>\n",
       "      <td>58.0</td>\n",
       "      <td>94.0</td>\n",
       "      <td>96.0</td>\n",
       "      <td>98.0</td>\n",
       "      <td>100.0</td>\n",
       "    </tr>\n",
       "  </tbody>\n",
       "</table>\n",
       "</div>"
      ],
      "text/plain": [
       "              count          mean           std      min        25%  \\\n",
       "listing_id   2999.0  7.436787e+06  5.354434e+06   2384.0  2503128.0   \n",
       "reviewer_id  2999.0  3.045511e+07  3.017312e+07  50034.0  6511426.0   \n",
       "rating       2999.0  9.532177e+01  4.084109e+00     58.0       94.0   \n",
       "\n",
       "                    50%         75%          max  \n",
       "listing_id    6700654.0  12590517.0   18139782.0  \n",
       "reviewer_id  21404852.0  44387734.0  122903399.0  \n",
       "rating             96.0        98.0        100.0  "
      ]
     },
     "execution_count": 13,
     "metadata": {},
     "output_type": "execute_result"
    }
   ],
   "source": [
    "recommend.describe(include=\"all\").T"
   ]
  },
  {
   "cell_type": "code",
   "execution_count": 14,
   "metadata": {
    "collapsed": false
   },
   "outputs": [
    {
     "data": {
      "text/plain": [
       "(1311L,)"
      ]
     },
     "execution_count": 14,
     "metadata": {},
     "output_type": "execute_result"
    }
   ],
   "source": [
    "np.unique(recommend[\"listing_id\"]).shape"
   ]
  },
  {
   "cell_type": "code",
   "execution_count": 15,
   "metadata": {
    "collapsed": false
   },
   "outputs": [
    {
     "data": {
      "text/plain": [
       "(582L,)"
      ]
     },
     "execution_count": 15,
     "metadata": {},
     "output_type": "execute_result"
    }
   ],
   "source": [
    "np.unique(recommend[\"reviewer_id\"]).shape"
   ]
  },
  {
   "cell_type": "code",
   "execution_count": 16,
   "metadata": {
    "collapsed": false
   },
   "outputs": [
    {
     "data": {
      "text/plain": [
       "(2999, 3)"
      ]
     },
     "execution_count": 16,
     "metadata": {},
     "output_type": "execute_result"
    }
   ],
   "source": [
    "recommend.shape"
   ]
  },
  {
   "cell_type": "code",
   "execution_count": 17,
   "metadata": {
    "collapsed": true
   },
   "outputs": [],
   "source": [
    "list_id=recommend.iloc[0:,0].unique()\n",
    "review_id = recommend.iloc[0:,1].unique()"
   ]
  },
  {
   "cell_type": "code",
   "execution_count": 18,
   "metadata": {
    "collapsed": false
   },
   "outputs": [
    {
     "name": "stdout",
     "output_type": "stream",
     "text": [
      "1311 582\n"
     ]
    }
   ],
   "source": [
    "print len(list_id), len(review_id)"
   ]
  },
  {
   "cell_type": "markdown",
   "metadata": {},
   "source": [
    "#### Compose user-listing rating matrix"
   ]
  },
  {
   "cell_type": "code",
   "execution_count": 19,
   "metadata": {
    "collapsed": true
   },
   "outputs": [],
   "source": [
    "dict = {}\n",
    "for user in review_id:\n",
    "    dict[user] = {}\n",
    "number = 0\n",
    "for i in range(len(recommend)):\n",
    "    dict[recommend.iloc[i].reviewer_id][recommend.iloc[i].listing_id] = recommend.iloc[i].rating"
   ]
  },
  {
   "cell_type": "code",
   "execution_count": 20,
   "metadata": {
    "collapsed": false
   },
   "outputs": [
    {
     "data": {
      "text/plain": [
       "{3984383: 99, 8824905: 95, 13857415: 94, 13858506: 98, 16146505: 99}"
      ]
     },
     "execution_count": 20,
     "metadata": {},
     "output_type": "execute_result"
    }
   ],
   "source": [
    "dict[50034]"
   ]
  },
  {
   "cell_type": "code",
   "execution_count": 21,
   "metadata": {
    "collapsed": false
   },
   "outputs": [
    {
     "data": {
      "text/html": [
       "<div>\n",
       "<table border=\"1\" class=\"dataframe\">\n",
       "  <thead>\n",
       "    <tr style=\"text-align: right;\">\n",
       "      <th></th>\n",
       "      <th>listing_id</th>\n",
       "      <th>reviewer_id</th>\n",
       "      <th>rating</th>\n",
       "    </tr>\n",
       "  </thead>\n",
       "  <tbody>\n",
       "    <tr>\n",
       "      <th>307</th>\n",
       "      <td>3984383</td>\n",
       "      <td>50034</td>\n",
       "      <td>99</td>\n",
       "    </tr>\n",
       "    <tr>\n",
       "      <th>308</th>\n",
       "      <td>3984383</td>\n",
       "      <td>50034</td>\n",
       "      <td>99</td>\n",
       "    </tr>\n",
       "    <tr>\n",
       "      <th>309</th>\n",
       "      <td>8824905</td>\n",
       "      <td>50034</td>\n",
       "      <td>95</td>\n",
       "    </tr>\n",
       "    <tr>\n",
       "      <th>310</th>\n",
       "      <td>13857415</td>\n",
       "      <td>50034</td>\n",
       "      <td>94</td>\n",
       "    </tr>\n",
       "    <tr>\n",
       "      <th>311</th>\n",
       "      <td>13858506</td>\n",
       "      <td>50034</td>\n",
       "      <td>98</td>\n",
       "    </tr>\n",
       "    <tr>\n",
       "      <th>312</th>\n",
       "      <td>16146505</td>\n",
       "      <td>50034</td>\n",
       "      <td>99</td>\n",
       "    </tr>\n",
       "  </tbody>\n",
       "</table>\n",
       "</div>"
      ],
      "text/plain": [
       "     listing_id  reviewer_id  rating\n",
       "307     3984383        50034      99\n",
       "308     3984383        50034      99\n",
       "309     8824905        50034      95\n",
       "310    13857415        50034      94\n",
       "311    13858506        50034      98\n",
       "312    16146505        50034      99"
      ]
     },
     "execution_count": 21,
     "metadata": {},
     "output_type": "execute_result"
    }
   ],
   "source": [
    "recommend[recommend['reviewer_id'] == 50034]"
   ]
  },
  {
   "cell_type": "code",
   "execution_count": 22,
   "metadata": {
    "collapsed": true
   },
   "outputs": [],
   "source": [
    "recommend_list = []\n",
    "for user in review_id:\n",
    "    user_review = []\n",
    "    for list in list_id:\n",
    "        if list in dict[user].keys():\n",
    "            user_review.append(dict[user][list])\n",
    "        else:\n",
    "            user_review.append(0)\n",
    "    recommend_list.append(user_review)"
   ]
  },
  {
   "cell_type": "code",
   "execution_count": 23,
   "metadata": {
    "collapsed": false
   },
   "outputs": [
    {
     "name": "stdout",
     "output_type": "stream",
     "text": [
      "[[ 99  95  94 ...,   0   0   0]\n",
      " [  0   0   0 ...,   0   0   0]\n",
      " [  0   0   0 ...,   0   0   0]\n",
      " ..., \n",
      " [  0   0   0 ...,   0   0   0]\n",
      " [  0   0   0 ...,   0   0   0]\n",
      " [  0   0   0 ..., 100  98  95]]\n",
      "(582L, 1311L)\n"
     ]
    }
   ],
   "source": [
    "dataMat =np.array(recommend_list)\n",
    "print dataMat\n",
    "print dataMat.shape"
   ]
  },
  {
   "cell_type": "markdown",
   "metadata": {},
   "source": [
    "### 2. MAE Analysis to find the best similarity measure"
   ]
  },
  {
   "cell_type": "code",
   "execution_count": 63,
   "metadata": {
    "collapsed": true
   },
   "outputs": [],
   "source": [
    "from numpy import *\n",
    "from numpy import linalg as la\n",
    "import numpy as np"
   ]
  },
  {
   "cell_type": "markdown",
   "metadata": {},
   "source": [
    "#### Analysis K for svd transformed items"
   ]
  },
  {
   "cell_type": "code",
   "execution_count": 64,
   "metadata": {
    "collapsed": false
   },
   "outputs": [
    {
     "name": "stdout",
     "output_type": "stream",
     "text": [
      "Coverage of K = 400: 0.9148\n"
     ]
    }
   ],
   "source": [
    "U,Sigma,VT = la.svd(mat(dataMat))\n",
    "SigK=Sigma**2\n",
    "K = 400\n",
    "print \"Coverage of K = %d: %.4f\" %(K, sum(SigK[: K])/sum(SigK))"
   ]
  },
  {
   "cell_type": "markdown",
   "metadata": {},
   "source": [
    "#### Functions to compute the MAE with different similarity measures"
   ]
  },
  {
   "cell_type": "code",
   "execution_count": 65,
   "metadata": {
    "collapsed": false
   },
   "outputs": [],
   "source": [
    "# three distance meansurement\n",
    "def ecludSim(inA,inB):\n",
    "    return 1.0 / (1.0 +np.linalg.norm(inA - inB))\n",
    "def pearsSim(inA,inB):\n",
    "    if len(inA) < 3 : return 1.0\n",
    "    return 0.5 + 0.5 * corrcoef(inA, inB, rowvar = 0)[0][1]\n",
    "def cosSim(vecA,vecB):#only take array!!\n",
    "    vecA = np.array(vecA).T\n",
    "    vecB = np.array(vecA).T\n",
    "    vecA_norm=np.linalg.norm(vecA) \n",
    "    vecB_norm=np.linalg.norm(vecB)\n",
    "    sims=np.dot(vecA,vecB)/(vecA_norm*vecB_norm)\n",
    "    return sims "
   ]
  },
  {
   "cell_type": "code",
   "execution_count": 66,
   "metadata": {
    "collapsed": true
   },
   "outputs": [],
   "source": [
    "# two ways to compute column-based similarity matrix\n",
    "def standEst(dataMat,simMeas, K=4):\n",
    "    n = shape(dataMat)[1]\n",
    "    similarities = np.zeros((n,n))\n",
    "    if n>1:\n",
    "        for i in range(n):\n",
    "            similarities[i,i] = 1\n",
    "            for j in range(i+1, n):\n",
    "                overLap = nonzero(logical_and(dataMat[:,i]>0, \\\n",
    "                                      dataMat[:,j]>0))[0]\n",
    "                if len(overLap) == 0: similarities[i,j] = 0\n",
    "                else: similarities[i,j] = simMeas(dataMat[overLap,i], \\\n",
    "                                   dataMat[overLap,j])\n",
    "                similarities[j,i] = similarities[i,j]\n",
    "    return similarities\n",
    "\n",
    "def svdEst(dataMat,simMeas, K=4):\n",
    "    n = shape(dataMat)[1]\n",
    "    similarities = np.ones((n,n))\n",
    "    data=mat(dataMat)\n",
    "    U,Sigma,VT = la.svd(data)\n",
    "    SigK = mat(eye(K)*Sigma[:K]) #arrange Sigk into a diagonal matrix\n",
    "    xformedItems = data.T * U[:,:K] * SigK.I  #create transformed items\n",
    "    if n>1:\n",
    "        for i in range(n):\n",
    "            for j in range(i+1, n):\n",
    "                similarities[i,j] = simMeas(xformedItems[i,:].T,\\\n",
    "                             xformedItems[j,:].T)\n",
    "                similarities[j,i] = similarities[i,j]\n",
    "    return similarities   \n",
    "    \n",
    "# colunm-based collabrative filtering\n",
    "def estRating(dataMat, simMtr, user, item):\n",
    "    n = shape(simMtr)[1]\n",
    "    simTotal = 0.0; ratSimTotal = 0.0\n",
    "    for j in range(n):\n",
    "        userRating = dataMat[user,j]\n",
    "        similarity = simMtr[item, j]\n",
    "        if similarity>=0: \n",
    "            simTotal += similarity\n",
    "            ratSimTotal += similarity * userRating\n",
    "    if simTotal == 0: return 0\n",
    "    else: return ratSimTotal/simTotal"
   ]
  },
  {
   "cell_type": "code",
   "execution_count": 67,
   "metadata": {
    "collapsed": true
   },
   "outputs": [],
   "source": [
    "# This function performs evaluatoin on a single user based on the test_ratio\n",
    "# For example, with test_ratio = 0.2, a randomly selected 20 percent of rated \n",
    "# items by the user are withheld and the rest are used to estimate the withheld ratings\n",
    "def cross_validate_user(dataMat, user, test_ratio, simMtr):\n",
    "    \n",
    "    number_of_items = np.shape(dataMat)[1]\n",
    "    rated_items_by_user = np.array([i for i in range(number_of_items) if dataMat[user,i]>0])#non-zero rating \n",
    "    \n",
    "    test_size = int(test_ratio * len(rated_items_by_user))\n",
    "    np.random.seed(seed=20)\n",
    "    test_indices = np.random.randint(0, len(rated_items_by_user), test_size)#Add indices for each test item\n",
    "    withheld_items = rated_items_by_user[test_indices]#Items used for test\n",
    "    original_user_profile = np.copy(dataMat[user])\n",
    "    dataMat[user, withheld_items] = 0 # So that the withheld test items is not used in the rating estimation below\n",
    "    error_u = 0.0\n",
    "    count_u = len(withheld_items)\n",
    "    # Compute absolute error for user u over all test items\n",
    "    for item in withheld_items:\n",
    "        # Estimate rating on the withheld item\n",
    "        estimatedScore = estRating(dataMat, simMtr, user, item)\n",
    "        error_u = error_u + abs(estimatedScore - original_user_profile[item])\n",
    "        #print error_u\n",
    "    # Now restore ratings of the withheld items to the user profile\n",
    "    for item in withheld_items:\n",
    "        dataMat[user, item] = original_user_profile[item]\n",
    "    # Return sum of absolute errors and the count of test cases for this user\n",
    "    # Note that these will have to be accumulated for each user to compute MAE\n",
    "    return error_u, count_u"
   ]
  },
  {
   "cell_type": "code",
   "execution_count": 68,
   "metadata": {
    "collapsed": true
   },
   "outputs": [],
   "source": [
    "# Iterate over all users and for each perform evaluation by calling\n",
    "# the above cross_validate_user function on each user.  Return ratio of total error \n",
    "# across all test cases to the total number of test cases, for all users\n",
    "\n",
    "def test(dataMat, test_ratio, estMethod, simMeas, K):    \n",
    "    simMtr = estMethod(dataMat,simMeas,K)\n",
    "    \n",
    "    total_error = 0\n",
    "    total_count = 0\n",
    "    c=0\n",
    "    for i in range(dataMat.shape[0]):\n",
    "        error_u, count_u = cross_validate_user(dataMat, i, test_ratio, simMtr)\n",
    "        total_error += error_u\n",
    "        total_count += count_u\n",
    "    MAE = total_error/total_count\n",
    "    print 'Mean Absoloute Error for ',estMethod,' : ', MAE\n",
    "    return MAE"
   ]
  },
  {
   "cell_type": "markdown",
   "metadata": {},
   "source": [
    "#### Parameter analysis"
   ]
  },
  {
   "cell_type": "code",
   "execution_count": 69,
   "metadata": {
    "collapsed": true
   },
   "outputs": [],
   "source": [
    "# Transpose the user-listing matrix\n",
    "dataMatT = dataMat.T"
   ]
  },
  {
   "cell_type": "code",
   "execution_count": 70,
   "metadata": {
    "collapsed": false
   },
   "outputs": [
    {
     "name": "stdout",
     "output_type": "stream",
     "text": [
      "Using Eucldean similarity measure:\n",
      "Mean Absoloute Error for  <function standEst at 0x0000000010FD1A58>  :  52.2758031899\n",
      "Mean Absoloute Error for  <function svdEst at 0x0000000010FD1F98>  :  94.5839831754\n",
      "\n",
      "Using Cosine similarity measure:\n",
      "Mean Absoloute Error for  <function standEst at 0x0000000010FD1A58>  :  52.2758031899\n",
      "Mean Absoloute Error for  <function svdEst at 0x0000000010FD1F98>  :  94.639230684\n",
      "\n",
      "Using Pearson Correlation similarity measure:\n",
      "Mean Absoloute Error for  <function standEst at 0x0000000010FD1A58>  :  52.3321849801\n",
      "Mean Absoloute Error for  <function svdEst at 0x0000000010FD1F98>  :  94.4879914844\n"
     ]
    }
   ],
   "source": [
    "print \"Using Eucldean similarity measure:\"\n",
    "mae1 = test(dataMatT, 0.2, standEst, ecludSim, K)\n",
    "mae1 = test(dataMatT, 0.2, svdEst, ecludSim, K)\n",
    "\n",
    "print \"\\nUsing Cosine similarity measure:\"\n",
    "mae2 = test(dataMatT, 0.2, standEst, cosSim, K)\n",
    "mae2 = test(dataMatT, 0.2, svdEst, cosSim, K)\n",
    "\n",
    "print \"\\nUsing Pearson Correlation similarity measure:\"\n",
    "mae3 = test(dataMatT, 0.2, standEst, pearsSim, K)\n",
    "mae3 = test(dataMatT, 0.2, svdEst, pearsSim, K)"
   ]
  },
  {
   "cell_type": "code",
   "execution_count": 72,
   "metadata": {
    "collapsed": false
   },
   "outputs": [],
   "source": [
    "# Compare different similarity measure\n",
    "def compare_sims(data, K):\n",
    "    x=[]\n",
    "    score1 =[]\n",
    "    score2 =[]\n",
    "    score3 =[]\n",
    "    for i in range(10,50,5):\n",
    "        crosssize = i * 0.01\n",
    "        score1.append(test(data,crosssize,standEst,ecludSim, K))\n",
    "        score2.append(test(data,crosssize,standEst,cosSim, K))\n",
    "        score3.append(test(data,crosssize,standEst,pearsSim, K))\n",
    "        x.append(crosssize)\n",
    "        \n",
    "    plt.plot(x, score1, label='Euclidean',alpha=0.7, lw=2, c='r')  \n",
    "    plt.plot(x, score2, label='Cosine',alpha=0.7, lw=2, c='b')\n",
    "    plt.plot(x, score3, label='pearsSim',alpha=0.7, lw=2, c='g')\n",
    "    plt.legend(loc=8)\n",
    "    plt.xlabel('Test Ratio')\n",
    "    plt.ylabel(\"Mean Absolute Error\")"
   ]
  },
  {
   "cell_type": "code",
   "execution_count": 73,
   "metadata": {
    "collapsed": false
   },
   "outputs": [
    {
     "name": "stdout",
     "output_type": "stream",
     "text": [
      "Mean Absoloute Error for  <function standEst at 0x0000000010FD1A58>  :  29.9144736842\n",
      "Mean Absoloute Error for  <function standEst at 0x0000000010FD1A58>  :  29.9144736842\n",
      "Mean Absoloute Error for  <function standEst at 0x0000000010FD1A58>  :  29.9144736842\n",
      "Mean Absoloute Error for  <function standEst at 0x0000000010FD1A58>  :  47.9449274059\n",
      "Mean Absoloute Error for  <function standEst at 0x0000000010FD1A58>  :  47.9449274059\n",
      "Mean Absoloute Error for  <function standEst at 0x0000000010FD1A58>  :  47.9449274059\n",
      "Mean Absoloute Error for  <function standEst at 0x0000000010FD1A58>  :  52.2758031899\n",
      "Mean Absoloute Error for  <function standEst at 0x0000000010FD1A58>  :  52.2758031899\n",
      "Mean Absoloute Error for  <function standEst at 0x0000000010FD1A58>  :  52.3321849801\n",
      "Mean Absoloute Error for  <function standEst at 0x0000000010FD1A58>  :  55.2657987884\n",
      "Mean Absoloute Error for  <function standEst at 0x0000000010FD1A58>  :  55.2657987884\n",
      "Mean Absoloute Error for  <function standEst at 0x0000000010FD1A58>  :  55.2933237568\n",
      "Mean Absoloute Error for  <function standEst at 0x0000000010FD1A58>  :  56.7012289886\n",
      "Mean Absoloute Error for  <function standEst at 0x0000000010FD1A58>  :  56.7012289886\n",
      "Mean Absoloute Error for  <function standEst at 0x0000000010FD1A58>  :  56.7256742403\n",
      "Mean Absoloute Error for  <function standEst at 0x0000000010FD1A58>  :  60.6189923975\n",
      "Mean Absoloute Error for  <function standEst at 0x0000000010FD1A58>  :  60.6189923975\n",
      "Mean Absoloute Error for  <function standEst at 0x0000000010FD1A58>  :  60.6330124684\n",
      "Mean Absoloute Error for  <function standEst at 0x0000000010FD1A58>  :  61.8333388172\n",
      "Mean Absoloute Error for  <function standEst at 0x0000000010FD1A58>  :  61.8333388172\n",
      "Mean Absoloute Error for  <function standEst at 0x0000000010FD1A58>  :  61.8579018537\n",
      "Mean Absoloute Error for  <function standEst at 0x0000000010FD1A58>  :  62.9015976329\n",
      "Mean Absoloute Error for  <function standEst at 0x0000000010FD1A58>  :  62.9015976329\n",
      "Mean Absoloute Error for  <function standEst at 0x0000000010FD1A58>  :  62.9359791142\n"
     ]
    },
    {
     "data": {
      "image/png": "[encoded data removed]",
      "text/plain": [
       "<matplotlib.figure.Figure at 0x10fd8f98>"
      ]
     },
     "metadata": {},
     "output_type": "display_data"
    }
   ],
   "source": [
    "compare_sims(dataMatT, K)"
   ]
  },
  {
   "cell_type": "markdown",
   "metadata": {},
   "source": [
    "It can be seen that 3 similarity measures display similar MAE. We choose Pearson Correlation similarity measure for recommender system."
   ]
  },
  {
   "cell_type": "markdown",
   "metadata": {},
   "source": [
    "### 3. User-based Collaborative Filtering"
   ]
  },
  {
   "cell_type": "markdown",
   "metadata": {},
   "source": [
    "#### Define function to compute similaries among users"
   ]
  },
  {
   "cell_type": "code",
   "execution_count": 140,
   "metadata": {
    "collapsed": true
   },
   "outputs": [],
   "source": [
    "import operator\n",
    "def most_similar_users(dataMat, queryUser, K, metric=pearsSim):\n",
    "    user  = dataMat[queryUser]\n",
    "    sim = {}\n",
    "    index = 0\n",
    "    for i in dataMat:\n",
    "        similarity = metric(i, user)\n",
    "        if(similarity == 1):\n",
    "            index = index + 1\n",
    "            continue\n",
    "        sim[index] = similarity\n",
    "        index = index + 1\n",
    "    sorted_keys = sorted(sim.items(), key=operator.itemgetter(1), reverse=True)\n",
    "    return sorted_keys"
   ]
  },
  {
   "cell_type": "markdown",
   "metadata": {},
   "source": [
    "#### Function to compute rating based on similar users"
   ]
  },
  {
   "cell_type": "code",
   "execution_count": 141,
   "metadata": {
    "collapsed": true
   },
   "outputs": [],
   "source": [
    "def predict(dataMat, review_id, list_index, similar_users, K):\n",
    "    if len(similar_users) == 0:\n",
    "        return 0.0\n",
    "    numerator = 0.0\n",
    "    denominator = 0.0\n",
    "    index = 0\n",
    "    for key, values in similar_users:\n",
    "        if(index == K):\n",
    "            break\n",
    "        if dataMat[key][list_index] != 0:\n",
    "            neighbor_id = review_id[key]        \n",
    "            neighbor_similarity = values\n",
    "            rating = dataMat[key][list_index]\n",
    "            numerator += neighbor_similarity * rating\n",
    "            denominator += neighbor_similarity\n",
    "            index += 1\n",
    "    result = numerator/denominator\n",
    "    return result "
   ]
  },
  {
   "cell_type": "markdown",
   "metadata": {},
   "source": [
    "#### Function to recommend top K listings(items)"
   ]
  },
  {
   "cell_type": "code",
   "execution_count": 142,
   "metadata": {
    "collapsed": true
   },
   "outputs": [],
   "source": [
    "def recommend_list(dataMat, user_id, list_id, queryUser, K):\n",
    "    nopreference_list = np.where(dataMat[queryUser,:]==0)[0]\n",
    "    predict_rating = {}\n",
    "    sorted_most_similar_users = most_similar_users(dataMat, queryUser, K, metric=pearsSim)\n",
    "    for item in nopreference_list:\n",
    "        result = predict(dataMat, user_id, item, sorted_most_similar_users, K)\n",
    "        predict_rating[item] = result\n",
    "    sorted_list = sorted(predict_rating.items(), key=operator.itemgetter(1), reverse=True)\n",
    "    print 'Selected User ID:', user_id[queryUser], '\\n'\n",
    "    print 'Listing IDs we recommend to this user:','\\n'\n",
    "    index = 0\n",
    "    for key, values in sorted_list:\n",
    "        if(index == K):\n",
    "            break\n",
    "        print list_id[key]\n",
    "        print '----------'\n",
    "        index += 1"
   ]
  },
  {
   "cell_type": "markdown",
   "metadata": {},
   "source": [
    "#### Illustration"
   ]
  },
  {
   "cell_type": "code",
   "execution_count": 143,
   "metadata": {
    "collapsed": false
   },
   "outputs": [
    {
     "name": "stdout",
     "output_type": "stream",
     "text": [
      "[[99 95 94 ...,  0  0  0]\n",
      " [ 0  0  0 ...,  0  0  0]\n",
      " [ 0  0  0 ...,  0  0  0]\n",
      " [ 0  0  0 ...,  0  0  0]]\n"
     ]
    }
   ],
   "source": [
    "# test case\n",
    "queryUser = 4\n",
    "K = 3\n",
    "queryListing = 5\n",
    "print dataMat[:4]"
   ]
  },
  {
   "cell_type": "code",
   "execution_count": 144,
   "metadata": {
    "collapsed": false
   },
   "outputs": [
    {
     "name": "stdout",
     "output_type": "stream",
     "text": [
      "Selected User ID: 183420 \n",
      "\n",
      "Top 3 most similar User IDs are:\n",
      "1424369\n",
      "---------\n",
      "272671\n",
      "---------\n",
      "76903\n",
      "---------\n"
     ]
    }
   ],
   "source": [
    "print 'Selected User ID:',review_id[queryUser], '\\n'\n",
    "print 'Top', k, 'most similar User IDs are:'\n",
    "\n",
    "similar_users = most_similar_users(dataMat, queryUser, K)\n",
    "count = 0\n",
    "for key, values in similar_users:\n",
    "    if(count == k):\n",
    "        break\n",
    "    print review_id[key]\n",
    "    print '---------'\n",
    "    count += 1"
   ]
  },
  {
   "cell_type": "code",
   "execution_count": 145,
   "metadata": {
    "collapsed": false
   },
   "outputs": [
    {
     "data": {
      "text/plain": [
       "[(45, 0.72752053210512735),\n",
       " (11, 0.63751556006165566),\n",
       " (1, 0.62124221949312142),\n",
       " (366, 0.61985335639220895),\n",
       " (119, 0.60995267181106716),\n",
       " (524, 0.60708057934547055),\n",
       " (62, 0.60250774353652914),\n",
       " (3, 0.59511114129473297),\n",
       " (37, 0.58480650528649236),\n",
       " (294, 0.57446331820216834),\n",
       " (48, 0.49914734810260408),\n",
       " (50, 0.49914734810260408),\n",
       " (52, 0.49914734810260408),\n",
       " (53, 0.49914734810260408),\n",
       " (66, 0.49914734810260408),\n",
       " (88, 0.49914734810260408),\n",
       " (94, 0.49914734810260408),\n",
       " (107, 0.49914734810260408),\n",
       " (121, 0.49914734810260408),\n",
       " (122, 0.49914734810260408)]"
      ]
     },
     "execution_count": 145,
     "metadata": {},
     "output_type": "execute_result"
    }
   ],
   "source": [
    "similar_users[:20]"
   ]
  },
  {
   "cell_type": "code",
   "execution_count": 146,
   "metadata": {
    "collapsed": false
   },
   "outputs": [
    {
     "data": {
      "text/plain": [
       "array([   5,    6,    7, ..., 1308, 1309, 1310], dtype=int64)"
      ]
     },
     "execution_count": 146,
     "metadata": {},
     "output_type": "execute_result"
    }
   ],
   "source": [
    "nopreference_list = np.where(dataMat[0,:]==0)[0]\n",
    "nopreference_list"
   ]
  },
  {
   "cell_type": "code",
   "execution_count": 147,
   "metadata": {
    "collapsed": true
   },
   "outputs": [],
   "source": [
    "def predict_test(dataMat, review_id, list_index, similar_users, K):\n",
    "    if len(similar_users) == 0:\n",
    "        return 0.0\n",
    "    numerator = 0.0\n",
    "    denominator = 0.0\n",
    "    index = 0\n",
    "    for key, values in similar_users:\n",
    "        if(index == K):\n",
    "            break\n",
    "        if dataMat[key][list_index] != 0:\n",
    "            neighbor_id = review_id[key]        \n",
    "            neighbor_similarity = values\n",
    "            rating = dataMat[key][list_index]\n",
    "            print 'Similar user', index, neighbor_id, neighbor_similarity, rating\n",
    "            numerator += neighbor_similarity * rating\n",
    "            denominator += neighbor_similarity\n",
    "            index += 1\n",
    "    result = numerator/denominator\n",
    "    return result"
   ]
  },
  {
   "cell_type": "code",
   "execution_count": 148,
   "metadata": {
    "collapsed": false
   },
   "outputs": [
    {
     "name": "stdout",
     "output_type": "stream",
     "text": [
      "Selected User: 183420\n",
      "Similar user 0 76903 0.621242219493 86\n",
      "Similar user 1 21500802 0.574463318202 86\n",
      "Predict Score: 86.0\n"
     ]
    }
   ],
   "source": [
    "print 'Selected User:',review_id[queryUser]\n",
    "predictScore = predict_test(dataMat, review_id, queryListing, similar_users, K)\n",
    "print 'Predict Score:', predictScore"
   ]
  },
  {
   "cell_type": "code",
   "execution_count": 149,
   "metadata": {
    "collapsed": false,
    "scrolled": true
   },
   "outputs": [
    {
     "name": "stdout",
     "output_type": "stream",
     "text": [
      "Selected User ID: 183420 \n",
      "\n",
      "Listing IDs we recommend to this user: \n",
      "\n",
      "4785815\n",
      "----------\n",
      "1725110\n",
      "----------\n",
      "14167586\n",
      "----------\n"
     ]
    }
   ],
   "source": [
    "recommend_list(dataMat, review_id, list_id, queryUser, K)"
   ]
  },
  {
   "cell_type": "code",
   "execution_count": null,
   "metadata": {
    "collapsed": true
   },
   "outputs": [],
   "source": []
  }
 ],
 "metadata": {
  "kernelspec": {
   "display_name": "Python 2",
   "language": "python",
   "name": "python2"
  },
  "language_info": {
   "codemirror_mode": {
    "name": "ipython",
    "version": 2
   },
   "file_extension": ".py",
   "mimetype": "text/x-python",
   "name": "python",
   "nbconvert_exporter": "python",
   "pygments_lexer": "ipython2",
   "version": "2.7.13"
  }
 },
 "nbformat": 4,
 "nbformat_minor": 2
}
