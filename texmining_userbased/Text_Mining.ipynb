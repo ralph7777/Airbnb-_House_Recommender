{
 "cells": [
  {
   "cell_type": "markdown",
   "metadata": {},
   "source": [
    "# Airbnb Housing Reviews - TextMining"
   ]
  },
  {
   "cell_type": "markdown",
   "metadata": {},
   "source": [
    "### Group members: Kuangyi Zhang, Lanyixuan Xu, Jie Bao"
   ]
  },
  {
   "cell_type": "code",
   "execution_count": 1,
   "metadata": {},
   "outputs": [],
   "source": [
    "import pandas as pd\n",
    "import numpy as np\n",
    "import matplotlib.pyplot as plt\n",
    "import string"
   ]
  },
  {
   "cell_type": "markdown",
   "metadata": {},
   "source": [
    "# I. Data Preprocessing"
   ]
  },
  {
   "cell_type": "markdown",
   "metadata": {},
   "source": [
    "### Read the dataset"
   ]
  },
  {
   "cell_type": "code",
   "execution_count": 86,
   "metadata": {},
   "outputs": [],
   "source": [
    "housing_reviews = pd.read_table(\"reviews.csv\", header='infer', delimiter=\",\", na_values='NaN')"
   ]
  },
  {
   "cell_type": "code",
   "execution_count": 87,
   "metadata": {},
   "outputs": [
    {
     "data": {
      "text/plain": [
       "(132353, 7)"
      ]
     },
     "execution_count": 87,
     "metadata": {},
     "output_type": "execute_result"
    }
   ],
   "source": [
    "housing_reviews.shape"
   ]
  },
  {
   "cell_type": "code",
   "execution_count": 88,
   "metadata": {},
   "outputs": [
    {
     "data": {
      "text/html": [
       "<div>\n",
       "<style scoped>\n",
       "    .dataframe tbody tr th:only-of-type {\n",
       "        vertical-align: middle;\n",
       "    }\n",
       "\n",
       "    .dataframe tbody tr th {\n",
       "        vertical-align: top;\n",
       "    }\n",
       "\n",
       "    .dataframe thead th {\n",
       "        text-align: right;\n",
       "    }\n",
       "</style>\n",
       "<table border=\"1\" class=\"dataframe\">\n",
       "  <thead>\n",
       "    <tr style=\"text-align: right;\">\n",
       "      <th></th>\n",
       "      <th>listing_id</th>\n",
       "      <th>id</th>\n",
       "      <th>date</th>\n",
       "      <th>reviewer_id</th>\n",
       "      <th>reviewer_name</th>\n",
       "      <th>rating</th>\n",
       "      <th>comments</th>\n",
       "    </tr>\n",
       "  </thead>\n",
       "  <tbody>\n",
       "    <tr>\n",
       "      <th>0</th>\n",
       "      <td>1301530</td>\n",
       "      <td>13937403</td>\n",
       "      <td>6/8/14</td>\n",
       "      <td>55</td>\n",
       "      <td>Deborah</td>\n",
       "      <td>93</td>\n",
       "      <td>Great location downtown near everything! Host ...</td>\n",
       "    </tr>\n",
       "    <tr>\n",
       "      <th>1</th>\n",
       "      <td>192652</td>\n",
       "      <td>708419</td>\n",
       "      <td>11/10/11</td>\n",
       "      <td>99</td>\n",
       "      <td>Laura</td>\n",
       "      <td>97</td>\n",
       "      <td>Stephanie was awesome! Highly recommended, gre...</td>\n",
       "    </tr>\n",
       "    <tr>\n",
       "      <th>2</th>\n",
       "      <td>14081954</td>\n",
       "      <td>146698448</td>\n",
       "      <td>4/23/17</td>\n",
       "      <td>464</td>\n",
       "      <td>Jamison</td>\n",
       "      <td>100</td>\n",
       "      <td>The place was so cool. The whole family loved ...</td>\n",
       "    </tr>\n",
       "    <tr>\n",
       "      <th>3</th>\n",
       "      <td>9452418</td>\n",
       "      <td>75922280</td>\n",
       "      <td>5/23/16</td>\n",
       "      <td>706</td>\n",
       "      <td>Eamon</td>\n",
       "      <td>100</td>\n",
       "      <td>Anne is a very thoughtful host who left all th...</td>\n",
       "    </tr>\n",
       "    <tr>\n",
       "      <th>4</th>\n",
       "      <td>3385966</td>\n",
       "      <td>108126286</td>\n",
       "      <td>10/14/16</td>\n",
       "      <td>1143</td>\n",
       "      <td>Katie</td>\n",
       "      <td>97</td>\n",
       "      <td>Chad's place is awesome! It's a quiet, clean, ...</td>\n",
       "    </tr>\n",
       "  </tbody>\n",
       "</table>\n",
       "</div>"
      ],
      "text/plain": [
       "   listing_id         id      date  reviewer_id reviewer_name  rating  \\\n",
       "0     1301530   13937403    6/8/14           55       Deborah      93   \n",
       "1      192652     708419  11/10/11           99         Laura      97   \n",
       "2    14081954  146698448   4/23/17          464       Jamison     100   \n",
       "3     9452418   75922280   5/23/16          706         Eamon     100   \n",
       "4     3385966  108126286  10/14/16         1143         Katie      97   \n",
       "\n",
       "                                            comments  \n",
       "0  Great location downtown near everything! Host ...  \n",
       "1  Stephanie was awesome! Highly recommended, gre...  \n",
       "2  The place was so cool. The whole family loved ...  \n",
       "3  Anne is a very thoughtful host who left all th...  \n",
       "4  Chad's place is awesome! It's a quiet, clean, ...  "
      ]
     },
     "execution_count": 88,
     "metadata": {},
     "output_type": "execute_result"
    }
   ],
   "source": [
    "housing_reviews.head()"
   ]
  },
  {
   "cell_type": "code",
   "execution_count": 89,
   "metadata": {},
   "outputs": [
    {
     "data": {
      "text/html": [
       "<div>\n",
       "<style scoped>\n",
       "    .dataframe tbody tr th:only-of-type {\n",
       "        vertical-align: middle;\n",
       "    }\n",
       "\n",
       "    .dataframe tbody tr th {\n",
       "        vertical-align: top;\n",
       "    }\n",
       "\n",
       "    .dataframe thead th {\n",
       "        text-align: right;\n",
       "    }\n",
       "</style>\n",
       "<table border=\"1\" class=\"dataframe\">\n",
       "  <thead>\n",
       "    <tr style=\"text-align: right;\">\n",
       "      <th></th>\n",
       "      <th>count</th>\n",
       "      <th>unique</th>\n",
       "      <th>top</th>\n",
       "      <th>freq</th>\n",
       "      <th>mean</th>\n",
       "      <th>std</th>\n",
       "      <th>min</th>\n",
       "      <th>25%</th>\n",
       "      <th>50%</th>\n",
       "      <th>75%</th>\n",
       "      <th>max</th>\n",
       "    </tr>\n",
       "  </thead>\n",
       "  <tbody>\n",
       "    <tr>\n",
       "      <th>listing_id</th>\n",
       "      <td>132353</td>\n",
       "      <td>NaN</td>\n",
       "      <td>NaN</td>\n",
       "      <td>NaN</td>\n",
       "      <td>7.32167e+06</td>\n",
       "      <td>5.08661e+06</td>\n",
       "      <td>2384</td>\n",
       "      <td>2.73061e+06</td>\n",
       "      <td>6.88433e+06</td>\n",
       "      <td>1.19731e+07</td>\n",
       "      <td>1.85981e+07</td>\n",
       "    </tr>\n",
       "    <tr>\n",
       "      <th>id</th>\n",
       "      <td>132353</td>\n",
       "      <td>NaN</td>\n",
       "      <td>NaN</td>\n",
       "      <td>NaN</td>\n",
       "      <td>8.26275e+07</td>\n",
       "      <td>4.17666e+07</td>\n",
       "      <td>849</td>\n",
       "      <td>4.85532e+07</td>\n",
       "      <td>8.64855e+07</td>\n",
       "      <td>1.14583e+08</td>\n",
       "      <td>1.51007e+08</td>\n",
       "    </tr>\n",
       "    <tr>\n",
       "      <th>date</th>\n",
       "      <td>132353</td>\n",
       "      <td>2267</td>\n",
       "      <td>3/19/17</td>\n",
       "      <td>780</td>\n",
       "      <td>NaN</td>\n",
       "      <td>NaN</td>\n",
       "      <td>NaN</td>\n",
       "      <td>NaN</td>\n",
       "      <td>NaN</td>\n",
       "      <td>NaN</td>\n",
       "      <td>NaN</td>\n",
       "    </tr>\n",
       "    <tr>\n",
       "      <th>reviewer_id</th>\n",
       "      <td>132353</td>\n",
       "      <td>NaN</td>\n",
       "      <td>NaN</td>\n",
       "      <td>NaN</td>\n",
       "      <td>3.96426e+07</td>\n",
       "      <td>3.28041e+07</td>\n",
       "      <td>55</td>\n",
       "      <td>1.19079e+07</td>\n",
       "      <td>3.12252e+07</td>\n",
       "      <td>6.14423e+07</td>\n",
       "      <td>1.29263e+08</td>\n",
       "    </tr>\n",
       "    <tr>\n",
       "      <th>reviewer_name</th>\n",
       "      <td>132353</td>\n",
       "      <td>22527</td>\n",
       "      <td>Michael</td>\n",
       "      <td>1333</td>\n",
       "      <td>NaN</td>\n",
       "      <td>NaN</td>\n",
       "      <td>NaN</td>\n",
       "      <td>NaN</td>\n",
       "      <td>NaN</td>\n",
       "      <td>NaN</td>\n",
       "      <td>NaN</td>\n",
       "    </tr>\n",
       "    <tr>\n",
       "      <th>rating</th>\n",
       "      <td>132353</td>\n",
       "      <td>NaN</td>\n",
       "      <td>NaN</td>\n",
       "      <td>NaN</td>\n",
       "      <td>94.834</td>\n",
       "      <td>4.5955</td>\n",
       "      <td>0</td>\n",
       "      <td>93</td>\n",
       "      <td>96</td>\n",
       "      <td>98</td>\n",
       "      <td>100</td>\n",
       "    </tr>\n",
       "    <tr>\n",
       "      <th>comments</th>\n",
       "      <td>132206</td>\n",
       "      <td>130167</td>\n",
       "      <td>The host canceled this reservation the day bef...</td>\n",
       "      <td>211</td>\n",
       "      <td>NaN</td>\n",
       "      <td>NaN</td>\n",
       "      <td>NaN</td>\n",
       "      <td>NaN</td>\n",
       "      <td>NaN</td>\n",
       "      <td>NaN</td>\n",
       "      <td>NaN</td>\n",
       "    </tr>\n",
       "  </tbody>\n",
       "</table>\n",
       "</div>"
      ],
      "text/plain": [
       "                count  unique  \\\n",
       "listing_id     132353     NaN   \n",
       "id             132353     NaN   \n",
       "date           132353    2267   \n",
       "reviewer_id    132353     NaN   \n",
       "reviewer_name  132353   22527   \n",
       "rating         132353     NaN   \n",
       "comments       132206  130167   \n",
       "\n",
       "                                                             top  freq  \\\n",
       "listing_id                                                   NaN   NaN   \n",
       "id                                                           NaN   NaN   \n",
       "date                                                     3/19/17   780   \n",
       "reviewer_id                                                  NaN   NaN   \n",
       "reviewer_name                                            Michael  1333   \n",
       "rating                                                       NaN   NaN   \n",
       "comments       The host canceled this reservation the day bef...   211   \n",
       "\n",
       "                      mean          std   min          25%          50%  \\\n",
       "listing_id     7.32167e+06  5.08661e+06  2384  2.73061e+06  6.88433e+06   \n",
       "id             8.26275e+07  4.17666e+07   849  4.85532e+07  8.64855e+07   \n",
       "date                   NaN          NaN   NaN          NaN          NaN   \n",
       "reviewer_id    3.96426e+07  3.28041e+07    55  1.19079e+07  3.12252e+07   \n",
       "reviewer_name          NaN          NaN   NaN          NaN          NaN   \n",
       "rating              94.834       4.5955     0           93           96   \n",
       "comments               NaN          NaN   NaN          NaN          NaN   \n",
       "\n",
       "                       75%          max  \n",
       "listing_id     1.19731e+07  1.85981e+07  \n",
       "id             1.14583e+08  1.51007e+08  \n",
       "date                   NaN          NaN  \n",
       "reviewer_id    6.14423e+07  1.29263e+08  \n",
       "reviewer_name          NaN          NaN  \n",
       "rating                  98          100  \n",
       "comments               NaN          NaN  "
      ]
     },
     "execution_count": 89,
     "metadata": {},
     "output_type": "execute_result"
    }
   ],
   "source": [
    "housing_reviews.describe(include=\"all\").T"
   ]
  },
  {
   "cell_type": "markdown",
   "metadata": {},
   "source": [
    "### Drop the missing value "
   ]
  },
  {
   "cell_type": "code",
   "execution_count": 90,
   "metadata": {},
   "outputs": [
    {
     "data": {
      "text/plain": [
       "43"
      ]
     },
     "execution_count": 90,
     "metadata": {},
     "output_type": "execute_result"
    }
   ],
   "source": [
    "drop_rating_index = housing_reviews.index[housing_reviews['rating'] == 0]\n",
    "drop_rating_index.tolist()\n",
    "len(drop_rating_index)"
   ]
  },
  {
   "cell_type": "code",
   "execution_count": 91,
   "metadata": {},
   "outputs": [
    {
     "data": {
      "text/plain": [
       "Int64Index([  4130,   4481,   5888,  13391,  18099,  22288,  26113,  34279,\n",
       "             41897,  43742,  44443,  57679,  58046,  61173,  64863,  65453,\n",
       "             69640,  71573,  72794,  74187,  75437,  76131,  78542,  79317,\n",
       "             91456,  92856,  94455,  96110, 101706, 104714, 111353, 113755,\n",
       "            121041, 123545, 124217, 125056, 125250, 126668, 126776, 130801,\n",
       "            130930, 131579, 131691],\n",
       "           dtype='int64')"
      ]
     },
     "execution_count": 91,
     "metadata": {},
     "output_type": "execute_result"
    }
   ],
   "source": [
    "drop_rating_index"
   ]
  },
  {
   "cell_type": "code",
   "execution_count": 92,
   "metadata": {},
   "outputs": [
    {
     "data": {
      "text/html": [
       "<div>\n",
       "<style scoped>\n",
       "    .dataframe tbody tr th:only-of-type {\n",
       "        vertical-align: middle;\n",
       "    }\n",
       "\n",
       "    .dataframe tbody tr th {\n",
       "        vertical-align: top;\n",
       "    }\n",
       "\n",
       "    .dataframe thead th {\n",
       "        text-align: right;\n",
       "    }\n",
       "</style>\n",
       "<table border=\"1\" class=\"dataframe\">\n",
       "  <thead>\n",
       "    <tr style=\"text-align: right;\">\n",
       "      <th></th>\n",
       "      <th>listing_id</th>\n",
       "      <th>id</th>\n",
       "      <th>date</th>\n",
       "      <th>reviewer_id</th>\n",
       "      <th>reviewer_name</th>\n",
       "      <th>rating</th>\n",
       "      <th>comments</th>\n",
       "    </tr>\n",
       "  </thead>\n",
       "  <tbody>\n",
       "    <tr>\n",
       "      <th>4125</th>\n",
       "      <td>7803642</td>\n",
       "      <td>113971997</td>\n",
       "      <td>11/14/16</td>\n",
       "      <td>908958</td>\n",
       "      <td>Mitch</td>\n",
       "      <td>92</td>\n",
       "      <td>The space was just what I needed for a weekend...</td>\n",
       "    </tr>\n",
       "    <tr>\n",
       "      <th>4126</th>\n",
       "      <td>220660</td>\n",
       "      <td>4117595</td>\n",
       "      <td>4/11/13</td>\n",
       "      <td>909738</td>\n",
       "      <td>Dan</td>\n",
       "      <td>95</td>\n",
       "      <td>Like the other reviews posted, I absolutely en...</td>\n",
       "    </tr>\n",
       "    <tr>\n",
       "      <th>4127</th>\n",
       "      <td>4092283</td>\n",
       "      <td>25912841</td>\n",
       "      <td>1/29/15</td>\n",
       "      <td>909780</td>\n",
       "      <td>Adam</td>\n",
       "      <td>97</td>\n",
       "      <td>Jessica's place is awesome. Great location in ...</td>\n",
       "    </tr>\n",
       "    <tr>\n",
       "      <th>4128</th>\n",
       "      <td>3809530</td>\n",
       "      <td>75935478</td>\n",
       "      <td>5/23/16</td>\n",
       "      <td>909817</td>\n",
       "      <td>Jamar</td>\n",
       "      <td>99</td>\n",
       "      <td>Laura did a great job of welcoming me to her a...</td>\n",
       "    </tr>\n",
       "    <tr>\n",
       "      <th>4129</th>\n",
       "      <td>44020</td>\n",
       "      <td>15846393</td>\n",
       "      <td>7/16/14</td>\n",
       "      <td>909877</td>\n",
       "      <td>Aaron</td>\n",
       "      <td>78</td>\n",
       "      <td>The patio/deck in back absolutely makes this r...</td>\n",
       "    </tr>\n",
       "    <tr>\n",
       "      <th>4130</th>\n",
       "      <td>16517889</td>\n",
       "      <td>138331381</td>\n",
       "      <td>3/19/17</td>\n",
       "      <td>910034</td>\n",
       "      <td>Matthew</td>\n",
       "      <td>0</td>\n",
       "      <td>Great place to stay! would highly recommend !</td>\n",
       "    </tr>\n",
       "    <tr>\n",
       "      <th>4131</th>\n",
       "      <td>7659968</td>\n",
       "      <td>139294981</td>\n",
       "      <td>3/24/17</td>\n",
       "      <td>910122</td>\n",
       "      <td>Lisa</td>\n",
       "      <td>100</td>\n",
       "      <td>These hosts are great at communicating.  Their...</td>\n",
       "    </tr>\n",
       "  </tbody>\n",
       "</table>\n",
       "</div>"
      ],
      "text/plain": [
       "      listing_id         id      date  reviewer_id reviewer_name  rating  \\\n",
       "4125     7803642  113971997  11/14/16       908958         Mitch      92   \n",
       "4126      220660    4117595   4/11/13       909738           Dan      95   \n",
       "4127     4092283   25912841   1/29/15       909780          Adam      97   \n",
       "4128     3809530   75935478   5/23/16       909817         Jamar      99   \n",
       "4129       44020   15846393   7/16/14       909877         Aaron      78   \n",
       "4130    16517889  138331381   3/19/17       910034       Matthew       0   \n",
       "4131     7659968  139294981   3/24/17       910122          Lisa     100   \n",
       "\n",
       "                                               comments  \n",
       "4125  The space was just what I needed for a weekend...  \n",
       "4126  Like the other reviews posted, I absolutely en...  \n",
       "4127  Jessica's place is awesome. Great location in ...  \n",
       "4128  Laura did a great job of welcoming me to her a...  \n",
       "4129  The patio/deck in back absolutely makes this r...  \n",
       "4130      Great place to stay! would highly recommend !  \n",
       "4131  These hosts are great at communicating.  Their...  "
      ]
     },
     "execution_count": 92,
     "metadata": {},
     "output_type": "execute_result"
    }
   ],
   "source": [
    "housing_reviews[4125:4132]"
   ]
  },
  {
   "cell_type": "code",
   "execution_count": 128,
   "metadata": {},
   "outputs": [
    {
     "data": {
      "text/plain": [
       "(132120, 7)"
      ]
     },
     "execution_count": 128,
     "metadata": {},
     "output_type": "execute_result"
    }
   ],
   "source": [
    "housing_reviews = housing_reviews.drop(housing_reviews.index[drop_rating_index])\n",
    "housing_reviews.shape"
   ]
  },
  {
   "cell_type": "code",
   "execution_count": 129,
   "metadata": {},
   "outputs": [
    {
     "data": {
      "text/plain": [
       "(132120, 7)"
      ]
     },
     "execution_count": 129,
     "metadata": {},
     "output_type": "execute_result"
    }
   ],
   "source": [
    "housing_reviews = housing_reviews[~housing_reviews['comments'].isnull()] \n",
    "housing_reviews = housing_reviews[~housing_reviews['rating'].isnull()] \n",
    "housing_reviews.shape"
   ]
  },
  {
   "cell_type": "markdown",
   "metadata": {},
   "source": [
    "### Separate into test and target variables"
   ]
  },
  {
   "cell_type": "code",
   "execution_count": 142,
   "metadata": {},
   "outputs": [
    {
     "data": {
      "text/plain": [
       "count    132120.000000\n",
       "mean         94.865811\n",
       "std           4.266499\n",
       "min          20.000000\n",
       "25%          93.000000\n",
       "50%          96.000000\n",
       "75%          98.000000\n",
       "max         100.000000\n",
       "Name: rating, dtype: float64"
      ]
     },
     "execution_count": 142,
     "metadata": {},
     "output_type": "execute_result"
    }
   ],
   "source": [
    "reviews_target = housing_reviews['rating']\n",
    "reviews_x = housing_reviews[['listing_id', 'id', 'date', 'reviewer_id', 'reviewer_name', 'comments']]\n",
    "housing_reviews['rating'].describe()"
   ]
  },
  {
   "cell_type": "code",
   "execution_count": 143,
   "metadata": {},
   "outputs": [
    {
     "data": {
      "text/plain": [
       "0          93\n",
       "1          97\n",
       "2         100\n",
       "3         100\n",
       "4          97\n",
       "5          92\n",
       "6          91\n",
       "7          98\n",
       "8          98\n",
       "9          90\n",
       "10         95\n",
       "11         93\n",
       "12         90\n",
       "13         99\n",
       "14         96\n",
       "15         97\n",
       "16         93\n",
       "17         94\n",
       "18         96\n",
       "19         96\n",
       "20         98\n",
       "21         98\n",
       "22         99\n",
       "23         95\n",
       "24         95\n",
       "25         93\n",
       "26         92\n",
       "27         95\n",
       "28         98\n",
       "29         92\n",
       "         ... \n",
       "132323    100\n",
       "132324     94\n",
       "132325    100\n",
       "132326    100\n",
       "132327     95\n",
       "132328     98\n",
       "132329    100\n",
       "132330     96\n",
       "132331     87\n",
       "132332     92\n",
       "132333     87\n",
       "132334     84\n",
       "132335     99\n",
       "132336     94\n",
       "132337    100\n",
       "132338     90\n",
       "132339    100\n",
       "132340     96\n",
       "132341    100\n",
       "132342    100\n",
       "132343    100\n",
       "132344     97\n",
       "132345     94\n",
       "132346    100\n",
       "132347     97\n",
       "132348    100\n",
       "132349    100\n",
       "132350     99\n",
       "132351     97\n",
       "132352     94\n",
       "Name: rating, Length: 132120, dtype: int64"
      ]
     },
     "execution_count": 143,
     "metadata": {},
     "output_type": "execute_result"
    }
   ],
   "source": [
    "reviews_target"
   ]
  },
  {
   "cell_type": "code",
   "execution_count": 144,
   "metadata": {},
   "outputs": [
    {
     "data": {
      "text/plain": [
       "0         2\n",
       "1         3\n",
       "2         5\n",
       "3         5\n",
       "4         3\n",
       "5         1\n",
       "6         1\n",
       "7         4\n",
       "8         4\n",
       "9         1\n",
       "10        2\n",
       "11        2\n",
       "12        1\n",
       "13        5\n",
       "14        3\n",
       "15        3\n",
       "16        2\n",
       "17        2\n",
       "18        3\n",
       "19        3\n",
       "20        4\n",
       "21        4\n",
       "22        5\n",
       "23        2\n",
       "24        2\n",
       "25        2\n",
       "26        1\n",
       "27        2\n",
       "28        4\n",
       "29        1\n",
       "         ..\n",
       "132323    5\n",
       "132324    2\n",
       "132325    5\n",
       "132326    5\n",
       "132327    2\n",
       "132328    4\n",
       "132329    5\n",
       "132330    3\n",
       "132331    1\n",
       "132332    1\n",
       "132333    1\n",
       "132334    1\n",
       "132335    5\n",
       "132336    2\n",
       "132337    5\n",
       "132338    1\n",
       "132339    5\n",
       "132340    3\n",
       "132341    5\n",
       "132342    5\n",
       "132343    5\n",
       "132344    3\n",
       "132345    2\n",
       "132346    5\n",
       "132347    3\n",
       "132348    5\n",
       "132349    5\n",
       "132350    5\n",
       "132351    3\n",
       "132352    2\n",
       "Name: rating, Length: 132120, dtype: category\n",
       "Categories (5, int64): [1 < 2 < 3 < 4 < 5]"
      ]
     },
     "execution_count": 144,
     "metadata": {},
     "output_type": "execute_result"
    }
   ],
   "source": [
    "df = pd.DataFrame()\n",
    "df['rating'], bins = pd.qcut(reviews_target, 5, labels=np.arange(5) + 1 , retbins = True)"
   ]
  },
  {
   "cell_type": "code",
   "execution_count": 146,
   "metadata": {},
   "outputs": [
    {
     "data": {
      "text/html": [
       "<div>\n",
       "<style scoped>\n",
       "    .dataframe tbody tr th:only-of-type {\n",
       "        vertical-align: middle;\n",
       "    }\n",
       "\n",
       "    .dataframe tbody tr th {\n",
       "        vertical-align: top;\n",
       "    }\n",
       "\n",
       "    .dataframe thead th {\n",
       "        text-align: right;\n",
       "    }\n",
       "</style>\n",
       "<table border=\"1\" class=\"dataframe\">\n",
       "  <thead>\n",
       "    <tr style=\"text-align: right;\">\n",
       "      <th></th>\n",
       "      <th>rating</th>\n",
       "    </tr>\n",
       "  </thead>\n",
       "  <tbody>\n",
       "    <tr>\n",
       "      <th>0</th>\n",
       "      <td>2</td>\n",
       "    </tr>\n",
       "    <tr>\n",
       "      <th>1</th>\n",
       "      <td>3</td>\n",
       "    </tr>\n",
       "    <tr>\n",
       "      <th>2</th>\n",
       "      <td>5</td>\n",
       "    </tr>\n",
       "    <tr>\n",
       "      <th>3</th>\n",
       "      <td>5</td>\n",
       "    </tr>\n",
       "    <tr>\n",
       "      <th>4</th>\n",
       "      <td>3</td>\n",
       "    </tr>\n",
       "    <tr>\n",
       "      <th>5</th>\n",
       "      <td>1</td>\n",
       "    </tr>\n",
       "    <tr>\n",
       "      <th>6</th>\n",
       "      <td>1</td>\n",
       "    </tr>\n",
       "    <tr>\n",
       "      <th>7</th>\n",
       "      <td>4</td>\n",
       "    </tr>\n",
       "    <tr>\n",
       "      <th>8</th>\n",
       "      <td>4</td>\n",
       "    </tr>\n",
       "    <tr>\n",
       "      <th>9</th>\n",
       "      <td>1</td>\n",
       "    </tr>\n",
       "    <tr>\n",
       "      <th>10</th>\n",
       "      <td>2</td>\n",
       "    </tr>\n",
       "    <tr>\n",
       "      <th>11</th>\n",
       "      <td>2</td>\n",
       "    </tr>\n",
       "    <tr>\n",
       "      <th>12</th>\n",
       "      <td>1</td>\n",
       "    </tr>\n",
       "    <tr>\n",
       "      <th>13</th>\n",
       "      <td>5</td>\n",
       "    </tr>\n",
       "    <tr>\n",
       "      <th>14</th>\n",
       "      <td>3</td>\n",
       "    </tr>\n",
       "    <tr>\n",
       "      <th>15</th>\n",
       "      <td>3</td>\n",
       "    </tr>\n",
       "    <tr>\n",
       "      <th>16</th>\n",
       "      <td>2</td>\n",
       "    </tr>\n",
       "    <tr>\n",
       "      <th>17</th>\n",
       "      <td>2</td>\n",
       "    </tr>\n",
       "    <tr>\n",
       "      <th>18</th>\n",
       "      <td>3</td>\n",
       "    </tr>\n",
       "    <tr>\n",
       "      <th>19</th>\n",
       "      <td>3</td>\n",
       "    </tr>\n",
       "    <tr>\n",
       "      <th>20</th>\n",
       "      <td>4</td>\n",
       "    </tr>\n",
       "    <tr>\n",
       "      <th>21</th>\n",
       "      <td>4</td>\n",
       "    </tr>\n",
       "    <tr>\n",
       "      <th>22</th>\n",
       "      <td>5</td>\n",
       "    </tr>\n",
       "    <tr>\n",
       "      <th>23</th>\n",
       "      <td>2</td>\n",
       "    </tr>\n",
       "    <tr>\n",
       "      <th>24</th>\n",
       "      <td>2</td>\n",
       "    </tr>\n",
       "    <tr>\n",
       "      <th>25</th>\n",
       "      <td>2</td>\n",
       "    </tr>\n",
       "    <tr>\n",
       "      <th>26</th>\n",
       "      <td>1</td>\n",
       "    </tr>\n",
       "    <tr>\n",
       "      <th>27</th>\n",
       "      <td>2</td>\n",
       "    </tr>\n",
       "    <tr>\n",
       "      <th>28</th>\n",
       "      <td>4</td>\n",
       "    </tr>\n",
       "    <tr>\n",
       "      <th>29</th>\n",
       "      <td>1</td>\n",
       "    </tr>\n",
       "    <tr>\n",
       "      <th>...</th>\n",
       "      <td>...</td>\n",
       "    </tr>\n",
       "    <tr>\n",
       "      <th>132323</th>\n",
       "      <td>5</td>\n",
       "    </tr>\n",
       "    <tr>\n",
       "      <th>132324</th>\n",
       "      <td>2</td>\n",
       "    </tr>\n",
       "    <tr>\n",
       "      <th>132325</th>\n",
       "      <td>5</td>\n",
       "    </tr>\n",
       "    <tr>\n",
       "      <th>132326</th>\n",
       "      <td>5</td>\n",
       "    </tr>\n",
       "    <tr>\n",
       "      <th>132327</th>\n",
       "      <td>2</td>\n",
       "    </tr>\n",
       "    <tr>\n",
       "      <th>132328</th>\n",
       "      <td>4</td>\n",
       "    </tr>\n",
       "    <tr>\n",
       "      <th>132329</th>\n",
       "      <td>5</td>\n",
       "    </tr>\n",
       "    <tr>\n",
       "      <th>132330</th>\n",
       "      <td>3</td>\n",
       "    </tr>\n",
       "    <tr>\n",
       "      <th>132331</th>\n",
       "      <td>1</td>\n",
       "    </tr>\n",
       "    <tr>\n",
       "      <th>132332</th>\n",
       "      <td>1</td>\n",
       "    </tr>\n",
       "    <tr>\n",
       "      <th>132333</th>\n",
       "      <td>1</td>\n",
       "    </tr>\n",
       "    <tr>\n",
       "      <th>132334</th>\n",
       "      <td>1</td>\n",
       "    </tr>\n",
       "    <tr>\n",
       "      <th>132335</th>\n",
       "      <td>5</td>\n",
       "    </tr>\n",
       "    <tr>\n",
       "      <th>132336</th>\n",
       "      <td>2</td>\n",
       "    </tr>\n",
       "    <tr>\n",
       "      <th>132337</th>\n",
       "      <td>5</td>\n",
       "    </tr>\n",
       "    <tr>\n",
       "      <th>132338</th>\n",
       "      <td>1</td>\n",
       "    </tr>\n",
       "    <tr>\n",
       "      <th>132339</th>\n",
       "      <td>5</td>\n",
       "    </tr>\n",
       "    <tr>\n",
       "      <th>132340</th>\n",
       "      <td>3</td>\n",
       "    </tr>\n",
       "    <tr>\n",
       "      <th>132341</th>\n",
       "      <td>5</td>\n",
       "    </tr>\n",
       "    <tr>\n",
       "      <th>132342</th>\n",
       "      <td>5</td>\n",
       "    </tr>\n",
       "    <tr>\n",
       "      <th>132343</th>\n",
       "      <td>5</td>\n",
       "    </tr>\n",
       "    <tr>\n",
       "      <th>132344</th>\n",
       "      <td>3</td>\n",
       "    </tr>\n",
       "    <tr>\n",
       "      <th>132345</th>\n",
       "      <td>2</td>\n",
       "    </tr>\n",
       "    <tr>\n",
       "      <th>132346</th>\n",
       "      <td>5</td>\n",
       "    </tr>\n",
       "    <tr>\n",
       "      <th>132347</th>\n",
       "      <td>3</td>\n",
       "    </tr>\n",
       "    <tr>\n",
       "      <th>132348</th>\n",
       "      <td>5</td>\n",
       "    </tr>\n",
       "    <tr>\n",
       "      <th>132349</th>\n",
       "      <td>5</td>\n",
       "    </tr>\n",
       "    <tr>\n",
       "      <th>132350</th>\n",
       "      <td>5</td>\n",
       "    </tr>\n",
       "    <tr>\n",
       "      <th>132351</th>\n",
       "      <td>3</td>\n",
       "    </tr>\n",
       "    <tr>\n",
       "      <th>132352</th>\n",
       "      <td>2</td>\n",
       "    </tr>\n",
       "  </tbody>\n",
       "</table>\n",
       "<p>132120 rows × 1 columns</p>\n",
       "</div>"
      ],
      "text/plain": [
       "       rating\n",
       "0           2\n",
       "1           3\n",
       "2           5\n",
       "3           5\n",
       "4           3\n",
       "5           1\n",
       "6           1\n",
       "7           4\n",
       "8           4\n",
       "9           1\n",
       "10          2\n",
       "11          2\n",
       "12          1\n",
       "13          5\n",
       "14          3\n",
       "15          3\n",
       "16          2\n",
       "17          2\n",
       "18          3\n",
       "19          3\n",
       "20          4\n",
       "21          4\n",
       "22          5\n",
       "23          2\n",
       "24          2\n",
       "25          2\n",
       "26          1\n",
       "27          2\n",
       "28          4\n",
       "29          1\n",
       "...       ...\n",
       "132323      5\n",
       "132324      2\n",
       "132325      5\n",
       "132326      5\n",
       "132327      2\n",
       "132328      4\n",
       "132329      5\n",
       "132330      3\n",
       "132331      1\n",
       "132332      1\n",
       "132333      1\n",
       "132334      1\n",
       "132335      5\n",
       "132336      2\n",
       "132337      5\n",
       "132338      1\n",
       "132339      5\n",
       "132340      3\n",
       "132341      5\n",
       "132342      5\n",
       "132343      5\n",
       "132344      3\n",
       "132345      2\n",
       "132346      5\n",
       "132347      3\n",
       "132348      5\n",
       "132349      5\n",
       "132350      5\n",
       "132351      3\n",
       "132352      2\n",
       "\n",
       "[132120 rows x 1 columns]"
      ]
     },
     "execution_count": 146,
     "metadata": {},
     "output_type": "execute_result"
    }
   ],
   "source": [
    "df"
   ]
  },
  {
   "cell_type": "code",
   "execution_count": 172,
   "metadata": {},
   "outputs": [
    {
     "data": {
      "text/plain": [
       "132120"
      ]
     },
     "execution_count": 172,
     "metadata": {},
     "output_type": "execute_result"
    }
   ],
   "source": [
    "df.rating = pd.Categorical(df.rating)\n",
    "df['code'] = df.rating.cat.codes\n",
    "reviews_target = df.rating.astype('category').cat.codes\n",
    "len(reviews_target)"
   ]
  },
  {
   "cell_type": "code",
   "execution_count": 173,
   "metadata": {},
   "outputs": [
    {
     "data": {
      "text/plain": [
       "0         1\n",
       "1         2\n",
       "2         4\n",
       "3         4\n",
       "4         2\n",
       "5         0\n",
       "6         0\n",
       "7         3\n",
       "8         3\n",
       "9         0\n",
       "10        1\n",
       "11        1\n",
       "12        0\n",
       "13        4\n",
       "14        2\n",
       "15        2\n",
       "16        1\n",
       "17        1\n",
       "18        2\n",
       "19        2\n",
       "20        3\n",
       "21        3\n",
       "22        4\n",
       "23        1\n",
       "24        1\n",
       "25        1\n",
       "26        0\n",
       "27        1\n",
       "28        3\n",
       "29        0\n",
       "         ..\n",
       "132323    4\n",
       "132324    1\n",
       "132325    4\n",
       "132326    4\n",
       "132327    1\n",
       "132328    3\n",
       "132329    4\n",
       "132330    2\n",
       "132331    0\n",
       "132332    0\n",
       "132333    0\n",
       "132334    0\n",
       "132335    4\n",
       "132336    1\n",
       "132337    4\n",
       "132338    0\n",
       "132339    4\n",
       "132340    2\n",
       "132341    4\n",
       "132342    4\n",
       "132343    4\n",
       "132344    2\n",
       "132345    1\n",
       "132346    4\n",
       "132347    2\n",
       "132348    4\n",
       "132349    4\n",
       "132350    4\n",
       "132351    2\n",
       "132352    1\n",
       "Length: 132120, dtype: int8"
      ]
     },
     "execution_count": 173,
     "metadata": {},
     "output_type": "execute_result"
    }
   ],
   "source": [
    "reviews_target"
   ]
  },
  {
   "cell_type": "code",
   "execution_count": 174,
   "metadata": {},
   "outputs": [
    {
     "name": "stdout",
     "output_type": "stream",
     "text": [
      "1    32202\n",
      "2    32015\n",
      "0    28618\n",
      "4    21782\n",
      "3    17503\n",
      "dtype: int64\n"
     ]
    }
   ],
   "source": [
    "print pd.value_counts(reviews_target)"
   ]
  },
  {
   "cell_type": "code",
   "execution_count": 184,
   "metadata": {},
   "outputs": [
    {
     "data": {
      "text/plain": [
       "0         2\n",
       "1         3\n",
       "2         5\n",
       "3         5\n",
       "4         3\n",
       "5         1\n",
       "6         1\n",
       "7         4\n",
       "8         4\n",
       "9         1\n",
       "10        2\n",
       "11        2\n",
       "12        1\n",
       "13        5\n",
       "14        3\n",
       "15        3\n",
       "16        2\n",
       "17        2\n",
       "18        3\n",
       "19        3\n",
       "20        4\n",
       "21        4\n",
       "22        5\n",
       "23        2\n",
       "24        2\n",
       "25        2\n",
       "26        1\n",
       "27        2\n",
       "28        4\n",
       "29        1\n",
       "         ..\n",
       "132323    5\n",
       "132324    2\n",
       "132325    5\n",
       "132326    5\n",
       "132327    2\n",
       "132328    4\n",
       "132329    5\n",
       "132330    3\n",
       "132331    1\n",
       "132332    1\n",
       "132333    1\n",
       "132334    1\n",
       "132335    5\n",
       "132336    2\n",
       "132337    5\n",
       "132338    1\n",
       "132339    5\n",
       "132340    3\n",
       "132341    5\n",
       "132342    5\n",
       "132343    5\n",
       "132344    3\n",
       "132345    2\n",
       "132346    5\n",
       "132347    3\n",
       "132348    5\n",
       "132349    5\n",
       "132350    5\n",
       "132351    3\n",
       "132352    2\n",
       "Length: 132120, dtype: int8"
      ]
     },
     "execution_count": 184,
     "metadata": {},
     "output_type": "execute_result"
    }
   ],
   "source": [
    "reviews_target = reviews_target.iloc[0:132120] + 1 \n",
    "reviews_target"
   ]
  },
  {
   "cell_type": "code",
   "execution_count": 185,
   "metadata": {},
   "outputs": [
    {
     "name": "stdout",
     "output_type": "stream",
     "text": [
      "2    32202\n",
      "3    32015\n",
      "1    28618\n",
      "5    21782\n",
      "4    17503\n",
      "dtype: int64\n"
     ]
    }
   ],
   "source": [
    "print pd.value_counts(reviews_target)"
   ]
  },
  {
   "cell_type": "code",
   "execution_count": 186,
   "metadata": {},
   "outputs": [
    {
     "data": {
      "text/plain": [
       "<matplotlib.axes._subplots.AxesSubplot at 0x1a1f4d2850>"
      ]
     },
     "execution_count": 186,
     "metadata": {},
     "output_type": "execute_result"
    },
    {
     "data": {
      "image/png": "[encoded data removed]",
      "text/plain": [
       "<matplotlib.figure.Figure at 0x1a28310750>"
      ]
     },
     "metadata": {},
     "output_type": "display_data"
    }
   ],
   "source": [
    "%matplotlib inline\n",
    "reviews_target.plot(kind=\"hist\", bins=10)"
   ]
  },
  {
   "cell_type": "markdown",
   "metadata": {},
   "source": [
    "# 2. Document Text Mining Preprocessing"
   ]
  },
  {
   "cell_type": "markdown",
   "metadata": {},
   "source": [
    "### 2.1 Functions used for preprocessing the text and parsing"
   ]
  },
  {
   "cell_type": "code",
   "execution_count": 187,
   "metadata": {},
   "outputs": [],
   "source": [
    "import nltk\n",
    "from nltk.stem import PorterStemmer\n",
    "from nltk.tokenize import word_tokenize, sent_tokenize"
   ]
  },
  {
   "cell_type": "code",
   "execution_count": 188,
   "metadata": {},
   "outputs": [],
   "source": [
    "#the words which appear frequently in the document\n",
    "words_to_remove=['i', 'me', 'my', 'myself', 'we', 'our', 'ours', 'ourselves', 'you', 'your', 'yours',\n",
    "'yourself', 'yourselves', 'he', 'him', 'his', 'himself', 'she', 'her', 'hers',\n",
    "'herself', 'it', 'its', 'itself', 'they', 'them', 'their', 'theirs', 'themselves',\n",
    "'what', 'which', 'who', 'whom', 'this', 'that', 'these', 'those', 'am', 'is', 'are',\n",
    "'was', 'were', 'be', 'been', 'being', 'have', 'has', 'had', 'having', 'do', 'does',\n",
    "'did', 'doing', 'a', 'an', 'the', 'and', 'but', 'if', 'or', 'because', 'as', 'until',\n",
    "'while', 'of', 'at', 'by', 'for', 'with', 'about', 'against', 'between', 'into',\n",
    "'through', 'during', 'before', 'after', 'above', 'below', 'to', 'from', 'up', 'down',\n",
    "'in', 'out', 'on', 'off', 'over', 'under', 'again', 'further', 'then', 'once', 'here',\n",
    "'there', 'when', 'where', 'why', 'how', 'all', 'any', 'both', 'each', 'few', 'more',\n",
    "'most', 'other', 'some', 'such', 'no', 'nor', 'not', 'only', 'own', 'same', 'so',\n",
    "'than', 'too', 'very', 's', 't', 'can', 'will', 'just', 'don', 'should', 'now']"
   ]
  },
  {
   "cell_type": "code",
   "execution_count": 189,
   "metadata": {},
   "outputs": [],
   "source": [
    "# Remove stopwords, tokenize and stemming\n",
    "import nltk\n",
    "#nltk.download('punkt')\n",
    "#nltk.download('averaged_perceptron_tagger')\n",
    "from nltk.stem.porter import PorterStemmer\n",
    "def clean_my_data(text):\n",
    "    stemmer = PorterStemmer()\n",
    "    clean_text=[]\n",
    "    tokens = nltk.word_tokenize(text)\n",
    "    tagged = nltk.pos_tag(tokens)\n",
    "    container=[]\n",
    "    for words in tagged:\n",
    "\n",
    "        if (words[1][0] == 'N' or words[1][0]=='J' or words[1][0] == 'V') and (words[1][0] not in words_to_remove):\n",
    "            container.append(words[0])\n",
    "    for words in container:\n",
    "        word = stemmer.stem(words)\n",
    "        clean_text.append(word)\n",
    "    return ' '.join(clean_text)"
   ]
  },
  {
   "cell_type": "code",
   "execution_count": 190,
   "metadata": {},
   "outputs": [
    {
     "name": "stdout",
     "output_type": "stream",
     "text": [
      "132120\n"
     ]
    }
   ],
   "source": [
    "from bs4 import BeautifulSoup\n",
    "comments = np.array(reviews_x['comments'])\n",
    "size  = len(comments)\n",
    "print size"
   ]
  },
  {
   "cell_type": "code",
   "execution_count": 191,
   "metadata": {
    "scrolled": false
   },
   "outputs": [
    {
     "name": "stdout",
     "output_type": "stream",
     "text": [
      "0 for 0.0 %\n",
      "200 for 0.151377535574 %\n",
      "400 for 0.302755071147 %\n",
      "600 for 0.454132606721 %\n",
      "800 for 0.605510142295 %\n",
      "1000 for 0.756887677869 %\n",
      "1200 for 0.908265213442 %\n",
      "1400 for 1.05964274902 %\n",
      "1600 for 1.21102028459 %\n",
      "1800 for 1.36239782016 %\n",
      "2000 for 1.51377535574 %\n",
      "2200 for 1.66515289131 %\n",
      "2400 for 1.81653042688 %\n",
      "2600 for 1.96790796246 %\n",
      "2800 for 2.11928549803 %\n",
      "3000 for 2.27066303361 %\n",
      "3200 for 2.42204056918 %\n",
      "3400 for 2.57341810475 %\n",
      "3600 for 2.72479564033 %\n",
      "3800 for 2.8761731759 %\n",
      "4000 for 3.02755071147 %\n",
      "4200 for 3.17892824705 %\n",
      "4400 for 3.33030578262 %\n",
      "4600 for 3.4816833182 %\n",
      "4800 for 3.63306085377 %\n",
      "5000 for 3.78443838934 %\n",
      "5200 for 3.93581592492 %\n",
      "5400 for 4.08719346049 %\n",
      "5600 for 4.23857099606 %\n",
      "5800 for 4.38994853164 %\n",
      "6000 for 4.54132606721 %\n",
      "6200 for 4.69270360279 %\n",
      "6400 for 4.84408113836 %\n",
      "6600 for 4.99545867393 %\n",
      "6800 for 5.14683620951 %\n",
      "7000 for 5.29821374508 %\n",
      "7200 for 5.44959128065 %\n",
      "7400 for 5.60096881623 %\n",
      "7600 for 5.7523463518 %\n",
      "7800 for 5.90372388738 %\n",
      "8000 for 6.05510142295 %\n",
      "8200 for 6.20647895852 %\n",
      "8400 for 6.3578564941 %\n",
      "8600 for 6.50923402967 %\n",
      "8800 for 6.66061156524 %\n",
      "9000 for 6.81198910082 %\n",
      "9200 for 6.96336663639 %\n",
      "9400 for 7.11474417196 %\n",
      "9600 for 7.26612170754 %\n",
      "9800 for 7.41749924311 %\n",
      "10000 for 7.56887677869 %\n",
      "10200 for 7.72025431426 %\n",
      "10400 for 7.87163184983 %\n",
      "10600 for 8.02300938541 %\n",
      "10800 for 8.17438692098 %\n",
      "11000 for 8.32576445655 %\n",
      "11200 for 8.47714199213 %\n",
      "11400 for 8.6285195277 %\n",
      "11600 for 8.77989706328 %\n",
      "11800 for 8.93127459885 %\n",
      "12000 for 9.08265213442 %\n",
      "12200 for 9.23402967 %\n",
      "12400 for 9.38540720557 %\n",
      "12600 for 9.53678474114 %\n",
      "12800 for 9.68816227672 %\n",
      "13000 for 9.83953981229 %\n",
      "13200 for 9.99091734787 %\n",
      "13400 for 10.1422948834 %\n",
      "13600 for 10.293672419 %\n",
      "13800 for 10.4450499546 %\n",
      "14000 for 10.5964274902 %\n",
      "14200 for 10.7478050257 %\n",
      "14400 for 10.8991825613 %\n",
      "14600 for 11.0505600969 %\n",
      "14800 for 11.2019376325 %\n",
      "15000 for 11.353315168 %\n",
      "15200 for 11.5046927036 %\n",
      "15400 for 11.6560702392 %\n",
      "15600 for 11.8074477748 %\n",
      "15800 for 11.9588253103 %\n",
      "16000 for 12.1102028459 %\n",
      "16200 for 12.2615803815 %\n",
      "16400 for 12.412957917 %\n",
      "16600 for 12.5643354526 %\n",
      "16800 for 12.7157129882 %\n",
      "17000 for 12.8670905238 %\n",
      "17200 for 13.0184680593 %\n",
      "17400 for 13.1698455949 %\n",
      "17600 for 13.3212231305 %\n",
      "17800 for 13.4726006661 %\n",
      "18000 for 13.6239782016 %\n",
      "18200 for 13.7753557372 %\n",
      "18400 for 13.9267332728 %\n",
      "18600 for 14.0781108084 %\n",
      "18800 for 14.2294883439 %\n",
      "19000 for 14.3808658795 %\n",
      "19200 for 14.5322434151 %\n",
      "19400 for 14.6836209507 %\n",
      "19600 for 14.8349984862 %\n",
      "19800 for 14.9863760218 %\n",
      "20000 for 15.1377535574 %\n",
      "20200 for 15.2891310929 %\n",
      "20400 for 15.4405086285 %\n",
      "20600 for 15.5918861641 %\n",
      "20800 for 15.7432636997 %\n",
      "21000 for 15.8946412352 %\n",
      "21200 for 16.0460187708 %\n",
      "21400 for 16.1973963064 %\n",
      "21600 for 16.348773842 %\n",
      "21800 for 16.5001513775 %\n",
      "22000 for 16.6515289131 %\n",
      "22200 for 16.8029064487 %\n",
      "22400 for 16.9542839843 %\n",
      "22600 for 17.1056615198 %\n",
      "22800 for 17.2570390554 %\n",
      "23000 for 17.408416591 %\n",
      "23200 for 17.5597941266 %\n",
      "23400 for 17.7111716621 %\n",
      "23600 for 17.8625491977 %\n",
      "23800 for 18.0139267333 %\n",
      "24000 for 18.1653042688 %\n",
      "24200 for 18.3166818044 %\n",
      "24400 for 18.46805934 %\n",
      "24600 for 18.6194368756 %\n",
      "24800 for 18.7708144111 %\n",
      "25000 for 18.9221919467 %\n",
      "25200 for 19.0735694823 %\n",
      "25400 for 19.2249470179 %\n",
      "25600 for 19.3763245534 %\n",
      "25800 for 19.527702089 %\n",
      "26000 for 19.6790796246 %\n",
      "26200 for 19.8304571602 %\n",
      "26400 for 19.9818346957 %\n",
      "26600 for 20.1332122313 %\n",
      "26800 for 20.2845897669 %\n",
      "27000 for 20.4359673025 %\n",
      "27200 for 20.587344838 %\n",
      "27400 for 20.7387223736 %\n",
      "27600 for 20.8900999092 %\n",
      "27800 for 21.0414774447 %\n",
      "28000 for 21.1928549803 %\n",
      "28200 for 21.3442325159 %\n",
      "28400 for 21.4956100515 %\n",
      "28600 for 21.646987587 %\n",
      "28800 for 21.7983651226 %\n",
      "29000 for 21.9497426582 %\n",
      "29200 for 22.1011201938 %\n",
      "29400 for 22.2524977293 %\n",
      "29600 for 22.4038752649 %\n",
      "29800 for 22.5552528005 %\n",
      "30000 for 22.7066303361 %\n",
      "30200 for 22.8580078716 %\n",
      "30400 for 23.0093854072 %\n",
      "30600 for 23.1607629428 %\n",
      "30800 for 23.3121404784 %\n",
      "31000 for 23.4635180139 %\n",
      "31200 for 23.6148955495 %\n",
      "31400 for 23.7662730851 %\n",
      "31600 for 23.9176506206 %\n",
      "31800 for 24.0690281562 %\n",
      "32000 for 24.2204056918 %\n",
      "32200 for 24.3717832274 %\n",
      "32400 for 24.5231607629 %\n",
      "32600 for 24.6745382985 %\n",
      "32800 for 24.8259158341 %\n",
      "33000 for 24.9772933697 %\n",
      "33200 for 25.1286709052 %\n",
      "33400 for 25.2800484408 %\n",
      "33600 for 25.4314259764 %\n",
      "33800 for 25.582803512 %\n",
      "34000 for 25.7341810475 %\n",
      "34200 for 25.8855585831 %\n",
      "34400 for 26.0369361187 %\n",
      "34600 for 26.1883136543 %\n",
      "34800 for 26.3396911898 %\n",
      "35000 for 26.4910687254 %\n",
      "35200 for 26.642446261 %\n",
      "35400 for 26.7938237965 %\n",
      "35600 for 26.9452013321 %\n",
      "35800 for 27.0965788677 %\n",
      "36000 for 27.2479564033 %\n",
      "36200 for 27.3993339388 %\n",
      "36400 for 27.5507114744 %\n",
      "36600 for 27.70208901 %\n",
      "36800 for 27.8534665456 %\n",
      "37000 for 28.0048440811 %\n",
      "37200 for 28.1562216167 %\n",
      "37400 for 28.3075991523 %\n",
      "37600 for 28.4589766879 %\n",
      "37800 for 28.6103542234 %\n",
      "38000 for 28.761731759 %\n",
      "38200 for 28.9131092946 %\n",
      "38400 for 29.0644868302 %\n",
      "38600 for 29.2158643657 %\n",
      "38800 for 29.3672419013 %\n",
      "39000 for 29.5186194369 %\n",
      "39200 for 29.6699969724 %\n",
      "39400 for 29.821374508 %\n",
      "39600 for 29.9727520436 %\n",
      "39800 for 30.1241295792 %\n",
      "40000 for 30.2755071147 %\n",
      "40200 for 30.4268846503 %\n",
      "40400 for 30.5782621859 %\n",
      "40600 for 30.7296397215 %\n",
      "40800 for 30.881017257 %\n",
      "41000 for 31.0323947926 %\n",
      "41200 for 31.1837723282 %\n",
      "41400 for 31.3351498638 %\n",
      "41600 for 31.4865273993 %\n",
      "41800 for 31.6379049349 %\n",
      "42000 for 31.7892824705 %\n",
      "42200 for 31.9406600061 %\n",
      "42400 for 32.0920375416 %\n",
      "42600 for 32.2434150772 %\n",
      "42800 for 32.3947926128 %\n",
      "43000 for 32.5461701483 %\n",
      "43200 for 32.6975476839 %\n",
      "43400 for 32.8489252195 %\n",
      "43600 for 33.0003027551 %\n",
      "43800 for 33.1516802906 %\n",
      "44000 for 33.3030578262 %\n",
      "44200 for 33.4544353618 %\n",
      "44400 for 33.6058128974 %\n",
      "44600 for 33.7571904329 %\n",
      "44800 for 33.9085679685 %\n",
      "45000 for 34.0599455041 %\n",
      "45200 for 34.2113230397 %\n",
      "45400 for 34.3627005752 %\n",
      "45600 for 34.5140781108 %\n",
      "45800 for 34.6654556464 %\n",
      "46000 for 34.816833182 %\n",
      "46200 for 34.9682107175 %\n",
      "46400 for 35.1195882531 %\n",
      "46600 for 35.2709657887 %\n",
      "46800 for 35.4223433243 %\n",
      "47000 for 35.5737208598 %\n",
      "47200 for 35.7250983954 %\n",
      "47400 for 35.876475931 %\n",
      "47600 for 36.0278534665 %\n",
      "47800 for 36.1792310021 %\n",
      "48000 for 36.3306085377 %\n",
      "48200 for 36.4819860733 %\n",
      "48400 for 36.6333636088 %\n",
      "48600 for 36.7847411444 %\n",
      "48800 for 36.93611868 %\n",
      "49000 for 37.0874962156 %\n",
      "49200 for 37.2388737511 %\n",
      "49400 for 37.3902512867 %\n",
      "49600 for 37.5416288223 %\n",
      "49800 for 37.6930063579 %\n",
      "50000 for 37.8443838934 %\n",
      "50200 for 37.995761429 %\n",
      "50400 for 38.1471389646 %\n",
      "50600 for 38.2985165002 %\n",
      "50800 for 38.4498940357 %\n",
      "51000 for 38.6012715713 %\n",
      "51200 for 38.7526491069 %\n",
      "51400 for 38.9040266424 %\n",
      "51600 for 39.055404178 %\n",
      "51800 for 39.2067817136 %\n",
      "52000 for 39.3581592492 %\n",
      "52200 for 39.5095367847 %\n",
      "52400 for 39.6609143203 %\n",
      "52600 for 39.8122918559 %\n",
      "52800 for 39.9636693915 %\n",
      "53000 for 40.115046927 %\n",
      "53200 for 40.2664244626 %\n",
      "53400 for 40.4178019982 %\n",
      "53600 for 40.5691795338 %\n",
      "53800 for 40.7205570693 %\n",
      "54000 for 40.8719346049 %\n",
      "54200 for 41.0233121405 %\n",
      "54400 for 41.1746896761 %\n",
      "54600 for 41.3260672116 %\n",
      "54800 for 41.4774447472 %\n",
      "55000 for 41.6288222828 %\n",
      "55200 for 41.7801998183 %\n",
      "55400 for 41.9315773539 %\n",
      "55600 for 42.0829548895 %\n",
      "55800 for 42.2343324251 %\n",
      "56000 for 42.3857099606 %\n",
      "56200 for 42.5370874962 %\n",
      "56400 for 42.6884650318 %\n",
      "56600 for 42.8398425674 %\n",
      "56800 for 42.9912201029 %\n",
      "57000 for 43.1425976385 %\n",
      "57200 for 43.2939751741 %\n",
      "57400 for 43.4453527097 %\n",
      "57600 for 43.5967302452 %\n",
      "57800 for 43.7481077808 %\n",
      "58000 for 43.8994853164 %\n",
      "58200 for 44.050862852 %\n",
      "58400 for 44.2022403875 %\n",
      "58600 for 44.3536179231 %\n",
      "58800 for 44.5049954587 %\n",
      "59000 for 44.6563729942 %\n",
      "59200 for 44.8077505298 %\n",
      "59400 for 44.9591280654 %\n",
      "59600 for 45.110505601 %\n",
      "59800 for 45.2618831365 %\n",
      "60000 for 45.4132606721 %\n",
      "60200 for 45.5646382077 %\n",
      "60400 for 45.7160157433 %\n",
      "60600 for 45.8673932788 %\n",
      "60800 for 46.0187708144 %\n",
      "61000 for 46.17014835 %\n",
      "61200 for 46.3215258856 %\n",
      "61400 for 46.4729034211 %\n",
      "61600 for 46.6242809567 %\n",
      "61800 for 46.7756584923 %\n",
      "62000 for 46.9270360279 %\n",
      "62200 for 47.0784135634 %\n",
      "62400 for 47.229791099 %\n",
      "62600 for 47.3811686346 %\n",
      "62800 for 47.5325461701 %\n",
      "63000 for 47.6839237057 %\n",
      "63200 for 47.8353012413 %\n",
      "63400 for 47.9866787769 %\n",
      "63600 for 48.1380563124 %\n"
     ]
    },
    {
     "name": "stdout",
     "output_type": "stream",
     "text": [
      "63800 for 48.289433848 %\n",
      "64000 for 48.4408113836 %\n",
      "64200 for 48.5921889192 %\n",
      "64400 for 48.7435664547 %\n",
      "64600 for 48.8949439903 %\n",
      "64800 for 49.0463215259 %\n",
      "65000 for 49.1976990615 %\n",
      "65200 for 49.349076597 %\n",
      "65400 for 49.5004541326 %\n",
      "65600 for 49.6518316682 %\n",
      "65800 for 49.8032092038 %\n",
      "66000 for 49.9545867393 %\n",
      "66200 for 50.1059642749 %\n",
      "66400 for 50.2573418105 %\n",
      "66600 for 50.408719346 %\n",
      "66800 for 50.5600968816 %\n",
      "67000 for 50.7114744172 %\n",
      "67200 for 50.8628519528 %\n",
      "67400 for 51.0142294883 %\n",
      "67600 for 51.1656070239 %\n",
      "67800 for 51.3169845595 %\n",
      "68000 for 51.4683620951 %\n",
      "68200 for 51.6197396306 %\n",
      "68400 for 51.7711171662 %\n",
      "68600 for 51.9224947018 %\n",
      "68800 for 52.0738722374 %\n",
      "69000 for 52.2252497729 %\n",
      "69200 for 52.3766273085 %\n",
      "69400 for 52.5280048441 %\n",
      "69600 for 52.6793823797 %\n",
      "69800 for 52.8307599152 %\n",
      "70000 for 52.9821374508 %\n",
      "70200 for 53.1335149864 %\n",
      "70400 for 53.2848925219 %\n",
      "70600 for 53.4362700575 %\n",
      "70800 for 53.5876475931 %\n",
      "71000 for 53.7390251287 %\n",
      "71200 for 53.8904026642 %\n",
      "71400 for 54.0417801998 %\n",
      "71600 for 54.1931577354 %\n",
      "71800 for 54.344535271 %\n",
      "72000 for 54.4959128065 %\n",
      "72200 for 54.6472903421 %\n"
     ]
    },
    {
     "name": "stderr",
     "output_type": "stream",
     "text": [
      "/Users/Jie/anaconda2/lib/python2.7/site-packages/bs4/__init__.py:219: UserWarning: \"..\" looks like a filename, not markup. You should probably open this file and pass the filehandle into Beautiful Soup.\n",
      "  ' Beautiful Soup.' % markup)\n"
     ]
    },
    {
     "name": "stdout",
     "output_type": "stream",
     "text": [
      "72400 for 54.7986678777 %\n",
      "72600 for 54.9500454133 %\n",
      "72800 for 55.1014229488 %\n",
      "73000 for 55.2528004844 %\n",
      "73200 for 55.40417802 %\n",
      "73400 for 55.5555555556 %\n",
      "73600 for 55.7069330911 %\n",
      "73800 for 55.8583106267 %\n",
      "74000 for 56.0096881623 %\n",
      "74200 for 56.1610656979 %\n",
      "74400 for 56.3124432334 %\n",
      "74600 for 56.463820769 %\n",
      "74800 for 56.6151983046 %\n",
      "75000 for 56.7665758401 %\n",
      "75200 for 56.9179533757 %\n",
      "75400 for 57.0693309113 %\n",
      "75600 for 57.2207084469 %\n",
      "75800 for 57.3720859824 %\n",
      "76000 for 57.523463518 %\n",
      "76200 for 57.6748410536 %\n",
      "76400 for 57.8262185892 %\n",
      "76600 for 57.9775961247 %\n",
      "76800 for 58.1289736603 %\n",
      "77000 for 58.2803511959 %\n",
      "77200 for 58.4317287315 %\n",
      "77400 for 58.583106267 %\n",
      "77600 for 58.7344838026 %\n",
      "77800 for 58.8858613382 %\n",
      "78000 for 59.0372388738 %\n",
      "78200 for 59.1886164093 %\n",
      "78400 for 59.3399939449 %\n",
      "78600 for 59.4913714805 %\n",
      "78800 for 59.642749016 %\n",
      "79000 for 59.7941265516 %\n",
      "79200 for 59.9455040872 %\n",
      "79400 for 60.0968816228 %\n",
      "79600 for 60.2482591583 %\n",
      "79800 for 60.3996366939 %\n",
      "80000 for 60.5510142295 %\n",
      "80200 for 60.7023917651 %\n",
      "80400 for 60.8537693006 %\n",
      "80600 for 61.0051468362 %\n",
      "80800 for 61.1565243718 %\n",
      "81000 for 61.3079019074 %\n",
      "81200 for 61.4592794429 %\n",
      "81400 for 61.6106569785 %\n",
      "81600 for 61.7620345141 %\n",
      "81800 for 61.9134120497 %\n",
      "82000 for 62.0647895852 %\n",
      "82200 for 62.2161671208 %\n",
      "82400 for 62.3675446564 %\n",
      "82600 for 62.5189221919 %\n",
      "82800 for 62.6702997275 %\n",
      "83000 for 62.8216772631 %\n",
      "83200 for 62.9730547987 %\n",
      "83400 for 63.1244323342 %\n",
      "83600 for 63.2758098698 %\n",
      "83800 for 63.4271874054 %\n",
      "84000 for 63.578564941 %\n",
      "84200 for 63.7299424765 %\n",
      "84400 for 63.8813200121 %\n",
      "84600 for 64.0326975477 %\n",
      "84800 for 64.1840750833 %\n",
      "85000 for 64.3354526188 %\n",
      "85200 for 64.4868301544 %\n",
      "85400 for 64.63820769 %\n",
      "85600 for 64.7895852256 %\n",
      "85800 for 64.9409627611 %\n",
      "86000 for 65.0923402967 %\n",
      "86200 for 65.2437178323 %\n",
      "86400 for 65.3950953678 %\n",
      "86600 for 65.5464729034 %\n",
      "86800 for 65.697850439 %\n",
      "87000 for 65.8492279746 %\n",
      "87200 for 66.0006055101 %\n",
      "87400 for 66.1519830457 %\n",
      "87600 for 66.3033605813 %\n",
      "87800 for 66.4547381169 %\n",
      "88000 for 66.6061156524 %\n",
      "88200 for 66.757493188 %\n",
      "88400 for 66.9088707236 %\n",
      "88600 for 67.0602482592 %\n",
      "88800 for 67.2116257947 %\n",
      "89000 for 67.3630033303 %\n",
      "89200 for 67.5143808659 %\n",
      "89400 for 67.6657584015 %\n",
      "89600 for 67.817135937 %\n",
      "89800 for 67.9685134726 %\n",
      "90000 for 68.1198910082 %\n",
      "90200 for 68.2712685437 %\n",
      "90400 for 68.4226460793 %\n",
      "90600 for 68.5740236149 %\n",
      "90800 for 68.7254011505 %\n",
      "91000 for 68.876778686 %\n",
      "91200 for 69.0281562216 %\n",
      "91400 for 69.1795337572 %\n",
      "91600 for 69.3309112928 %\n",
      "91800 for 69.4822888283 %\n",
      "92000 for 69.6336663639 %\n",
      "92200 for 69.7850438995 %\n",
      "92400 for 69.9364214351 %\n",
      "92600 for 70.0877989706 %\n",
      "92800 for 70.2391765062 %\n",
      "93000 for 70.3905540418 %\n",
      "93200 for 70.5419315774 %\n",
      "93400 for 70.6933091129 %\n",
      "93600 for 70.8446866485 %\n",
      "93800 for 70.9960641841 %\n",
      "94000 for 71.1474417196 %\n",
      "94200 for 71.2988192552 %\n",
      "94400 for 71.4501967908 %\n",
      "94600 for 71.6015743264 %\n",
      "94800 for 71.7529518619 %\n",
      "95000 for 71.9043293975 %\n",
      "95200 for 72.0557069331 %\n",
      "95400 for 72.2070844687 %\n",
      "95600 for 72.3584620042 %\n",
      "95800 for 72.5098395398 %\n",
      "96000 for 72.6612170754 %\n",
      "96200 for 72.812594611 %\n",
      "96400 for 72.9639721465 %\n",
      "96600 for 73.1153496821 %\n",
      "96800 for 73.2667272177 %\n",
      "97000 for 73.4181047533 %\n",
      "97200 for 73.5694822888 %\n",
      "97400 for 73.7208598244 %\n",
      "97600 for 73.87223736 %\n",
      "97800 for 74.0236148955 %\n",
      "98000 for 74.1749924311 %\n",
      "98200 for 74.3263699667 %\n",
      "98400 for 74.4777475023 %\n",
      "98600 for 74.6291250378 %\n",
      "98800 for 74.7805025734 %\n",
      "99000 for 74.931880109 %\n",
      "99200 for 75.0832576446 %\n",
      "99400 for 75.2346351801 %\n",
      "99600 for 75.3860127157 %\n",
      "99800 for 75.5373902513 %\n",
      "100000 for 75.6887677869 %\n",
      "100200 for 75.8401453224 %\n",
      "100400 for 75.991522858 %\n",
      "100600 for 76.1429003936 %\n",
      "100800 for 76.2942779292 %\n",
      "101000 for 76.4456554647 %\n",
      "101200 for 76.5970330003 %\n",
      "101400 for 76.7484105359 %\n",
      "101600 for 76.8997880715 %\n",
      "101800 for 77.051165607 %\n",
      "102000 for 77.2025431426 %\n",
      "102200 for 77.3539206782 %\n",
      "102400 for 77.5052982137 %\n",
      "102600 for 77.6566757493 %\n",
      "102800 for 77.8080532849 %\n",
      "103000 for 77.9594308205 %\n",
      "103200 for 78.110808356 %\n",
      "103400 for 78.2621858916 %\n",
      "103600 for 78.4135634272 %\n",
      "103800 for 78.5649409628 %\n",
      "104000 for 78.7163184983 %\n",
      "104200 for 78.8676960339 %\n",
      "104400 for 79.0190735695 %\n",
      "104600 for 79.1704511051 %\n",
      "104800 for 79.3218286406 %\n",
      "105000 for 79.4732061762 %\n",
      "105200 for 79.6245837118 %\n",
      "105400 for 79.7759612474 %\n",
      "105600 for 79.9273387829 %\n",
      "105800 for 80.0787163185 %\n",
      "106000 for 80.2300938541 %\n",
      "106200 for 80.3814713896 %\n",
      "106400 for 80.5328489252 %\n",
      "106600 for 80.6842264608 %\n",
      "106800 for 80.8356039964 %\n",
      "107000 for 80.9869815319 %\n",
      "107200 for 81.1383590675 %\n",
      "107400 for 81.2897366031 %\n",
      "107600 for 81.4411141387 %\n",
      "107800 for 81.5924916742 %\n",
      "108000 for 81.7438692098 %\n",
      "108200 for 81.8952467454 %\n",
      "108400 for 82.046624281 %\n",
      "108600 for 82.1980018165 %\n",
      "108800 for 82.3493793521 %\n",
      "109000 for 82.5007568877 %\n",
      "109200 for 82.6521344233 %\n",
      "109400 for 82.8035119588 %\n",
      "109600 for 82.9548894944 %\n",
      "109800 for 83.10626703 %\n",
      "110000 for 83.2576445655 %\n",
      "110200 for 83.4090221011 %\n",
      "110400 for 83.5603996367 %\n",
      "110600 for 83.7117771723 %\n",
      "110800 for 83.8631547078 %\n",
      "111000 for 84.0145322434 %\n",
      "111200 for 84.165909779 %\n",
      "111400 for 84.3172873146 %\n",
      "111600 for 84.4686648501 %\n",
      "111800 for 84.6200423857 %\n",
      "112000 for 84.7714199213 %\n",
      "112200 for 84.9227974569 %\n",
      "112400 for 85.0741749924 %\n",
      "112600 for 85.225552528 %\n",
      "112800 for 85.3769300636 %\n",
      "113000 for 85.5283075992 %\n",
      "113200 for 85.6796851347 %\n",
      "113400 for 85.8310626703 %\n",
      "113600 for 85.9824402059 %\n",
      "113800 for 86.1338177414 %\n",
      "114000 for 86.285195277 %\n",
      "114200 for 86.4365728126 %\n",
      "114400 for 86.5879503482 %\n",
      "114600 for 86.7393278837 %\n",
      "114800 for 86.8907054193 %\n",
      "115000 for 87.0420829549 %\n",
      "115200 for 87.1934604905 %\n",
      "115400 for 87.344838026 %\n",
      "115600 for 87.4962155616 %\n",
      "115800 for 87.6475930972 %\n",
      "116000 for 87.7989706328 %\n",
      "116200 for 87.9503481683 %\n",
      "116400 for 88.1017257039 %\n",
      "116600 for 88.2531032395 %\n",
      "116800 for 88.4044807751 %\n",
      "117000 for 88.5558583106 %\n",
      "117200 for 88.7072358462 %\n",
      "117400 for 88.8586133818 %\n",
      "117600 for 89.0099909173 %\n",
      "117800 for 89.1613684529 %\n",
      "118000 for 89.3127459885 %\n",
      "118200 for 89.4641235241 %\n",
      "118400 for 89.6155010596 %\n",
      "118600 for 89.7668785952 %\n",
      "118800 for 89.9182561308 %\n",
      "119000 for 90.0696336664 %\n",
      "119200 for 90.2210112019 %\n",
      "119400 for 90.3723887375 %\n",
      "119600 for 90.5237662731 %\n",
      "119800 for 90.6751438087 %\n",
      "120000 for 90.8265213442 %\n",
      "120200 for 90.9778988798 %\n",
      "120400 for 91.1292764154 %\n",
      "120600 for 91.280653951 %\n",
      "120800 for 91.4320314865 %\n",
      "121000 for 91.5834090221 %\n",
      "121200 for 91.7347865577 %\n",
      "121400 for 91.8861640932 %\n",
      "121600 for 92.0375416288 %\n",
      "121800 for 92.1889191644 %\n",
      "122000 for 92.3402967 %\n",
      "122200 for 92.4916742355 %\n",
      "122400 for 92.6430517711 %\n",
      "122600 for 92.7944293067 %\n",
      "122800 for 92.9458068423 %\n",
      "123000 for 93.0971843778 %\n",
      "123200 for 93.2485619134 %\n",
      "123400 for 93.399939449 %\n",
      "123600 for 93.5513169846 %\n",
      "123800 for 93.7026945201 %\n",
      "124000 for 93.8540720557 %\n",
      "124200 for 94.0054495913 %\n",
      "124400 for 94.1568271269 %\n",
      "124600 for 94.3082046624 %\n",
      "124800 for 94.459582198 %\n",
      "125000 for 94.6109597336 %\n",
      "125200 for 94.7623372691 %\n",
      "125400 for 94.9137148047 %\n",
      "125600 for 95.0650923403 %\n",
      "125800 for 95.2164698759 %\n",
      "126000 for 95.3678474114 %\n",
      "126200 for 95.519224947 %\n",
      "126400 for 95.6706024826 %\n",
      "126600 for 95.8219800182 %\n",
      "126800 for 95.9733575537 %\n",
      "127000 for 96.1247350893 %\n",
      "127200 for 96.2761126249 %\n"
     ]
    },
    {
     "name": "stderr",
     "output_type": "stream",
     "text": [
      "/Users/Jie/anaconda2/lib/python2.7/site-packages/bs4/__init__.py:219: UserWarning: \"/\" looks like a filename, not markup. You should probably open this file and pass the filehandle into Beautiful Soup.\n",
      "  ' Beautiful Soup.' % markup)\n"
     ]
    },
    {
     "name": "stdout",
     "output_type": "stream",
     "text": [
      "127400 for 96.4274901605 %\n",
      "127600 for 96.578867696 %\n",
      "127800 for 96.7302452316 %\n",
      "128000 for 96.8816227672 %\n",
      "128200 for 97.0330003028 %\n",
      "128400 for 97.1843778383 %\n",
      "128600 for 97.3357553739 %\n",
      "128800 for 97.4871329095 %\n",
      "129000 for 97.638510445 %\n",
      "129200 for 97.7898879806 %\n",
      "129400 for 97.9412655162 %\n",
      "129600 for 98.0926430518 %\n",
      "129800 for 98.2440205873 %\n",
      "130000 for 98.3953981229 %\n",
      "130200 for 98.5467756585 %\n",
      "130400 for 98.6981531941 %\n",
      "130600 for 98.8495307296 %\n",
      "130800 for 99.0009082652 %\n",
      "131000 for 99.1522858008 %\n",
      "131200 for 99.3036633364 %\n",
      "131400 for 99.4550408719 %\n",
      "131600 for 99.6064184075 %\n",
      "131800 for 99.7577959431 %\n",
      "132000 for 99.9091734787 %\n"
     ]
    }
   ],
   "source": [
    "clean_text = []\n",
    "number = 0\n",
    "for comment in comments:\n",
    "    text = BeautifulSoup(comment).get_text()\n",
    "    text = clean_my_data(text)\n",
    "    clean_text.append(text)\n",
    "    if(number % 5000 == 0):\n",
    "        print number, \"for\", 100*(number/float(size)), \"%\"\n",
    "    number += 1"
   ]
  },
  {
   "cell_type": "code",
   "execution_count": 192,
   "metadata": {},
   "outputs": [
    {
     "name": "stdout",
     "output_type": "stream",
     "text": [
      "great place great host excel commun process\n"
     ]
    }
   ],
   "source": [
    "print clean_text[10]"
   ]
  },
  {
   "cell_type": "code",
   "execution_count": 193,
   "metadata": {},
   "outputs": [
    {
     "data": {
      "text/plain": [
       "'Great place and a great host.  Excellent communication throughout the process.'"
      ]
     },
     "execution_count": 193,
     "metadata": {},
     "output_type": "execute_result"
    }
   ],
   "source": [
    "comments[10]"
   ]
  },
  {
   "cell_type": "code",
   "execution_count": 194,
   "metadata": {},
   "outputs": [
    {
     "data": {
      "text/plain": [
       "<132120x5000 sparse matrix of type '<type 'numpy.int64'>'\n",
       "\twith 3370055 stored elements in Compressed Sparse Row format>"
      ]
     },
     "execution_count": 194,
     "metadata": {},
     "output_type": "execute_result"
    }
   ],
   "source": [
    "from sklearn.feature_extraction.text import CountVectorizer\n",
    "from sklearn.externals import joblib\n",
    "import cPickle as pickle\n",
    "\n",
    "cv = CountVectorizer(analyzer = \"word\", tokenizer = None, preprocessor = None, stop_words = None, max_features = 5000)\n",
    "cv_fit = cv.fit_transform(clean_text)\n",
    "cv_fit"
   ]
  },
  {
   "cell_type": "code",
   "execution_count": 195,
   "metadata": {},
   "outputs": [
    {
     "data": {
      "text/plain": [
       "5000"
      ]
     },
     "execution_count": 195,
     "metadata": {},
     "output_type": "execute_result"
    }
   ],
   "source": [
    "len(cv_fit.toarray()[0])"
   ]
  },
  {
   "cell_type": "code",
   "execution_count": 196,
   "metadata": {},
   "outputs": [
    {
     "name": "stdout",
     "output_type": "stream",
     "text": [
      "[986  38  74 ... 156  51  71]\n"
     ]
    }
   ],
   "source": [
    "print(cv_fit.toarray().sum(axis=0))"
   ]
  },
  {
   "cell_type": "code",
   "execution_count": 197,
   "metadata": {
    "scrolled": false
   },
   "outputs": [
    {
     "name": "stdout",
     "output_type": "stream",
     "text": [
      "[u'10', u'10min', u'11', u'12', u'15', u'15min', u'1st', u'20', u'20min', u'24', u'25', u'2nd', u'30', u'35', u'40', u'45', u'4th', u'90', u'aaron', u'abandon', u'abbi', u'abbiamo', u'abend', u'aber', u'abil', u'abl', u'abnb', u'abod', u'abov', u'absenc', u'absolut', u'abund', u'ac', u'acc', u'accent', u'accept', u'acces', u'acceso', u'access', u'accessori', u'accid', u'accomad', u'accomid', u'accommod', u'accommodating', u'accomod', u'accompani', u'accord', u'account', u'accueil', u'accueillant', u'accueilli', u'accur', u'accus', u'accustom', u'acc\\xec', u'acogedor', u'acquaint', u'act', u'action', u'activ', u'actual', u'ad', u'adam', u'adapt', u'add', u'addison', u'addit', u'address', u'adem\\xec\\xe1', u'adequ', u'adi', u'adjac', u'adjoin', u'adjust', u'admir', u'admit', u'ador', u'adorn', u'adress', u'adriana', u'adult', u'advanc', u'advantag', u'adventur', u'advertis', u'advic', u'advis', u'ae', u'aeropuerto', u'aesthet', u'affect', u'affection', u'afford', u'afraid', u'afri', u'african', u'afternoon', u'afterward', u'ag', u'aga', u'again', u'age', u'agenda', u'aggress', u'agn', u'agr', u'agrad', u'agre', u'agr\\xec', u'ahold', u'ai', u'aid', u'ainsi', u'air', u'airb', u'airbnb', u'airbnber', u'aircon', u'airi', u'airlin', u'airport', u'ais', u'aish', u'aisha', u'aishwarya', u'aist', u'al', u'alan', u'alarm', u'alayna', u'albert', u'alcohol', u'aldi', u'alejandra', u'alert', u'alex', u'alexand', u'alexandra', u'alfredo', u'algenoy', u'algo', u'alguna', u'ali', u'alicia', u'alin', u'alison', u'aliv', u'all', u'alla', u'allem', u'allen', u'allend', u'aller', u'allerg', u'allergi', u'alley', u'alli', u'allison', u'allow', u'almond', u'almost', u'alok', u'alon', u'alot', u'alright', u'also', u'altern', u'alvin', u'alway', u'alyssa', u'am', u'amabl', u'amado', u'amanda', u'amarachi', u'amaz', u'amazing', u'amazon', u'amber', u'ambianc', u'ambienc', u'ambient', u'ambul', u'amen', u'america', u'american', u'ami', u'amiabl', u'amigo', u'ammen', u'amount', u'ampl', u'amplia', u'amplio', u'am\\xec', u'an', u'ana', u'anch', u'and', u'andersonvil', u'andi', u'andr', u'andrea', u'andrew', u'anfitrion', u'anfitriona', u'anfitri\\xec', u'anfitri\\xec_n', u'angel', u'angela', u'angelica', u'angenehm', u'angi', u'ani', u'anim', u'anita', u'anjli', u'ankunft', u'ann', u'anna', u'annex', u'anni', u'anniversari', u'annonc', u'announc', u'annoy', u'annual', u'answer', u'ant', u'anthoni', u'anticip', u'antiqu', u'anton', u'antonio', u'anuncio', u'anxiou', u'anybodi', u'anyon', u'anyth', u'anytim', u'anyway', u'anywher', u'ao', u'apart', u'aparta', u'apartamento', u'apartment', u'apolog', u'apologet', u'app', u'appar', u'appart', u'appartamento', u'appeal', u'appear', u'appl', u'appli', u'applianc', u'appoint', u'appreci', u'apprehens', u'approach', u'appropri', u'approv', u'approx', u'appr\\xec', u'april', u'apr\\xec', u'apt', u'aquarium', u'aqui', u'aqu\\xec_', u'aragon', u'architectur', u'are', u'area', u'argyl', u'ariel', u'aris', u'arm', u'armando', u'armitag', u'aros', u'around', u'arrang', u'array', u'arriv', u'arrival', u'arriv\\xec', u'art', u'artist', u'artpart', u'artsi', u'artur', u'arturo', u'artwork', u'as', u'asap', u'ash', u'ashland', u'ashley', u'ashvin', u'asian', u'ask', u'asleep', u'asli', u'aspect', u'ass', u'asset', u'assez', u'assign', u'assist', u'associ', u'assort', u'assum', u'assur', u'as\\xec_', u'at', u'ate', u'atenta', u'atento', u'atmospher', u'att', u'attach', u'attempt', u'attend', u'attent', u'attic', u'attitud', u'attract', u'au', u'auch', u'aucun', u'audibl', u'auf', u'aufenthalt', u'aughti', u'august', u'aunqu', u'aunt', u'aura', u'ausgestattet', u'aussi', u'austin', u'authent', u'auto', u'autobu', u'autom', u'autr', u'aux', u'av', u'avail', u'avait', u'avant', u'ave', u'avec', u'avenu', u'averag', u'avion', u'avoid', u'avoir', u'avon', u'avondal', u'aw', u'await', u'awak', u'awar', u'away', u'awesom', u'awhil', u'awkward', u'awsom', u'aygul', u'azul', u'a\\xec', u'ba', u'babi', u'bachelor', u'bachelorett', u'back', u'background', u'backpack', u'backyard', u'bacon', u'bad', u'badezimm', u'bag', u'bagel', u'baggag', u'bagno', u'bahn', u'bailey', u'bain', u'bairro', u'bake', u'bakeri', u'balanc', u'balconi', u'ball', u'ballpark', u'ballroom', u'banana', u'band', u'bang', u'bank', u'bar', u'barb', u'barbara', u'barbecu', u'bare', u'bargain', u'bark', u'barrett', u'barrio', u'bars', u'bart', u'bas', u'base', u'basebal', u'basement', u'basi', u'basic', u'basket', u'basketbal', u'bastant', u'bat', u'bath', u'bathrob', u'bathroom', u'bathtub', u'batteri', u'bay', u'ba\\xec', u'bbq', u'bc', u'be', u'beach', u'bean', u'bear', u'beat', u'beaten', u'beatl', u'beatric', u'beau', u'beaucoup', u'beauti', u'beautiful', u'bebe', u'becam', u'becom', u'bed', u'bedroom', u'bedsheet', u'bedsid', u'bee', u'beef', u'been', u'beer', u'befor', u'beforehand', u'began', u'begin', u'behalf', u'behav', u'behind', u'bei', u'beiden', u'bel', u'believ', u'bell', u'bella', u'belmont', u'belong', u'below', u'bem', u'ben', u'bench', u'benefit', u'benjamin', u'bennett', u'bequem', u'bernard', u'berni', u'beschreibung', u'beschrieben', u'besid', u'besoin', u'best', u'bet', u'beth', u'bethani', u'betsi', u'bett', u'better', u'betti', u'between', u'beverag', u'bewar', u'beyond', u'bf', u'bi', u'bianca', u'bicycl', u'bien', u'big', u'bigger', u'biggest', u'bijou', u'bik', u'bike', u'bill', u'billi', u'bin', u'binder', u'bird', u'birthday', u'biscuit', u'bistro', u'bit', u'bite', u'black', u'blackhawk', u'blackout', u'bladon', u'blake', u'blame', u'blanket', u'blast', u'blend', u'blender', u'bless', u'bleue', u'blew', u'blind', u'block', u'bloomingdal', u'blow', u'blown', u'blu', u'blue', u'bluelin', u'bnb', u'boa', u'board', u'boast', u'boat', u'bob', u'bobbi', u'bodi', u'bogdan', u'bohemian', u'boiler', u'bon', u'bone', u'bongo', u'bonita', u'bonito', u'bonn', u'bonu', u'bonus', u'book', u'booklet', u'bookstor', u'boot', u'border', u'bore', u'borrow', u'bosed', u'bosi', u'boston', u'both', u'bother', u'bothersom', u'bottl', u'bottom', u'bought', u'boulevard', u'boutiqu', u'bowl', u'box', u'boy', u'boyfriend', u'boystown', u'bozena', u'br', u'bra', u'brad', u'brain', u'brand', u'brandon', u'braucht', u'bread', u'break', u'breaker', u'breakfast', u'breath', u'breathtak', u'breez', u'breezi', u'bref', u'brendan', u'bret', u'brett', u'brew', u'breweri', u'brian', u'briana', u'brick', u'bridg', u'bridgeport', u'brief', u'briefli', u'bright', u'brilliant', u'bring', u'brittani', u'broadway', u'brochur', u'broke', u'broken', u'bronson', u'bronzevil', u'brook', u'brooklyn', u'brother', u'brought', u'brown', u'browni', u'brownston', u'brows', u'bruce', u'bruit', u'brunch', u'brush', u'bruyant', u'bryan', u'bryce', u'btw', u'bu', u'bubbl', u'buck', u'bucktown', u'buddha', u'buddi', u'budget', u'buen', u'buena', u'bueno', u'bug', u'build', u'built', u'bulb', u'bull', u'bummer', u'bump', u'bunch', u'bungalow', u'bunk', u'bunmi', u'bunni', u'burger', u'burn', u'bus', u'buse', u'busi', u'buss', u'bustl', u'but', u'butter', u'buy', u'buzz', u'b\\xec', u'ca', u'cab', u'cabinet', u'cabl', u'cada', u'caf', u'cafe', u'caf\\xec', u'caitlin', u'cake', u'cal', u'california', u'call', u'calli', u'calm', u'calvin', u'cama', u'came', u'camera', u'cameron', u'camil', u'caminando', u'camp', u'campu', u'can', u'canada', u'cancel', u'candi', u'candl', u'cant', u'cap', u'captur', u'car', u'card', u'cardin', u'care', u'carin', u'carl', u'carla', u'carlo', u'carlton', u'carmen', u'carolin', u'carolina', u'carpet', u'carri', u'carriag', u'cart', u'casa', u'case', u'casey', u'cash', u'cassi', u'castl', u'casual', u'cat', u'catalina', u'catch', u'cater', u'catherin', u'cathern', u'cathi', u'cathlynn', u'cathrin', u'catrina', u'caught', u'caus', u'caution', u'cautiou', u'caveat', u'cc', u'cd', u'ce', u'cecilia', u'ceil', u'cela', u'celebr', u'cell', u'cellular', u'center', u'centr', u'central', u'centre', u'centro', u'centuri', u'cepend', u'cerca', u'cercano', u'cereal', u'certain', u'cesar', u'cessair', u'cet', u'cett', u'ceux', u'chad', u'chain', u'chair', u'chaleureus', u'chaleureux', u'chalk', u'chalkboard', u'challeng', u'chambr', u'champagn', u'chanc', u'chanel', u'chang', u'channel', u'chao', u'charact', u'charg', u'charger', u'charissa', u'charl', u'charla', u'charli', u'charlott', u'charm', u'charmant', u'chase', u'chat', u'che', u'cheap', u'cheaper', u'cheapest', u'check', u'checked', u'checkin', u'checking', u'checkout', u'cheer', u'cheeri', u'chees', u'chef', u'chelsi', u'cheri', u'cherri', u'cheryl', u'chester', u'chez', u'chi', u'chic', u'chicago', u'chicagoan', u'chicagoland', u'chicken', u'child', u'children', u'chill', u'chilli', u'china', u'chinatown', u'chines', u'chip', u'chitown', u'chloe', u'chocol', u'choic', u'choos', u'chose', u'chosen', u'chri', u'christi', u'christian', u'christiana', u'christin', u'christina', u'christma', u'christoph', u'chromecast', u'church', u'ci', u'cici', u'cigarett', u'cinch', u'cinema', u'cinnamon', u'circl', u'circul', u'circumst', u'citi', u'citt\\xec\\xea', u'city', u'ciudad', u'ci\\xec', u'claim', u'clair', u'clarifi', u'clark', u'class', u'classi', u'classic', u'claudia', u'claw', u'clayton', u'clean', u'cleaner', u'cleanest', u'cleanli', u'clear', u'client', u'climb', u'clock', u'clog', u'clos', u'close', u'closebi', u'closer', u'closest', u'closet', u'cloth', u'cloud', u'club', u'clutch', u'clutter', u'clyde', u'co', u'coach', u'coast', u'coat', u'cocina', u'cocktail', u'code', u'coff', u'coffe', u'coffee', u'coffeemak', u'coffeeshop', u'coin', u'coincid', u'coke', u'cold', u'colder', u'colleagu', u'collect', u'colleg', u'collin', u'color', u'com', u'combin', u'combo', u'come', u'comedi', u'comer', u'comfi', u'comfiest', u'comfort', u'comfortable', u'comic', u'comida', u'comm', u'comment', u'commerc', u'commerci', u'commit', u'commod', u'common', u'commun', u'communication', u'commut', u'como', u'comoda', u'comodidad', u'comodo', u'compact', u'compani', u'companion', u'compar', u'comparison', u'compens', u'complain', u'complaint', u'complementari', u'complet', u'complex', u'complic', u'compliment', u'complimentari', u'comprehens', u'comput', u'comun', u'comunicaci\\xec_n', u'comunicado', u'con', u'concept', u'concern', u'concert', u'concierg', u'concis', u'conclus', u'condiment', u'condit', u'condition', u'condo', u'conduc', u'confer', u'confid', u'confirm', u'conflict', u'conform', u'confort', u'confort\\xec\\xe1vel', u'confus', u'congress', u'connect', u'conni', u'conoc', u'conor', u'conrad', u'conscienti', u'consciou', u'conseil', u'conservatori', u'consid', u'consider', u'consist', u'constanc', u'constant', u'construct', u'consumm', u'contact', u'contain', u'contemporari', u'content', u'continent', u'continu']\n"
     ]
    }
   ],
   "source": [
    "top5000words = cv.get_feature_names()\n",
    "print(top5000words[0:1000])"
   ]
  },
  {
   "cell_type": "code",
   "execution_count": 198,
   "metadata": {},
   "outputs": [],
   "source": [
    "# Save the model\n",
    "joblib.dump(cv, 'CountVectorizer.pkl') \n",
    "with open(\"top5000words.txt\", 'wb') as f:\n",
    "    pickle.dump(top5000words, f)"
   ]
  },
  {
   "cell_type": "markdown",
   "metadata": {},
   "source": [
    "### Create features using Scikit Learn TFIDF "
   ]
  },
  {
   "cell_type": "code",
   "execution_count": 199,
   "metadata": {},
   "outputs": [
    {
     "data": {
      "text/plain": [
       "['cv_tfidf.pkl']"
      ]
     },
     "execution_count": 199,
     "metadata": {},
     "output_type": "execute_result"
    }
   ],
   "source": [
    "#TFIDF\n",
    "from sklearn.feature_extraction.text import TfidfTransformer\n",
    "tfidf_trans= TfidfTransformer()\n",
    "cv_tfidf= tfidf_trans.fit_transform(cv_fit)\n",
    "\n",
    "# model saving\n",
    "joblib.dump(cv_tfidf, 'cv_tfidf.pkl') "
   ]
  },
  {
   "cell_type": "code",
   "execution_count": 200,
   "metadata": {},
   "outputs": [
    {
     "name": "stdout",
     "output_type": "stream",
     "text": [
      "[[0. 0. 0. ... 0. 0. 0.]\n",
      " [0. 0. 0. ... 0. 0. 0.]\n",
      " [0. 0. 0. ... 0. 0. 0.]\n",
      " ...\n",
      " [0. 0. 0. ... 0. 0. 0.]\n",
      " [0. 0. 0. ... 0. 0. 0.]\n",
      " [0. 0. 0. ... 0. 0. 0.]]\n"
     ]
    }
   ],
   "source": [
    "print cv_tfidf.toarray()[:10]"
   ]
  },
  {
   "cell_type": "markdown",
   "metadata": {},
   "source": [
    "# 3. Classification model"
   ]
  },
  {
   "cell_type": "markdown",
   "metadata": {},
   "source": [
    "### Split into training and testing data"
   ]
  },
  {
   "cell_type": "code",
   "execution_count": 201,
   "metadata": {},
   "outputs": [
    {
     "name": "stdout",
     "output_type": "stream",
     "text": [
      "(105696, 5000) (26424, 5000) (105696,) (26424,)\n"
     ]
    }
   ],
   "source": [
    "from sklearn.cross_validation import train_test_split\n",
    "x_train, x_test, y_train, y_test = train_test_split(cv_tfidf, reviews_target, test_size=0.2, random_state=35)\n",
    "print x_train.shape, x_test.shape, y_train.shape, y_test.shape "
   ]
  },
  {
   "cell_type": "code",
   "execution_count": 202,
   "metadata": {},
   "outputs": [],
   "source": [
    "#The performance metrices of various algorithm\n",
    "accuracy= pd.DataFrame()\n",
    "Algorith=[]\n",
    "Accuracy=[]"
   ]
  },
  {
   "cell_type": "code",
   "execution_count": 203,
   "metadata": {},
   "outputs": [],
   "source": [
    "from  sklearn.metrics import log_loss, accuracy_score\n",
    "from sklearn.tree import DecisionTreeClassifier\n",
    "from sklearn.ensemble import AdaBoostClassifier\n",
    "from sklearn.ensemble import GradientBoostingClassifier\n",
    "from numpy import loadtxt\n",
    "from sklearn.ensemble import RandomForestClassifier\n",
    "from sklearn.grid_search import GridSearchCV\n",
    "from sklearn.linear_model import LinearRegression, Lasso, Ridge, ElasticNet, SGDRegressor\n",
    "from sklearn.naive_bayes import MultinomialNB\n",
    "from sklearn.naive_bayes import BernoulliNB\n",
    "from sklearn import linear_model\n",
    "from sklearn.model_selection import cross_val_score\n",
    "from sklearn.naive_bayes import GaussianNB"
   ]
  },
  {
   "cell_type": "markdown",
   "metadata": {},
   "source": [
    "### Decision Tree"
   ]
  },
  {
   "cell_type": "code",
   "execution_count": 204,
   "metadata": {},
   "outputs": [
    {
     "name": "stdout",
     "output_type": "stream",
     "text": [
      "Fitting 5 folds for each of 27 candidates, totalling 135 fits\n"
     ]
    },
    {
     "name": "stderr",
     "output_type": "stream",
     "text": [
      "[Parallel(n_jobs=1)]: Done 135 out of 135 | elapsed: 38.8min finished\n"
     ]
    },
    {
     "name": "stdout",
     "output_type": "stream",
     "text": [
      "CPU times: user 39min 22s, sys: 10 s, total: 39min 32s\n",
      "Wall time: 39min 42s\n"
     ]
    }
   ],
   "source": [
    "treeclf = DecisionTreeClassifier(criterion='entropy')\n",
    "parameters = {\n",
    "    'max_depth': [8, 10, 12, 14, 18, 20, 25, 40, 50],\n",
    "    'min_samples_split': [4, 6, 10]\n",
    "}\n",
    "gs_decisionTree = GridSearchCV(treeclf, parameters, verbose=1, cv=5, scoring='accuracy')\n",
    "%time _ = gs_decisionTree.fit(x_train, y_train)\n",
    "Algorith.append('Decision Tree')\n",
    "Accuracy.append(gs_decisionTree.best_score_)"
   ]
  },
  {
   "cell_type": "code",
   "execution_count": 205,
   "metadata": {},
   "outputs": [
    {
     "name": "stdout",
     "output_type": "stream",
     "text": [
      "The best parameters: {'min_samples_split': 10, 'max_depth': 50}\n",
      "The best accuracy result: 0.306794959128\n"
     ]
    }
   ],
   "source": [
    "print \"The best parameters: %s\" %gs_decisionTree.best_params_\n",
    "print \"The best accuracy result: %s\" %abs(gs_decisionTree.best_score_)"
   ]
  },
  {
   "cell_type": "markdown",
   "metadata": {},
   "source": [
    "### Naïve Bayes"
   ]
  },
  {
   "cell_type": "code",
   "execution_count": 206,
   "metadata": {},
   "outputs": [
    {
     "name": "stdout",
     "output_type": "stream",
     "text": [
      "Fitting 5 folds for each of 20 candidates, totalling 100 fits\n",
      "CPU times: user 7.08 s, sys: 1.12 s, total: 8.21 s\n",
      "Wall time: 8.23 s\n"
     ]
    },
    {
     "name": "stderr",
     "output_type": "stream",
     "text": [
      "[Parallel(n_jobs=1)]: Done 100 out of 100 | elapsed:    8.1s finished\n"
     ]
    }
   ],
   "source": [
    "mnbclf = MultinomialNB()\n",
    "parameters = {\n",
    "    'fit_prior': [True, False],\n",
    "    'alpha': np.linspace(0.0001, 5, 10)\n",
    "}\n",
    "gs_MultinomialNB = GridSearchCV(mnbclf, parameters, verbose=1, cv=5, scoring='accuracy')\n",
    "%time _ = gs_MultinomialNB.fit(x_train, y_train)\n",
    "\n",
    "Algorith.append('Naïve Bayes')\n",
    "Accuracy.append(gs_MultinomialNB.best_score_)"
   ]
  },
  {
   "cell_type": "code",
   "execution_count": 207,
   "metadata": {},
   "outputs": [
    {
     "name": "stdout",
     "output_type": "stream",
     "text": [
      "The best parameters: {'alpha': 0.0001, 'fit_prior': True}\n",
      "The best accuracy result: 0.496565622162\n"
     ]
    }
   ],
   "source": [
    "print \"The best parameters: %s\" %gs_MultinomialNB.best_params_\n",
    "print \"The best accuracy result: %s\" %abs(gs_MultinomialNB.best_score_)"
   ]
  },
  {
   "cell_type": "markdown",
   "metadata": {},
   "source": [
    "### Random Forest"
   ]
  },
  {
   "cell_type": "code",
   "execution_count": 208,
   "metadata": {},
   "outputs": [
    {
     "name": "stdout",
     "output_type": "stream",
     "text": [
      "Fitting 5 folds for each of 64 candidates, totalling 320 fits\n"
     ]
    },
    {
     "name": "stderr",
     "output_type": "stream",
     "text": [
      "[Parallel(n_jobs=1)]: Done 320 out of 320 | elapsed:  8.4min finished\n"
     ]
    },
    {
     "name": "stdout",
     "output_type": "stream",
     "text": [
      "CPU times: user 8min 12s, sys: 15.3 s, total: 8min 27s\n",
      "Wall time: 8min 29s\n"
     ]
    }
   ],
   "source": [
    "rfclf = RandomForestClassifier(criterion='entropy')\n",
    "parameters = {\n",
    "    'min_samples_leaf': [2, 4, 6, 10],\n",
    "    'max_depth':[40, 50, 80, 100],\n",
    "    'max_features':[10, 25, 40, 50]\n",
    "}\n",
    "gs_RandomForest = GridSearchCV(rfclf, parameters, verbose=1, cv=5, scoring='accuracy')\n",
    "%time _ = gs_RandomForest.fit(x_train, y_train)\n",
    "\n",
    "Algorith.append('Random Forest')\n",
    "Accuracy.append(gs_RandomForest.best_score_)"
   ]
  },
  {
   "cell_type": "code",
   "execution_count": 209,
   "metadata": {},
   "outputs": [
    {
     "name": "stdout",
     "output_type": "stream",
     "text": [
      "The best parameters: {'max_features': 50, 'max_depth': 50, 'min_samples_leaf': 4}\n",
      "The best accuracy result: 0.363750756888\n"
     ]
    }
   ],
   "source": [
    "print \"The best parameters: %s\" %gs_RandomForest.best_params_\n",
    "print \"The best accuracy result: %s\" %abs(gs_RandomForest.best_score_)"
   ]
  },
  {
   "cell_type": "markdown",
   "metadata": {},
   "source": [
    "### Gradient Boosting"
   ]
  },
  {
   "cell_type": "code",
   "execution_count": 210,
   "metadata": {},
   "outputs": [
    {
     "name": "stdout",
     "output_type": "stream",
     "text": [
      "Fitting 5 folds for each of 10 candidates, totalling 50 fits\n"
     ]
    },
    {
     "name": "stderr",
     "output_type": "stream",
     "text": [
      "[Parallel(n_jobs=1)]: Done  50 out of  50 | elapsed: 17.7min finished\n"
     ]
    },
    {
     "name": "stdout",
     "output_type": "stream",
     "text": [
      "CPU times: user 16min 29s, sys: 1min 37s, total: 18min 7s\n",
      "Wall time: 18min 9s\n"
     ]
    }
   ],
   "source": [
    "gbclf= GradientBoostingClassifier()\n",
    "parameters = {\n",
    "    'min_samples_split': [2, 4, 6, 8, 10],\n",
    "    'max_features':[40, 50]\n",
    "}\n",
    "\n",
    "gs_GradientBoosting = GridSearchCV(gbclf, parameters, verbose=1, cv=5, scoring='accuracy')\n",
    "%time _ = gs_GradientBoosting.fit(x_train, y_train)\n",
    "\n",
    "Algorith.append('Gradient Boost')\n",
    "Accuracy.append(gs_GradientBoosting.best_score_)\n"
   ]
  },
  {
   "cell_type": "code",
   "execution_count": 211,
   "metadata": {},
   "outputs": [
    {
     "name": "stdout",
     "output_type": "stream",
     "text": [
      "The best parameters: {'max_features': 50, 'min_samples_split': 2}\n",
      "The best accuracy result: 0.431832803512\n"
     ]
    }
   ],
   "source": [
    "print \"The best parameters: %s\" %gs_GradientBoosting.best_params_\n",
    "print \"The best accuracy result: %s\" %abs(gs_GradientBoosting.best_score_)"
   ]
  },
  {
   "cell_type": "markdown",
   "metadata": {},
   "source": [
    "### Regression"
   ]
  },
  {
   "cell_type": "code",
   "execution_count": 212,
   "metadata": {},
   "outputs": [
    {
     "name": "stdout",
     "output_type": "stream",
     "text": [
      "Fitting 5 folds for each of 6 candidates, totalling 30 fits\n"
     ]
    },
    {
     "name": "stderr",
     "output_type": "stream",
     "text": [
      "[Parallel(n_jobs=1)]: Done  30 out of  30 | elapsed: 31.6min finished\n"
     ]
    },
    {
     "name": "stdout",
     "output_type": "stream",
     "text": [
      "CPU times: user 59min 38s, sys: 31.6 s, total: 1h 9s\n",
      "Wall time: 31min 48s\n"
     ]
    }
   ],
   "source": [
    "parameters = {\n",
    "    'penalty': ['l1','l2'],\n",
    "    'C': [1e-5, 1, 1e5]\n",
    "}\n",
    "rgclf = linear_model.LogisticRegression()\n",
    "gs_Regression = GridSearchCV(rgclf, parameters, verbose=1, cv=5, scoring='accuracy')\n",
    "\n",
    "%time _ = gs_Regression.fit(x_train, y_train)\n",
    "Algorith.append('Regression')\n",
    "Accuracy.append(gs_Regression.best_score_)"
   ]
  },
  {
   "cell_type": "code",
   "execution_count": 213,
   "metadata": {},
   "outputs": [
    {
     "name": "stdout",
     "output_type": "stream",
     "text": [
      "The best parameters: {'penalty': 'l1', 'C': 1}\n",
      "The best accuracy result: 0.514428171359\n"
     ]
    }
   ],
   "source": [
    "print \"The best parameters: %s\" %gs_Regression.best_params_\n",
    "print \"The best accuracy result: %s\" %abs(gs_Regression.best_score_)"
   ]
  },
  {
   "cell_type": "markdown",
   "metadata": {},
   "source": [
    "### Dataframe showing the performance metrices of the algorithms"
   ]
  },
  {
   "cell_type": "code",
   "execution_count": 214,
   "metadata": {},
   "outputs": [
    {
     "name": "stdout",
     "output_type": "stream",
     "text": [
      "         Algorith  Accuracy\n",
      "0   Decision Tree  0.306795\n",
      "1     Naïve Bayes  0.496566\n",
      "2   Random Forest  0.363751\n",
      "3  Gradient Boost  0.431833\n",
      "4      Regression  0.514428\n"
     ]
    }
   ],
   "source": [
    "accuracy['Algorith']= Algorith\n",
    "accuracy['Accuracy']= Accuracy\n",
    "print(accuracy)"
   ]
  },
  {
   "cell_type": "markdown",
   "metadata": {},
   "source": [
    "# 4. Use best parameters to build the models "
   ]
  },
  {
   "cell_type": "code",
   "execution_count": 51,
   "metadata": {},
   "outputs": [],
   "source": [
    "prediction = dict()"
   ]
  },
  {
   "cell_type": "markdown",
   "metadata": {},
   "source": [
    "### Decision Tree"
   ]
  },
  {
   "cell_type": "code",
   "execution_count": 53,
   "metadata": {},
   "outputs": [],
   "source": [
    "tree_clf = DecisionTreeClassifier(criterion='entropy', min_samples_split = 10, max_depth = 10)\n",
    "model_dt = tree_clf.fit(x_train, y_train)\n",
    "prediction['DecisionTree'] = model_dt.predict(x_test)"
   ]
  },
  {
   "cell_type": "code",
   "execution_count": 65,
   "metadata": {},
   "outputs": [
    {
     "data": {
      "text/plain": [
       "['DecisionTree_Predict_Rating.pkl']"
      ]
     },
     "execution_count": 65,
     "metadata": {},
     "output_type": "execute_result"
    }
   ],
   "source": [
    "joblib.dump(model_dt, 'DecisionTree_Predict_Rating.pkl')"
   ]
  },
  {
   "cell_type": "markdown",
   "metadata": {},
   "source": [
    "### Naïve Bayes"
   ]
  },
  {
   "cell_type": "code",
   "execution_count": 57,
   "metadata": {},
   "outputs": [],
   "source": [
    "nb_clf = MultinomialNB(alpha=0.556, fit_prior = False)\n",
    "model_nb = nb_clf.fit(x_train, y_train)\n",
    "prediction['NaiveBayes'] = model_nb.predict(x_test)"
   ]
  },
  {
   "cell_type": "code",
   "execution_count": 67,
   "metadata": {},
   "outputs": [
    {
     "data": {
      "text/plain": [
       "['NaiveBayes_Predict_Rating.pkl']"
      ]
     },
     "execution_count": 67,
     "metadata": {},
     "output_type": "execute_result"
    }
   ],
   "source": [
    "joblib.dump(model_nb, 'NaiveBayes_Predict_Rating.pkl')"
   ]
  },
  {
   "cell_type": "markdown",
   "metadata": {},
   "source": [
    "### Random Forest"
   ]
  },
  {
   "cell_type": "code",
   "execution_count": 58,
   "metadata": {},
   "outputs": [],
   "source": [
    "rf_clf = RandomForestClassifier(criterion='entropy', max_features = 25, max_depth = 40, min_samples_leaf = 4)\n",
    "model_rf = rf_clf.fit(x_train, y_train)\n",
    "prediction['RandomForest'] = model_rf.predict(x_test)"
   ]
  },
  {
   "cell_type": "code",
   "execution_count": 68,
   "metadata": {},
   "outputs": [
    {
     "data": {
      "text/plain": [
       "['RandomForest_Predict_Rating.pkl']"
      ]
     },
     "execution_count": 68,
     "metadata": {},
     "output_type": "execute_result"
    }
   ],
   "source": [
    "joblib.dump(model_rf, 'RandomForest_Predict_Rating.pkl')"
   ]
  },
  {
   "cell_type": "markdown",
   "metadata": {},
   "source": [
    "### Gradient Boosting "
   ]
  },
  {
   "cell_type": "code",
   "execution_count": 59,
   "metadata": {},
   "outputs": [],
   "source": [
    "gb_clf= GradientBoostingClassifier(min_samples_split = 2, max_features = 50)\n",
    "model_gb = gb_clf.fit(x_train, y_train)\n",
    "prediction['GradientBoosting'] = model_gb.predict(x_test)"
   ]
  },
  {
   "cell_type": "code",
   "execution_count": 69,
   "metadata": {},
   "outputs": [
    {
     "data": {
      "text/plain": [
       "['GradientBoosting_Predict_Rating.pkl']"
      ]
     },
     "execution_count": 69,
     "metadata": {},
     "output_type": "execute_result"
    }
   ],
   "source": [
    "joblib.dump(model_gb, 'GradientBoosting_Predict_Rating.pkl')"
   ]
  },
  {
   "cell_type": "markdown",
   "metadata": {},
   "source": [
    "### Regression"
   ]
  },
  {
   "cell_type": "code",
   "execution_count": 61,
   "metadata": {},
   "outputs": [],
   "source": [
    "rg_clf = linear_model.LogisticRegression(C=1, penalty='l1')\n",
    "model_rg = rg_clf.fit(x_train, y_train)\n",
    "prediction['Regression'] = model_rg.predict(x_test)"
   ]
  },
  {
   "cell_type": "code",
   "execution_count": 71,
   "metadata": {},
   "outputs": [
    {
     "data": {
      "text/plain": [
       "['Regression_Predict_Rating.pkl']"
      ]
     },
     "execution_count": 71,
     "metadata": {},
     "output_type": "execute_result"
    }
   ],
   "source": [
    "joblib.dump(model_rg, 'Regression_Predict_Rating.pkl')"
   ]
  },
  {
   "cell_type": "markdown",
   "metadata": {},
   "source": [
    "### Results "
   ]
  },
  {
   "cell_type": "code",
   "execution_count": 64,
   "metadata": {},
   "outputs": [
    {
     "name": "stdout",
     "output_type": "stream",
     "text": [
      "0.14689265536723164\n",
      "0.17836965294592413\n",
      "0.15899919289749798\n",
      "0.15012106537530268\n",
      "0.1807909604519774\n"
     ]
    }
   ],
   "source": [
    "from  sklearn.metrics import accuracy_score\n",
    "print accuracy_score(y_test, prediction['DecisionTree'])\n",
    "print accuracy_score(y_test, prediction['NaiveBayes'])\n",
    "print accuracy_score(y_test, prediction['RandomForest'])\n",
    "print accuracy_score(y_test, prediction['GradientBoosting'])\n",
    "print accuracy_score(y_test, prediction['Regression'])"
   ]
  },
  {
   "cell_type": "code",
   "execution_count": null,
   "metadata": {},
   "outputs": [],
   "source": []
  }
 ],
 "metadata": {
  "kernelspec": {
   "display_name": "Python 2",
   "language": "python",
   "name": "python2"
  },
  "language_info": {
   "codemirror_mode": {
    "name": "ipython",
    "version": 2
   },
   "file_extension": ".py",
   "mimetype": "text/x-python",
   "name": "python",
   "nbconvert_exporter": "python",
   "pygments_lexer": "ipython2",
   "version": "2.7.14"
  }
 },
 "nbformat": 4,
 "nbformat_minor": 2
}
