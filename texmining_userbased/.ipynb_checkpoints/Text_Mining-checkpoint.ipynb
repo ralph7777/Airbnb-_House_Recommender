{
 "cells": [
  {
   "cell_type": "markdown",
   "metadata": {},
   "source": [
    "# Airbnb Housing Reviews"
   ]
  },
  {
   "cell_type": "markdown",
   "metadata": {},
   "source": [
    "### Group members: Kuangyi Zhang, Lanyixuan Xu, Jie Bao"
   ]
  },
  {
   "cell_type": "code",
   "execution_count": 220,
   "metadata": {},
   "outputs": [],
   "source": [
    "import pandas as pd\n",
    "import numpy as np\n",
    "import matplotlib.pyplot as plt\n",
    "import string"
   ]
  },
  {
   "cell_type": "markdown",
   "metadata": {},
   "source": [
    "# I. Data Preprocessing"
   ]
  },
  {
   "cell_type": "markdown",
   "metadata": {},
   "source": [
    "### Read the dataset"
   ]
  },
  {
   "cell_type": "code",
   "execution_count": 196,
   "metadata": {},
   "outputs": [],
   "source": [
    "housing_reviews = pd.read_table(\"reviews.csv\", header='infer', delimiter=\",\", na_values='?')"
   ]
  },
  {
   "cell_type": "code",
   "execution_count": 197,
   "metadata": {},
   "outputs": [
    {
     "data": {
      "text/plain": [
       "(132353, 7)"
      ]
     },
     "execution_count": 197,
     "metadata": {},
     "output_type": "execute_result"
    }
   ],
   "source": [
    "housing_reviews.shape"
   ]
  },
  {
   "cell_type": "code",
   "execution_count": 198,
   "metadata": {},
   "outputs": [
    {
     "data": {
      "text/html": [
       "<div>\n",
       "<style scoped>\n",
       "    .dataframe tbody tr th:only-of-type {\n",
       "        vertical-align: middle;\n",
       "    }\n",
       "\n",
       "    .dataframe tbody tr th {\n",
       "        vertical-align: top;\n",
       "    }\n",
       "\n",
       "    .dataframe thead th {\n",
       "        text-align: right;\n",
       "    }\n",
       "</style>\n",
       "<table border=\"1\" class=\"dataframe\">\n",
       "  <thead>\n",
       "    <tr style=\"text-align: right;\">\n",
       "      <th></th>\n",
       "      <th>listing_id</th>\n",
       "      <th>id</th>\n",
       "      <th>date</th>\n",
       "      <th>reviewer_id</th>\n",
       "      <th>reviewer_name</th>\n",
       "      <th>rating</th>\n",
       "      <th>comments</th>\n",
       "    </tr>\n",
       "  </thead>\n",
       "  <tbody>\n",
       "    <tr>\n",
       "      <th>0</th>\n",
       "      <td>1301530</td>\n",
       "      <td>13937403</td>\n",
       "      <td>6/8/14</td>\n",
       "      <td>55</td>\n",
       "      <td>Deborah</td>\n",
       "      <td>93</td>\n",
       "      <td>Great location downtown near everything! Host ...</td>\n",
       "    </tr>\n",
       "    <tr>\n",
       "      <th>1</th>\n",
       "      <td>192652</td>\n",
       "      <td>708419</td>\n",
       "      <td>11/10/11</td>\n",
       "      <td>99</td>\n",
       "      <td>Laura</td>\n",
       "      <td>97</td>\n",
       "      <td>Stephanie was awesome! Highly recommended, gre...</td>\n",
       "    </tr>\n",
       "    <tr>\n",
       "      <th>2</th>\n",
       "      <td>14081954</td>\n",
       "      <td>146698448</td>\n",
       "      <td>4/23/17</td>\n",
       "      <td>464</td>\n",
       "      <td>Jamison</td>\n",
       "      <td>100</td>\n",
       "      <td>The place was so cool. The whole family loved ...</td>\n",
       "    </tr>\n",
       "    <tr>\n",
       "      <th>3</th>\n",
       "      <td>9452418</td>\n",
       "      <td>75922280</td>\n",
       "      <td>5/23/16</td>\n",
       "      <td>706</td>\n",
       "      <td>Eamon</td>\n",
       "      <td>100</td>\n",
       "      <td>Anne is a very thoughtful host who left all th...</td>\n",
       "    </tr>\n",
       "    <tr>\n",
       "      <th>4</th>\n",
       "      <td>3385966</td>\n",
       "      <td>108126286</td>\n",
       "      <td>10/14/16</td>\n",
       "      <td>1143</td>\n",
       "      <td>Katie</td>\n",
       "      <td>97</td>\n",
       "      <td>Chad's place is awesome! It's a quiet, clean, ...</td>\n",
       "    </tr>\n",
       "  </tbody>\n",
       "</table>\n",
       "</div>"
      ],
      "text/plain": [
       "   listing_id         id      date  reviewer_id reviewer_name  rating  \\\n",
       "0     1301530   13937403    6/8/14           55       Deborah      93   \n",
       "1      192652     708419  11/10/11           99         Laura      97   \n",
       "2    14081954  146698448   4/23/17          464       Jamison     100   \n",
       "3     9452418   75922280   5/23/16          706         Eamon     100   \n",
       "4     3385966  108126286  10/14/16         1143         Katie      97   \n",
       "\n",
       "                                            comments  \n",
       "0  Great location downtown near everything! Host ...  \n",
       "1  Stephanie was awesome! Highly recommended, gre...  \n",
       "2  The place was so cool. The whole family loved ...  \n",
       "3  Anne is a very thoughtful host who left all th...  \n",
       "4  Chad's place is awesome! It's a quiet, clean, ...  "
      ]
     },
     "execution_count": 198,
     "metadata": {},
     "output_type": "execute_result"
    }
   ],
   "source": [
    "housing_reviews.head()"
   ]
  },
  {
   "cell_type": "code",
   "execution_count": 199,
   "metadata": {},
   "outputs": [
    {
     "data": {
      "text/html": [
       "<div>\n",
       "<style scoped>\n",
       "    .dataframe tbody tr th:only-of-type {\n",
       "        vertical-align: middle;\n",
       "    }\n",
       "\n",
       "    .dataframe tbody tr th {\n",
       "        vertical-align: top;\n",
       "    }\n",
       "\n",
       "    .dataframe thead th {\n",
       "        text-align: right;\n",
       "    }\n",
       "</style>\n",
       "<table border=\"1\" class=\"dataframe\">\n",
       "  <thead>\n",
       "    <tr style=\"text-align: right;\">\n",
       "      <th></th>\n",
       "      <th>count</th>\n",
       "      <th>unique</th>\n",
       "      <th>top</th>\n",
       "      <th>freq</th>\n",
       "      <th>mean</th>\n",
       "      <th>std</th>\n",
       "      <th>min</th>\n",
       "      <th>25%</th>\n",
       "      <th>50%</th>\n",
       "      <th>75%</th>\n",
       "      <th>max</th>\n",
       "    </tr>\n",
       "  </thead>\n",
       "  <tbody>\n",
       "    <tr>\n",
       "      <th>listing_id</th>\n",
       "      <td>132353</td>\n",
       "      <td>NaN</td>\n",
       "      <td>NaN</td>\n",
       "      <td>NaN</td>\n",
       "      <td>7.32167e+06</td>\n",
       "      <td>5.08661e+06</td>\n",
       "      <td>2384</td>\n",
       "      <td>2.73061e+06</td>\n",
       "      <td>6.88433e+06</td>\n",
       "      <td>1.19731e+07</td>\n",
       "      <td>1.85981e+07</td>\n",
       "    </tr>\n",
       "    <tr>\n",
       "      <th>id</th>\n",
       "      <td>132353</td>\n",
       "      <td>NaN</td>\n",
       "      <td>NaN</td>\n",
       "      <td>NaN</td>\n",
       "      <td>8.26275e+07</td>\n",
       "      <td>4.17666e+07</td>\n",
       "      <td>849</td>\n",
       "      <td>4.85532e+07</td>\n",
       "      <td>8.64855e+07</td>\n",
       "      <td>1.14583e+08</td>\n",
       "      <td>1.51007e+08</td>\n",
       "    </tr>\n",
       "    <tr>\n",
       "      <th>date</th>\n",
       "      <td>132353</td>\n",
       "      <td>2267</td>\n",
       "      <td>3/19/17</td>\n",
       "      <td>780</td>\n",
       "      <td>NaN</td>\n",
       "      <td>NaN</td>\n",
       "      <td>NaN</td>\n",
       "      <td>NaN</td>\n",
       "      <td>NaN</td>\n",
       "      <td>NaN</td>\n",
       "      <td>NaN</td>\n",
       "    </tr>\n",
       "    <tr>\n",
       "      <th>reviewer_id</th>\n",
       "      <td>132353</td>\n",
       "      <td>NaN</td>\n",
       "      <td>NaN</td>\n",
       "      <td>NaN</td>\n",
       "      <td>3.96426e+07</td>\n",
       "      <td>3.28041e+07</td>\n",
       "      <td>55</td>\n",
       "      <td>1.19079e+07</td>\n",
       "      <td>3.12252e+07</td>\n",
       "      <td>6.14423e+07</td>\n",
       "      <td>1.29263e+08</td>\n",
       "    </tr>\n",
       "    <tr>\n",
       "      <th>reviewer_name</th>\n",
       "      <td>132353</td>\n",
       "      <td>22527</td>\n",
       "      <td>Michael</td>\n",
       "      <td>1333</td>\n",
       "      <td>NaN</td>\n",
       "      <td>NaN</td>\n",
       "      <td>NaN</td>\n",
       "      <td>NaN</td>\n",
       "      <td>NaN</td>\n",
       "      <td>NaN</td>\n",
       "      <td>NaN</td>\n",
       "    </tr>\n",
       "    <tr>\n",
       "      <th>rating</th>\n",
       "      <td>132353</td>\n",
       "      <td>NaN</td>\n",
       "      <td>NaN</td>\n",
       "      <td>NaN</td>\n",
       "      <td>94.834</td>\n",
       "      <td>4.5955</td>\n",
       "      <td>0</td>\n",
       "      <td>93</td>\n",
       "      <td>96</td>\n",
       "      <td>98</td>\n",
       "      <td>100</td>\n",
       "    </tr>\n",
       "    <tr>\n",
       "      <th>comments</th>\n",
       "      <td>132206</td>\n",
       "      <td>130167</td>\n",
       "      <td>The host canceled this reservation the day bef...</td>\n",
       "      <td>211</td>\n",
       "      <td>NaN</td>\n",
       "      <td>NaN</td>\n",
       "      <td>NaN</td>\n",
       "      <td>NaN</td>\n",
       "      <td>NaN</td>\n",
       "      <td>NaN</td>\n",
       "      <td>NaN</td>\n",
       "    </tr>\n",
       "  </tbody>\n",
       "</table>\n",
       "</div>"
      ],
      "text/plain": [
       "                count  unique  \\\n",
       "listing_id     132353     NaN   \n",
       "id             132353     NaN   \n",
       "date           132353    2267   \n",
       "reviewer_id    132353     NaN   \n",
       "reviewer_name  132353   22527   \n",
       "rating         132353     NaN   \n",
       "comments       132206  130167   \n",
       "\n",
       "                                                             top  freq  \\\n",
       "listing_id                                                   NaN   NaN   \n",
       "id                                                           NaN   NaN   \n",
       "date                                                     3/19/17   780   \n",
       "reviewer_id                                                  NaN   NaN   \n",
       "reviewer_name                                            Michael  1333   \n",
       "rating                                                       NaN   NaN   \n",
       "comments       The host canceled this reservation the day bef...   211   \n",
       "\n",
       "                      mean          std   min          25%          50%  \\\n",
       "listing_id     7.32167e+06  5.08661e+06  2384  2.73061e+06  6.88433e+06   \n",
       "id             8.26275e+07  4.17666e+07   849  4.85532e+07  8.64855e+07   \n",
       "date                   NaN          NaN   NaN          NaN          NaN   \n",
       "reviewer_id    3.96426e+07  3.28041e+07    55  1.19079e+07  3.12252e+07   \n",
       "reviewer_name          NaN          NaN   NaN          NaN          NaN   \n",
       "rating              94.834       4.5955     0           93           96   \n",
       "comments               NaN          NaN   NaN          NaN          NaN   \n",
       "\n",
       "                       75%          max  \n",
       "listing_id     1.19731e+07  1.85981e+07  \n",
       "id             1.14583e+08  1.51007e+08  \n",
       "date                   NaN          NaN  \n",
       "reviewer_id    6.14423e+07  1.29263e+08  \n",
       "reviewer_name          NaN          NaN  \n",
       "rating                  98          100  \n",
       "comments               NaN          NaN  "
      ]
     },
     "execution_count": 199,
     "metadata": {},
     "output_type": "execute_result"
    }
   ],
   "source": [
    "housing_reviews.describe(include=\"all\").T"
   ]
  },
  {
   "cell_type": "code",
   "execution_count": 200,
   "metadata": {},
   "outputs": [
    {
     "data": {
      "text/plain": [
       "43"
      ]
     },
     "execution_count": 200,
     "metadata": {},
     "output_type": "execute_result"
    }
   ],
   "source": [
    "drop_rating_index = housing_reviews.index[housing_reviews.rating == 0]\n",
    "drop_rating_index.tolist()\n",
    "len(index)"
   ]
  },
  {
   "cell_type": "code",
   "execution_count": 201,
   "metadata": {},
   "outputs": [
    {
     "data": {
      "text/plain": [
       "(132310, 7)"
      ]
     },
     "execution_count": 201,
     "metadata": {},
     "output_type": "execute_result"
    }
   ],
   "source": [
    "housing_reviews = housing_reviews.drop(housing_reviews.index[drop_rating_index],axis = 0)\n",
    "housing_reviews.shape"
   ]
  },
  {
   "cell_type": "markdown",
   "metadata": {},
   "source": [
    "### Remove the misssing values for rating feature and users which number of the comments are smaller than 3"
   ]
  },
  {
   "cell_type": "code",
   "execution_count": 202,
   "metadata": {},
   "outputs": [
    {
     "name": "stdout",
     "output_type": "stream",
     "text": [
      "1650\n"
     ]
    }
   ],
   "source": [
    "upper_2 = housing_reviews['reviewer_id'].value_counts() > 2\n",
    "users = upper_2[upper_2].index.tolist()\n",
    "print len(users)"
   ]
  },
  {
   "cell_type": "code",
   "execution_count": 203,
   "metadata": {},
   "outputs": [
    {
     "data": {
      "text/plain": [
       "(6203, 7)"
      ]
     },
     "execution_count": 203,
     "metadata": {},
     "output_type": "execute_result"
    }
   ],
   "source": [
    "housing_reviews = housing_reviews[housing_reviews['reviewer_id'].isin(users)]\n",
    "housing_reviews.shape"
   ]
  },
  {
   "cell_type": "code",
   "execution_count": 204,
   "metadata": {},
   "outputs": [
    {
     "data": {
      "text/plain": [
       "reviewer_id\n",
       "4969         3\n",
       "5267         3\n",
       "11915        3\n",
       "15628        3\n",
       "21038        3\n",
       "32458        3\n",
       "32602        3\n",
       "45151        3\n",
       "50034        6\n",
       "76903        4\n",
       "78861        3\n",
       "85536        3\n",
       "100306       3\n",
       "101328       3\n",
       "104815       6\n",
       "115201       3\n",
       "140995       5\n",
       "175719       3\n",
       "183420       5\n",
       "185488       3\n",
       "195241       3\n",
       "196524       5\n",
       "205095       3\n",
       "210853       7\n",
       "218987       4\n",
       "220839       3\n",
       "228969       9\n",
       "233756       3\n",
       "235545       3\n",
       "240316       3\n",
       "            ..\n",
       "108581945    3\n",
       "108864982    3\n",
       "109058956    5\n",
       "109249300    7\n",
       "109484542    7\n",
       "109576079    4\n",
       "110001097    3\n",
       "110171013    3\n",
       "110353664    5\n",
       "110561281    3\n",
       "111269521    4\n",
       "111963179    6\n",
       "112094246    3\n",
       "112118918    3\n",
       "112170044    4\n",
       "112173219    3\n",
       "112479434    3\n",
       "113353272    4\n",
       "114269563    4\n",
       "115654524    3\n",
       "115765194    4\n",
       "115870278    3\n",
       "116588584    5\n",
       "117277155    3\n",
       "118859868    4\n",
       "119171731    3\n",
       "120226953    3\n",
       "121322930    3\n",
       "122239283    3\n",
       "122903399    8\n",
       "Name: reviewer_id, Length: 1650, dtype: int64"
      ]
     },
     "execution_count": 204,
     "metadata": {},
     "output_type": "execute_result"
    }
   ],
   "source": [
    "housing_reviews.groupby('reviewer_id')['reviewer_id'].count()"
   ]
  },
  {
   "cell_type": "code",
   "execution_count": 205,
   "metadata": {},
   "outputs": [
    {
     "data": {
      "text/html": [
       "<div>\n",
       "<style scoped>\n",
       "    .dataframe tbody tr th:only-of-type {\n",
       "        vertical-align: middle;\n",
       "    }\n",
       "\n",
       "    .dataframe tbody tr th {\n",
       "        vertical-align: top;\n",
       "    }\n",
       "\n",
       "    .dataframe thead th {\n",
       "        text-align: right;\n",
       "    }\n",
       "</style>\n",
       "<table border=\"1\" class=\"dataframe\">\n",
       "  <thead>\n",
       "    <tr style=\"text-align: right;\">\n",
       "      <th></th>\n",
       "      <th>count</th>\n",
       "      <th>unique</th>\n",
       "      <th>top</th>\n",
       "      <th>freq</th>\n",
       "      <th>mean</th>\n",
       "      <th>std</th>\n",
       "      <th>min</th>\n",
       "      <th>25%</th>\n",
       "      <th>50%</th>\n",
       "      <th>75%</th>\n",
       "      <th>max</th>\n",
       "    </tr>\n",
       "  </thead>\n",
       "  <tbody>\n",
       "    <tr>\n",
       "      <th>listing_id</th>\n",
       "      <td>6203</td>\n",
       "      <td>NaN</td>\n",
       "      <td>NaN</td>\n",
       "      <td>NaN</td>\n",
       "      <td>7.26453e+06</td>\n",
       "      <td>5.24581e+06</td>\n",
       "      <td>2384</td>\n",
       "      <td>2.51563e+06</td>\n",
       "      <td>6.51641e+06</td>\n",
       "      <td>1.21646e+07</td>\n",
       "      <td>1.845e+07</td>\n",
       "    </tr>\n",
       "    <tr>\n",
       "      <th>id</th>\n",
       "      <td>6203</td>\n",
       "      <td>NaN</td>\n",
       "      <td>NaN</td>\n",
       "      <td>NaN</td>\n",
       "      <td>8.23947e+07</td>\n",
       "      <td>4.30449e+07</td>\n",
       "      <td>48962</td>\n",
       "      <td>4.73746e+07</td>\n",
       "      <td>8.36783e+07</td>\n",
       "      <td>1.21813e+08</td>\n",
       "      <td>1.50884e+08</td>\n",
       "    </tr>\n",
       "    <tr>\n",
       "      <th>date</th>\n",
       "      <td>6203</td>\n",
       "      <td>1264</td>\n",
       "      <td>3/12/17</td>\n",
       "      <td>32</td>\n",
       "      <td>NaN</td>\n",
       "      <td>NaN</td>\n",
       "      <td>NaN</td>\n",
       "      <td>NaN</td>\n",
       "      <td>NaN</td>\n",
       "      <td>NaN</td>\n",
       "      <td>NaN</td>\n",
       "    </tr>\n",
       "    <tr>\n",
       "      <th>reviewer_id</th>\n",
       "      <td>6203</td>\n",
       "      <td>NaN</td>\n",
       "      <td>NaN</td>\n",
       "      <td>NaN</td>\n",
       "      <td>3.05794e+07</td>\n",
       "      <td>2.95934e+07</td>\n",
       "      <td>4969</td>\n",
       "      <td>6.87693e+06</td>\n",
       "      <td>2.15578e+07</td>\n",
       "      <td>4.43877e+07</td>\n",
       "      <td>1.22903e+08</td>\n",
       "    </tr>\n",
       "    <tr>\n",
       "      <th>reviewer_name</th>\n",
       "      <td>6203</td>\n",
       "      <td>955</td>\n",
       "      <td>Michael</td>\n",
       "      <td>89</td>\n",
       "      <td>NaN</td>\n",
       "      <td>NaN</td>\n",
       "      <td>NaN</td>\n",
       "      <td>NaN</td>\n",
       "      <td>NaN</td>\n",
       "      <td>NaN</td>\n",
       "      <td>NaN</td>\n",
       "    </tr>\n",
       "    <tr>\n",
       "      <th>rating</th>\n",
       "      <td>6203</td>\n",
       "      <td>NaN</td>\n",
       "      <td>NaN</td>\n",
       "      <td>NaN</td>\n",
       "      <td>95.2104</td>\n",
       "      <td>4.208</td>\n",
       "      <td>40</td>\n",
       "      <td>94</td>\n",
       "      <td>96</td>\n",
       "      <td>98</td>\n",
       "      <td>100</td>\n",
       "    </tr>\n",
       "    <tr>\n",
       "      <th>comments</th>\n",
       "      <td>6200</td>\n",
       "      <td>6113</td>\n",
       "      <td>The host canceled this reservation the day bef...</td>\n",
       "      <td>15</td>\n",
       "      <td>NaN</td>\n",
       "      <td>NaN</td>\n",
       "      <td>NaN</td>\n",
       "      <td>NaN</td>\n",
       "      <td>NaN</td>\n",
       "      <td>NaN</td>\n",
       "      <td>NaN</td>\n",
       "    </tr>\n",
       "  </tbody>\n",
       "</table>\n",
       "</div>"
      ],
      "text/plain": [
       "              count unique                                                top  \\\n",
       "listing_id     6203    NaN                                                NaN   \n",
       "id             6203    NaN                                                NaN   \n",
       "date           6203   1264                                            3/12/17   \n",
       "reviewer_id    6203    NaN                                                NaN   \n",
       "reviewer_name  6203    955                                            Michael   \n",
       "rating         6203    NaN                                                NaN   \n",
       "comments       6200   6113  The host canceled this reservation the day bef...   \n",
       "\n",
       "              freq         mean          std    min          25%          50%  \\\n",
       "listing_id     NaN  7.26453e+06  5.24581e+06   2384  2.51563e+06  6.51641e+06   \n",
       "id             NaN  8.23947e+07  4.30449e+07  48962  4.73746e+07  8.36783e+07   \n",
       "date            32          NaN          NaN    NaN          NaN          NaN   \n",
       "reviewer_id    NaN  3.05794e+07  2.95934e+07   4969  6.87693e+06  2.15578e+07   \n",
       "reviewer_name   89          NaN          NaN    NaN          NaN          NaN   \n",
       "rating         NaN      95.2104        4.208     40           94           96   \n",
       "comments        15          NaN          NaN    NaN          NaN          NaN   \n",
       "\n",
       "                       75%          max  \n",
       "listing_id     1.21646e+07    1.845e+07  \n",
       "id             1.21813e+08  1.50884e+08  \n",
       "date                   NaN          NaN  \n",
       "reviewer_id    4.43877e+07  1.22903e+08  \n",
       "reviewer_name          NaN          NaN  \n",
       "rating                  98          100  \n",
       "comments               NaN          NaN  "
      ]
     },
     "execution_count": 205,
     "metadata": {},
     "output_type": "execute_result"
    }
   ],
   "source": [
    "housing_reviews.describe(include=\"all\").T"
   ]
  },
  {
   "cell_type": "markdown",
   "metadata": {},
   "source": [
    "### Separate into test and target variables"
   ]
  },
  {
   "cell_type": "code",
   "execution_count": 209,
   "metadata": {},
   "outputs": [
    {
     "data": {
      "text/plain": [
       "count    6203.000000\n",
       "mean       95.210382\n",
       "std         4.208000\n",
       "min        40.000000\n",
       "25%        94.000000\n",
       "50%        96.000000\n",
       "75%        98.000000\n",
       "max       100.000000\n",
       "Name: rating, dtype: float64"
      ]
     },
     "execution_count": 209,
     "metadata": {},
     "output_type": "execute_result"
    }
   ],
   "source": [
    "reviews_target = housing_reviews['rating']\n",
    "reviews_x = housing_reviews[['listing_id', 'id', 'date', 'reviewer_id', 'reviewer_name', 'comments']]\n",
    "reviews_target.describe()"
   ]
  },
  {
   "cell_type": "code",
   "execution_count": 210,
   "metadata": {},
   "outputs": [
    {
     "data": {
      "text/plain": [
       "<matplotlib.axes._subplots.AxesSubplot at 0x1a2d4405d0>"
      ]
     },
     "execution_count": 210,
     "metadata": {},
     "output_type": "execute_result"
    },
    {
     "data": {
      "image/png": "[encoded data removed]",
      "text/plain": [
       "<matplotlib.figure.Figure at 0x12538ec10>"
      ]
     },
     "metadata": {},
     "output_type": "display_data"
    }
   ],
   "source": [
    "%matplotlib inline\n",
    "reviews_target.plot(kind=\"hist\", bins=10)"
   ]
  },
  {
   "cell_type": "markdown",
   "metadata": {},
   "source": [
    "# 2. Document Text Mining Preprocessing"
   ]
  },
  {
   "cell_type": "markdown",
   "metadata": {},
   "source": [
    "### 2.1 Functions used for preprocessing the text and parsing"
   ]
  },
  {
   "cell_type": "code",
   "execution_count": 211,
   "metadata": {},
   "outputs": [],
   "source": [
    "import nltk\n",
    "from nltk.stem import PorterStemmer\n",
    "from nltk.tokenize import word_tokenize, sent_tokenize"
   ]
  },
  {
   "cell_type": "code",
   "execution_count": 212,
   "metadata": {},
   "outputs": [],
   "source": [
    "#the words which appear frequently in the document\n",
    "words_to_remove=['i', 'me', 'my', 'myself', 'we', 'our', 'ours', 'ourselves', 'you', 'your', 'yours',\n",
    "'yourself', 'yourselves', 'he', 'him', 'his', 'himself', 'she', 'her', 'hers',\n",
    "'herself', 'it', 'its', 'itself', 'they', 'them', 'their', 'theirs', 'themselves',\n",
    "'what', 'which', 'who', 'whom', 'this', 'that', 'these', 'those', 'am', 'is', 'are',\n",
    "'was', 'were', 'be', 'been', 'being', 'have', 'has', 'had', 'having', 'do', 'does',\n",
    "'did', 'doing', 'a', 'an', 'the', 'and', 'but', 'if', 'or', 'because', 'as', 'until',\n",
    "'while', 'of', 'at', 'by', 'for', 'with', 'about', 'against', 'between', 'into',\n",
    "'through', 'during', 'before', 'after', 'above', 'below', 'to', 'from', 'up', 'down',\n",
    "'in', 'out', 'on', 'off', 'over', 'under', 'again', 'further', 'then', 'once', 'here',\n",
    "'there', 'when', 'where', 'why', 'how', 'all', 'any', 'both', 'each', 'few', 'more',\n",
    "'most', 'other', 'some', 'such', 'no', 'nor', 'not', 'only', 'own', 'same', 'so',\n",
    "'than', 'too', 'very', 's', 't', 'can', 'will', 'just', 'don', 'should', 'now']"
   ]
  },
  {
   "cell_type": "code",
   "execution_count": null,
   "metadata": {},
   "outputs": [],
   "source": [
    "# Remove stopwords, tokenize and stemming\n",
    "import nltk\n",
    "from nltk.stem.porter import PorterStemmer\n",
    "def clean_my_data(text):\n",
    "    stemmer = PorterStemmer()\n",
    "    clean_text=[]\n",
    "    tokens = nltk.word_tokenize(str(line))\n",
    "    tagged = nltk.pos_tag(tokens)\n",
    "    container=[]\n",
    "    for words in tagged:\n",
    "        if (words[1][0] == 'N' or words[1][0]=='J') and (words[1][0] not in words_to_remove):\n",
    "            words[0] = stemmer.stem(words[0])\n",
    "            container.append(words[0])\n",
    "    clean_text.append(container)\n",
    "    return clean_text"
   ]
  },
  {
   "cell_type": "code",
   "execution_count": null,
   "metadata": {},
   "outputs": [],
   "source": [
    "from bs4 import BeautifulSoup\n",
    "comments = np.array(reviews_x['comments'])\n",
    "len(comments)"
   ]
  },
  {
   "cell_type": "code",
   "execution_count": null,
   "metadata": {},
   "outputs": [],
   "source": [
    "clena_comments = []\n",
    "text = BeautifulSoup(comments[0]).get_text()\n",
    "text = clean_my_data(text)\n",
    "clena_comments.append(text)"
   ]
  }
 ],
 "metadata": {
  "kernelspec": {
   "display_name": "Python 2",
   "language": "python",
   "name": "python2"
  },
  "language_info": {
   "codemirror_mode": {
    "name": "ipython",
    "version": 2
   },
   "file_extension": ".py",
   "mimetype": "text/x-python",
   "name": "python",
   "nbconvert_exporter": "python",
   "pygments_lexer": "ipython2",
   "version": "2.7.14"
  }
 },
 "nbformat": 4,
 "nbformat_minor": 2
}
